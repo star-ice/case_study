{
 "cells": [
  {
   "cell_type": "markdown",
   "metadata": {},
   "source": [
    "<h1>Analyse the reason why active plaintiffs exit</h1>"
   ]
  },
  {
   "cell_type": "code",
   "execution_count": 238,
   "metadata": {
    "code_folding": [
     0
    ]
   },
   "outputs": [
    {
     "data": {
      "text/html": [
       "        <script type=\"text/javascript\">\n",
       "        window.PlotlyConfig = {MathJaxConfig: 'local'};\n",
       "        if (window.MathJax) {MathJax.Hub.Config({SVG: {font: \"STIX-Web\"}});}\n",
       "        if (typeof require !== 'undefined') {\n",
       "        require.undef(\"plotly\");\n",
       "        requirejs.config({\n",
       "            paths: {\n",
       "                'plotly': ['https://cdn.plot.ly/plotly-latest.min']\n",
       "            }\n",
       "        });\n",
       "        require(['plotly'], function(Plotly) {\n",
       "            window._Plotly = Plotly;\n",
       "        });\n",
       "        }\n",
       "        </script>\n",
       "        "
      ]
     },
     "metadata": {},
     "output_type": "display_data"
    }
   ],
   "source": [
    "#coding:utf-8\n",
    "import networkx as nx\n",
    "from networkx.algorithms import bipartite\n",
    "import pandas as pd\n",
    "import numpy as np\n",
    "import re\n",
    "from IPython.display import display, HTML\n",
    "import matplotlib.pyplot as plt\n",
    "import os\n",
    "import cn2an\n",
    "import chinese2digits as c2d\n",
    "import operator\n",
    "import plotly.express as px\n",
    "import plotly\n",
    "import plotly.graph_objects as go\n",
    "import plotly as py\n",
    "import plotly.offline as offline\n",
    "offline.init_notebook_mode(connected=True)\n",
    "from urllib.request import urlopen\n",
    "import json\n",
    "import requests\n",
    "from plotly.subplots import make_subplots\n",
    "from matplotlib import pyplot as plt\n",
    "from collections import Counter\n",
    "import seaborn as sns\n",
    "mapbox_access_token = \"pk.eyJ1Ijoic3RhcmljZSIsImEiOiJjazN6Y2s5dTUxY2R6M2xxcHllbXk4YWFzIn0.lActFqLzqRWGn7dqr4BShw\"\n",
    "px.set_mapbox_access_token(mapbox_access_token)"
   ]
  },
  {
   "cell_type": "code",
   "execution_count": 3,
   "metadata": {},
   "outputs": [],
   "source": [
    "# 在后面绘制地区区域划分图会用到\n",
    "with open(\"/Users/starice/OwnFiles/cityu/RA/case_study/code/case_process/china_province.geojson\") as f:\n",
    "    provinces_map = json.load(f)"
   ]
  },
  {
   "cell_type": "code",
   "execution_count": 4,
   "metadata": {},
   "outputs": [],
   "source": [
    "all_cases = pd.read_csv('/Users/starice/OwnFiles/cityu/RA/case_study/data/total_extracted_result/all_cases.csv', encoding=\"utf-8\")\n",
    "#获取所有一审案件\n",
    "first_cases = all_cases[all_cases['procedure']==\"一审\"]\n",
    "# 获取所有案件原告的节点度并排序\n",
    "degree_1stplaintiffs = first_cases.groupby(\"plaintiff\")['case_id'].unique().reset_index()\n",
    "degree_1stplaintiffs['case_count'] = degree_1stplaintiffs['case_id'].apply(lambda r: len(r))\n",
    "degree_1stplaintiffs.sort_values(by=\"case_count\", inplace=True, ascending=False)"
   ]
  },
  {
   "cell_type": "markdown",
   "metadata": {},
   "source": [
    "<h2>2.4 活跃原告退出的原因分析（胜率，金额等等， 以前1000个为例），接activePlaintiffPatterns2</h2><br>\n",
    "<p>可能的原因：<br>\n",
    "    1. 退出前一年赢率是否下降, <br>\n",
    "    2. 退出前一年获得的惩罚金是否下降, <br>\n",
    "    3. 职业生涯中赢率下降次数, <br>\n",
    "    4. 职业生涯中惩罚金下降次数, <br>\n",
    "    5. 职业生涯整体赢率下降了多少, <br>\n",
    "    6. 职业生涯整体获得的惩罚金下降了多少, <br>\n",
    "    7. 职业生涯整体赢率平均数, <br>\n",
    "    8. 职业生涯整体获得的惩罚金平均数<br>\n",
    "</p><br>\n",
    "<p>活跃原告退出的定义: <br>\n",
    "    1. 退出到再提起上诉（如果没有就是2020年）超过一年<br>\n",
    "</p>"
   ]
  },
  {
   "cell_type": "markdown",
   "metadata": {},
   "source": [
    "<h3>Build Data</h3>"
   ]
  },
  {
   "cell_type": "code",
   "execution_count": 5,
   "metadata": {
    "collapsed": true
   },
   "outputs": [
    {
     "name": "stderr",
     "output_type": "stream",
     "text": [
      "/opt/anaconda3/lib/python3.8/site-packages/pandas/core/frame.py:4906: SettingWithCopyWarning:\n",
      "\n",
      "\n",
      "A value is trying to be set on a copy of a slice from a DataFrame\n",
      "\n",
      "See the caveats in the documentation: https://pandas.pydata.org/pandas-docs/stable/user_guide/indexing.html#returning-a-view-versus-a-copy\n",
      "\n"
     ]
    },
    {
     "data": {
      "text/html": [
       "<div>\n",
       "<style scoped>\n",
       "    .dataframe tbody tr th:only-of-type {\n",
       "        vertical-align: middle;\n",
       "    }\n",
       "\n",
       "    .dataframe tbody tr th {\n",
       "        vertical-align: top;\n",
       "    }\n",
       "\n",
       "    .dataframe thead th {\n",
       "        text-align: right;\n",
       "    }\n",
       "</style>\n",
       "<table border=\"1\" class=\"dataframe\">\n",
       "  <thead>\n",
       "    <tr style=\"text-align: right;\">\n",
       "      <th></th>\n",
       "      <th>Unnamed: 0</th>\n",
       "      <th>case_id</th>\n",
       "      <th>judgement_date</th>\n",
       "      <th>is_success</th>\n",
       "      <th>court_name</th>\n",
       "      <th>procedure</th>\n",
       "      <th>judge</th>\n",
       "      <th>legalfee</th>\n",
       "      <th>objectmoney</th>\n",
       "      <th>province</th>\n",
       "      <th>city</th>\n",
       "      <th>reason</th>\n",
       "      <th>district</th>\n",
       "      <th>penalty</th>\n",
       "      <th>year</th>\n",
       "      <th>month</th>\n",
       "      <th>day</th>\n",
       "      <th>plaintiff</th>\n",
       "      <th>defendant</th>\n",
       "      <th>lawyer</th>\n",
       "    </tr>\n",
       "  </thead>\n",
       "  <tbody>\n",
       "    <tr>\n",
       "      <th>4</th>\n",
       "      <td>4</td>\n",
       "      <td>57abb74ac2265c258984430a</td>\n",
       "      <td>2014-01-28</td>\n",
       "      <td>TRUE</td>\n",
       "      <td>嘉善县人民法院</td>\n",
       "      <td>一审</td>\n",
       "      <td>吕学强</td>\n",
       "      <td>25.0</td>\n",
       "      <td>450.0</td>\n",
       "      <td>浙江省</td>\n",
       "      <td>嘉兴市</td>\n",
       "      <td>民事案由</td>\n",
       "      <td>嘉善县</td>\n",
       "      <td>450.0</td>\n",
       "      <td>2014</td>\n",
       "      <td>1</td>\n",
       "      <td>28</td>\n",
       "      <td>白世桥</td>\n",
       "      <td>嘉善大润发商业有限公司</td>\n",
       "      <td>NaN</td>\n",
       "    </tr>\n",
       "    <tr>\n",
       "      <th>28</th>\n",
       "      <td>28</td>\n",
       "      <td>57babb26c2265c5f452d3408</td>\n",
       "      <td>2014-01-08</td>\n",
       "      <td>TRUE</td>\n",
       "      <td>宁陕县人民法院</td>\n",
       "      <td>一审</td>\n",
       "      <td>王晓</td>\n",
       "      <td>50.0</td>\n",
       "      <td>18.0</td>\n",
       "      <td>陕西省</td>\n",
       "      <td>安康市</td>\n",
       "      <td>买卖合同纠纷</td>\n",
       "      <td>宁陕县</td>\n",
       "      <td>180.0</td>\n",
       "      <td>2014</td>\n",
       "      <td>1</td>\n",
       "      <td>8</td>\n",
       "      <td>孙安民</td>\n",
       "      <td>宁陕县永乐商贸有限公司</td>\n",
       "      <td>NaN</td>\n",
       "    </tr>\n",
       "    <tr>\n",
       "      <th>34</th>\n",
       "      <td>34</td>\n",
       "      <td>5842f0a72f12c650631af80b</td>\n",
       "      <td>2014-01-20</td>\n",
       "      <td>TRUE</td>\n",
       "      <td>北京市昌平区人民法院</td>\n",
       "      <td>一审</td>\n",
       "      <td>尤文静</td>\n",
       "      <td>25.0</td>\n",
       "      <td>319.0</td>\n",
       "      <td>北京市</td>\n",
       "      <td>北京市</td>\n",
       "      <td>买卖合同纠纷</td>\n",
       "      <td>昌平区</td>\n",
       "      <td>3196.0</td>\n",
       "      <td>2014</td>\n",
       "      <td>1</td>\n",
       "      <td>20</td>\n",
       "      <td>宫效伟</td>\n",
       "      <td>北京华联综合超市股份有限公司昌平分公司</td>\n",
       "      <td>NaN</td>\n",
       "    </tr>\n",
       "    <tr>\n",
       "      <th>35</th>\n",
       "      <td>35</td>\n",
       "      <td>5842f0a72f12c650631af80b</td>\n",
       "      <td>2014-01-20</td>\n",
       "      <td>TRUE</td>\n",
       "      <td>北京市昌平区人民法院</td>\n",
       "      <td>一审</td>\n",
       "      <td>尤文静</td>\n",
       "      <td>25.0</td>\n",
       "      <td>319.0</td>\n",
       "      <td>北京市</td>\n",
       "      <td>北京市</td>\n",
       "      <td>买卖合同纠纷</td>\n",
       "      <td>昌平区</td>\n",
       "      <td>3196.0</td>\n",
       "      <td>2014</td>\n",
       "      <td>1</td>\n",
       "      <td>20</td>\n",
       "      <td>宫效伟</td>\n",
       "      <td>北京华联综合超市股份有限公司</td>\n",
       "      <td>NaN</td>\n",
       "    </tr>\n",
       "    <tr>\n",
       "      <th>38</th>\n",
       "      <td>38</td>\n",
       "      <td>57b80934c2265c6884a39558</td>\n",
       "      <td>2014-01-06</td>\n",
       "      <td>TRUE</td>\n",
       "      <td>上海市长宁区人民法院</td>\n",
       "      <td>一审</td>\n",
       "      <td>陈婷婷</td>\n",
       "      <td>25.0</td>\n",
       "      <td>356.0</td>\n",
       "      <td>上海市</td>\n",
       "      <td>上海市</td>\n",
       "      <td>买卖合同纠纷</td>\n",
       "      <td>长宁区</td>\n",
       "      <td>3560.0</td>\n",
       "      <td>2014</td>\n",
       "      <td>1</td>\n",
       "      <td>6</td>\n",
       "      <td>阎家明</td>\n",
       "      <td>上海元立投资管理有限公司</td>\n",
       "      <td>张钧</td>\n",
       "    </tr>\n",
       "  </tbody>\n",
       "</table>\n",
       "</div>"
      ],
      "text/plain": [
       "    Unnamed: 0                   case_id judgement_date is_success  \\\n",
       "4            4  57abb74ac2265c258984430a     2014-01-28       TRUE   \n",
       "28          28  57babb26c2265c5f452d3408     2014-01-08       TRUE   \n",
       "34          34  5842f0a72f12c650631af80b     2014-01-20       TRUE   \n",
       "35          35  5842f0a72f12c650631af80b     2014-01-20       TRUE   \n",
       "38          38  57b80934c2265c6884a39558     2014-01-06       TRUE   \n",
       "\n",
       "    court_name procedure judge  legalfee  objectmoney province city  reason  \\\n",
       "4      嘉善县人民法院        一审   吕学强      25.0        450.0      浙江省  嘉兴市    民事案由   \n",
       "28     宁陕县人民法院        一审    王晓      50.0         18.0      陕西省  安康市  买卖合同纠纷   \n",
       "34  北京市昌平区人民法院        一审   尤文静      25.0        319.0      北京市  北京市  买卖合同纠纷   \n",
       "35  北京市昌平区人民法院        一审   尤文静      25.0        319.0      北京市  北京市  买卖合同纠纷   \n",
       "38  上海市长宁区人民法院        一审   陈婷婷      25.0        356.0      上海市  上海市  买卖合同纠纷   \n",
       "\n",
       "   district  penalty  year  month  day plaintiff            defendant lawyer  \n",
       "4       嘉善县    450.0  2014      1   28       白世桥          嘉善大润发商业有限公司    NaN  \n",
       "28      宁陕县    180.0  2014      1    8       孙安民          宁陕县永乐商贸有限公司    NaN  \n",
       "34      昌平区   3196.0  2014      1   20       宫效伟  北京华联综合超市股份有限公司昌平分公司    NaN  \n",
       "35      昌平区   3196.0  2014      1   20       宫效伟       北京华联综合超市股份有限公司    NaN  \n",
       "38      长宁区   3560.0  2014      1    6       阎家明         上海元立投资管理有限公司     张钧  "
      ]
     },
     "execution_count": 5,
     "metadata": {},
     "output_type": "execute_result"
    }
   ],
   "source": [
    "fps_1000 = degree_1stplaintiffs[:1000]\n",
    "n1stcp_1000 = first_cases[first_cases['plaintiff'].isin(fps_1000['plaintiff'])]\n",
    "# nselected_1stcp_1000 = first_cases\n",
    "n1stcp_1000.drop(n1stcp_1000[n1stcp_1000['plaintiff'].isin([\"XX\", \"xx\", \"**\", '', '***', 'x', 'X'])].index, inplace=True)\n",
    "n1stcp_1000.head()"
   ]
  },
  {
   "cell_type": "code",
   "execution_count": 39,
   "metadata": {
    "code_folding": [
     0
    ]
   },
   "outputs": [
    {
     "data": {
      "text/plain": [
       "{3: [1, 2], 16: [5, 6, 7]}"
      ]
     },
     "execution_count": 39,
     "metadata": {},
     "output_type": "execute_result"
    }
   ],
   "source": [
    "def split_num_l(num_lst):\n",
    "    \"\"\"merge successive num, sort lst(ascending or descending): 'as' or 'des'\n",
    "    eg: [1, 3,4,5,6, 9,10] -> [[1], [3, 4, 5, 6], [9, 10]]\n",
    "    \"\"\"\n",
    "    num_lst_tmp = [int(n) for n in num_lst]\n",
    "    sort_lst = sorted(num_lst_tmp)  # ascending\n",
    "    len_lst = len(sort_lst)\n",
    "    i = 0\n",
    "    split_lst = []\n",
    "    \n",
    "    tmp_lst = [sort_lst[i]]\n",
    "    dif_lst = {}\n",
    "    while True:\n",
    "        if i + 1 == len_lst:\n",
    "            break\n",
    "        next_n = sort_lst[i+1]\n",
    "        if sort_lst[i] + 1 == next_n:\n",
    "            tmp_lst.append(next_n)\n",
    "        else:\n",
    "#             dif_lst.append(next_n - sort_lst[i])\n",
    "            split_lst.append(tmp_lst)\n",
    "            dif_lst[next_n - sort_lst[i]] = tmp_lst\n",
    "            tmp_lst = [next_n]\n",
    "        i += 1\n",
    "    split_lst.append(tmp_lst)\n",
    "    return dif_lst\n",
    "\n",
    "def is_exit(row):\n",
    "    \n",
    "    row['is_exit'] = 0\n",
    "    if (2020 - row['final_year'] >= 2 and row['year'] == row['final_year']): row['is_exit'] = 1\n",
    "    if len(row['splitted_years']) > 1:\n",
    "        for k, v in row['splitted_years'].items():\n",
    "            if k >= 2 and row['year'] == v[-1]:\n",
    "                row['is_exit'] = 1\n",
    "    return row\n",
    "split_num_l([1, 2, 5, 6, 7, 23, 24, 25])"
   ]
  },
  {
   "cell_type": "code",
   "execution_count": 358,
   "metadata": {},
   "outputs": [],
   "source": [
    "# 重新定义活跃分子退出\n",
    "# 找到所有符合退出条件的活跃原告\n",
    "# 构建feature数据\n",
    "def build_data(oriDf, features):\n",
    "    \n",
    "    gb1stcp_1000 = n1stcp_1000.groupby(['plaintiff', 'year'])['case_id'].nunique().reset_index()\n",
    "    df1 = n1stcp_1000.groupby('plaintiff').apply(lambda x: sorted(list(set(x['year'])))).reset_index() \n",
    "    df1['final_year'] = df1[0].apply(lambda x: max(x))\n",
    "    df1['len_years'] = df1[0].apply(lambda x: len(x))\n",
    "    df1['splitted_years'] = df1[0].apply(lambda x: split_num_l(x))\n",
    "    # df1 = df1.apply(lambda row: is_exit(row), axis=1)\n",
    "    gb1stcp_1000 = gb1stcp_1000.merge(df1, how=\"left\")\n",
    "    gb1stcp_1000 = gb1stcp_1000.apply(lambda row: is_exit(row), axis=1)\n",
    "    gb1stcp_1000 = gb1stcp_1000\n",
    "\n",
    "    tpf_nselected_1stcp_cc = n1stcp_1000.groupby(['plaintiff', 'year'])['case_id'].nunique().reset_index()\n",
    "    tpf_nselected_1stcp_sc = n1stcp_1000[n1stcp_1000['is_success']==\"TRUE\"].groupby(['plaintiff', 'year'])['case_id'].nunique().reset_index()\n",
    "    tpf_nselected_1stcp_sc.rename(columns={\"case_id\": \"success_count\"}, inplace=True)\n",
    "    tpf_nselected_1stcp = tpf_nselected_1stcp_cc.merge(tpf_nselected_1stcp_sc, how=\"left\")\n",
    "    tpf_nselected_1stcp.fillna(0, inplace=True)\n",
    "    tpf_nselected_1stcp.rename(columns={\"case_id\": \"case_count\"}, inplace=True)\n",
    "    tpf_nselected_1stcp['success_rate'] = tpf_nselected_1stcp['success_count'] / tpf_nselected_1stcp['case_count']\n",
    "    # display(tpf_nselected_1stcp.head())\n",
    "\n",
    "    tpf_nselected_1stcp_mc = n1stcp_1000.groupby(['plaintiff', 'year'])['penalty'].sum().reset_index()\n",
    "    tpf_nselected_1stcp_om = n1stcp_1000.groupby(['plaintiff', 'year'])['objectmoney'].sum().reset_index()\n",
    "    tpf_nselected_1stcp = tpf_nselected_1stcp.merge(tpf_nselected_1stcp_mc)\n",
    "    tpf_nselected_1stcp = tpf_nselected_1stcp.merge(tpf_nselected_1stcp_om)\n",
    "\n",
    "    gbtpf1stcp_1000 = gb1stcp_1000.merge(tpf_nselected_1stcp, on=['plaintiff', 'year'], how=\"left\")\n",
    "    gbtpf1stcp_1000['sr_last_year'] = gbtpf1stcp_1000.groupby('plaintiff')['success_rate'].shift()\n",
    "    gbtpf1stcp_1000['penalty_last_year'] = gbtpf1stcp_1000.groupby('plaintiff')['penalty'].shift()\n",
    "\n",
    "    gbtpf1stcp_1000['sr_1yr_drop'] = gbtpf1stcp_1000['success_rate'] - gbtpf1stcp_1000['sr_last_year']\n",
    "    gbtpf1stcp_1000['penalty_1yr_drop'] = gbtpf1stcp_1000['penalty'] - gbtpf1stcp_1000['penalty_last_year']\n",
    "    gbtpf1stcp_1000['total_active_years'] = gbtpf1stcp_1000[0].apply(lambda x: len(x))\n",
    "    gbtpf1stcp_1000.fillna(0, inplace=True)\n",
    "\n",
    "    gbtpf1stcp_1000 = gbtpf1stcp_1000.join(gbtpf1stcp_1000.groupby('plaintiff')['sr_1yr_drop'].apply(lambda r: sum(r<0)), on='plaintiff', rsuffix='_count')\n",
    "    gbtpf1stcp_1000 = gbtpf1stcp_1000.join(gbtpf1stcp_1000.groupby('plaintiff')['penalty_1yr_drop'].apply(lambda r: sum(r<0)), on='plaintiff', rsuffix='_count')\n",
    "\n",
    "    gbtpf1stcp_1000 = gbtpf1stcp_1000.join(gbtpf1stcp_1000.groupby('plaintiff')['sr_1yr_drop'].apply(lambda r: r[r<0].sum()) , on='plaintiff', rsuffix='_sum')\n",
    "    gbtpf1stcp_1000 = gbtpf1stcp_1000.join(gbtpf1stcp_1000.groupby('plaintiff')['penalty_1yr_drop'].apply(lambda r: r[r<0].sum()), on='plaintiff', rsuffix='_sum')\n",
    "\n",
    "\n",
    "    gbtpf1stcp_1000 = gbtpf1stcp_1000.join(gbtpf1stcp_1000.groupby('plaintiff')['success_rate'].mean(), on='plaintiff', rsuffix='_mean')\n",
    "    gbtpf1stcp_1000 = gbtpf1stcp_1000.join(gbtpf1stcp_1000.groupby('plaintiff')['penalty'].mean(), on='plaintiff', rsuffix='_mean')\n",
    "    gbtpf1stcp_1000 = gbtpf1stcp_1000.join(gbtpf1stcp_1000.groupby('plaintiff')['objectmoney'].mean(), on='plaintiff', rsuffix='_mean')\n",
    "\n",
    "\n",
    "    gbtpf1stcp_1000['sr_1yr_drop_sum'] = abs(gbtpf1stcp_1000['sr_1yr_drop_sum'])\n",
    "    gbtpf1stcp_1000['penalty_1yr_drop_sum'] = abs(gbtpf1stcp_1000['penalty_1yr_drop_sum'])\n",
    "\n",
    "    # display(gbtpf1stcp_1000.head())\n",
    "    gbtpf1stcp_1000 = gbtpf1stcp_1000[gbtpf1stcp_1000['year']==gbtpf1stcp_1000['final_year']]\n",
    "    gbtpf1stcp_1000['sr_1yr_drop_bool'] = gbtpf1stcp_1000['sr_1yr_drop'].apply(lambda r: True if r<0 else False)\n",
    "    gbtpf1stcp_1000['penalty_1yr_drop_bool'] = gbtpf1stcp_1000['penalty_1yr_drop'].apply(lambda r: True if r<0 else False)\n",
    "\n",
    "    gbtpf1stcp_1000['sr_1yr_drop'] = abs(gbtpf1stcp_1000['sr_1yr_drop'])\n",
    "    gbtpf1stcp_1000['penalty_1yr_drop'] = abs(gbtpf1stcp_1000['penalty_1yr_drop'])\n",
    "\n",
    "    gbtpf1stcp_1000 = gbtpf1stcp_1000[features]\n",
    "    gbtpf1stcp_1000.head()\n",
    "    return gbtpf1stcp_1000"
   ]
  },
  {
   "cell_type": "code",
   "execution_count": 424,
   "metadata": {},
   "outputs": [],
   "source": [
    "gbtpf1stcp_1000 = build_data(n1stcp_1000, ['plaintiff', 'year', \n",
    "                                       'total_active_years', 'is_exit', \n",
    "                                       'sr_1yr_drop', 'penalty_1yr_drop', \n",
    "                                       'sr_1yr_drop_count', 'penalty_1yr_drop_count', \n",
    "                                       'success_rate_mean', 'penalty_mean', \n",
    "                                       'sr_1yr_drop_sum', 'penalty_1yr_drop_sum', \n",
    "                                       'sr_1yr_drop_bool', 'penalty_1yr_drop_bool'])"
   ]
  },
  {
   "cell_type": "markdown",
   "metadata": {},
   "source": [
    "<h3>Classification</h3>"
   ]
  },
  {
   "cell_type": "code",
   "execution_count": 425,
   "metadata": {},
   "outputs": [
    {
     "data": {
      "text/plain": [
       "1    515\n",
       "0    485\n",
       "Name: is_exit, dtype: int64"
      ]
     },
     "execution_count": 425,
     "metadata": {},
     "output_type": "execute_result"
    }
   ],
   "source": [
    "# 样本分配(可以看出基本均衡)\n",
    "gbtpf1stcp_1000['is_exit'].value_counts()"
   ]
  },
  {
   "cell_type": "code",
   "execution_count": 426,
   "metadata": {
    "code_folding": []
   },
   "outputs": [],
   "source": [
    "features = [\n",
    "    'sr_1yr_drop', # how much has the sr dropped since the last year\n",
    "    'penalty_1yr_drop', # how much has the penalty dropped since the last year\n",
    "    'sr_1yr_drop_count', # how many times the sr dropped during the whole period\n",
    "    'penalty_1yr_drop_count', # how many times the penalty dropped during the whole period\n",
    "    'sr_1yr_drop_bool', # whether the sr dropped from last year\n",
    "    'penalty_1yr_drop_bool', # whether the penalty dropped from last year\n",
    "    'success_rate_mean', # mean sr for the whole period\n",
    "    'penalty_mean', # mean penalty for the whole period\n",
    "    'sr_1yr_drop_sum', # total dropped sr for the whole period\n",
    "    'penalty_1yr_drop_sum',  # total dropped penalty for the whole period\n",
    "    'total_active_years'\n",
    "]"
   ]
  },
  {
   "cell_type": "markdown",
   "metadata": {},
   "source": [
    "<h4>Pearson correlation coefficient</h4>"
   ]
  },
  {
   "cell_type": "code",
   "execution_count": 427,
   "metadata": {},
   "outputs": [
    {
     "data": {
      "text/plain": [
       "<AxesSubplot:>"
      ]
     },
     "execution_count": 427,
     "metadata": {},
     "output_type": "execute_result"
    },
    {
     "data": {
      "image/png": "[encoded data removed]",
      "text/plain": [
       "<Figure size 720x576 with 2 Axes>"
      ]
     },
     "metadata": {
      "needs_background": "light"
     },
     "output_type": "display_data"
    }
   ],
   "source": [
    "cmap = sns.diverging_palette(230, 30, as_cmap=True)\n",
    "corr = gbtpf1stcp_1000[['is_exit'] + features].corr()\n",
    "mask = np.triu(np.ones_like(corr, dtype=bool))\n",
    "plt.figure(figsize=(10,8))\n",
    "sns.heatmap(\n",
    "    corr, \n",
    "    annot = True, \n",
    "    mask = mask, \n",
    "    cmap = cmap\n",
    ")"
   ]
  },
  {
   "cell_type": "markdown",
   "metadata": {},
   "source": [
    "<h4>Logistic Regression</h4>"
   ]
  },
  {
   "cell_type": "code",
   "execution_count": 428,
   "metadata": {},
   "outputs": [
    {
     "name": "stdout",
     "output_type": "stream",
     "text": [
      "              precision    recall  f1-score   support\n",
      "\n",
      "           0       0.52      0.61      0.56       132\n",
      "           1       0.65      0.57      0.60       168\n",
      "\n",
      "    accuracy                           0.58       300\n",
      "   macro avg       0.58      0.59      0.58       300\n",
      "weighted avg       0.59      0.58      0.58       300\n",
      "\n"
     ]
    }
   ],
   "source": [
    "from sklearn.linear_model import LogisticRegression\n",
    "from sklearn.linear_model import LogisticRegressionCV\n",
    "from sklearn.metrics import confusion_matrix\n",
    "from sklearn.metrics import classification_report\n",
    "from sklearn.model_selection import train_test_split\n",
    "\n",
    "#活跃原告活跃的最后一年的赢率下降程度和获得的惩罚金下降程度是否影响其退出\n",
    "#目前退出的数据量和未退出的数据量基本相同(500左右)，可以做分类分析\n",
    "#结果显示并无特别关联的可能\n",
    "X = gbtpf1stcp_1000[features].values\n",
    "y = gbtpf1stcp_1000['is_exit'].values\n",
    "X_train, X_test, y_train, y_test = train_test_split(X, y, test_size=0.3)\n",
    "clf = LogisticRegressionCV(cv=5, random_state=1).fit(X_train, y_train)\n",
    "# clf.score(X_test, y_test)\n",
    "y_pred = clf.predict(X_test)\n",
    "print(classification_report(y_test, y_pred))"
   ]
  },
  {
   "cell_type": "markdown",
   "metadata": {},
   "source": [
    "<h4>Random Forest</h4>"
   ]
  },
  {
   "cell_type": "code",
   "execution_count": 429,
   "metadata": {},
   "outputs": [
    {
     "name": "stdout",
     "output_type": "stream",
     "text": [
      "              precision    recall  f1-score   support\n",
      "\n",
      "           0       0.56      0.67      0.61       132\n",
      "           1       0.70      0.58      0.63       168\n",
      "\n",
      "    accuracy                           0.62       300\n",
      "   macro avg       0.63      0.63      0.62       300\n",
      "weighted avg       0.64      0.62      0.62       300\n",
      "\n",
      "[0.06096964 0.17946677 0.01597864 0.0511816  0.01350174 0.0177423\n",
      " 0.09011792 0.23653989 0.04784058 0.14596238 0.14069854]\n",
      "[False  True False False False False False  True False  True  True]\n"
     ]
    }
   ],
   "source": [
    "# select features\n",
    "from sklearn.feature_selection import SelectFromModel\n",
    "from sklearn.ensemble import RandomForestClassifier\n",
    "\n",
    "model_tree = RandomForestClassifier(random_state=100, n_estimators=50)\n",
    "model_tree.fit(X_train, y_train)\n",
    "y_pred = model_tree.predict(X_test)\n",
    "print(classification_report(y_test, y_pred))\n",
    "\n",
    "print(model_tree.feature_importances_)\n",
    "sel_model_tree = SelectFromModel(estimator=model_tree, prefit=True, threshold='mean') \n",
    "\n",
    "# since we already fit the data, we specify prefit option here\n",
    "# Features whose importance is greater or equal to the threshold are kept while the others are discarded.\n",
    "X_train_sfm_tree = sel_model_tree.transform(X_train)\n",
    "selected = sel_model_tree.get_support()\n",
    "print(selected)"
   ]
  },
  {
   "cell_type": "code",
   "execution_count": 442,
   "metadata": {},
   "outputs": [
    {
     "name": "stdout",
     "output_type": "stream",
     "text": [
      "['penalty_1yr_drop', 'penalty_mean', 'penalty_1yr_drop_sum', 'total_active_years']\n",
      "              precision    recall  f1-score   support\n",
      "\n",
      "           0       0.63      0.64      0.64       143\n",
      "           1       0.67      0.66      0.67       157\n",
      "\n",
      "    accuracy                           0.65       300\n",
      "   macro avg       0.65      0.65      0.65       300\n",
      "weighted avg       0.65      0.65      0.65       300\n",
      "\n"
     ]
    }
   ],
   "source": [
    "# After selecting the features\n",
    "selected_features = [features[i] for i in range(len(features)) if selected[i]==True]\n",
    "print(selected_features)\n",
    "\n",
    "newX = gbtpf1stcp_1000[selected_features].values\n",
    "y = gbtpf1stcp_1000['is_exit'].values\n",
    "newX_train, newX_test, newy_train, newy_test = train_test_split(newX, y, test_size=0.3)\n",
    "\n",
    "model_tree = RandomForestClassifier(random_state=100, n_estimators=50)\n",
    "model_tree.fit(newX_train, newy_train)\n",
    "newy_pred = model_tree.predict(newX_test)\n",
    "print(classification_report(newy_test, newy_pred))"
   ]
  },
  {
   "cell_type": "markdown",
   "metadata": {},
   "source": [
    "<h4>RandomForest 调参</h4>"
   ]
  },
  {
   "cell_type": "code",
   "execution_count": 443,
   "metadata": {},
   "outputs": [
    {
     "name": "stdout",
     "output_type": "stream",
     "text": [
      "Parameters currently in use:\n",
      "\n",
      "{'bootstrap': True,\n",
      " 'ccp_alpha': 0.0,\n",
      " 'class_weight': None,\n",
      " 'criterion': 'gini',\n",
      " 'max_depth': None,\n",
      " 'max_features': 'auto',\n",
      " 'max_leaf_nodes': None,\n",
      " 'max_samples': None,\n",
      " 'min_impurity_decrease': 0.0,\n",
      " 'min_impurity_split': None,\n",
      " 'min_samples_leaf': 1,\n",
      " 'min_samples_split': 2,\n",
      " 'min_weight_fraction_leaf': 0.0,\n",
      " 'n_estimators': 50,\n",
      " 'n_jobs': None,\n",
      " 'oob_score': False,\n",
      " 'random_state': 100,\n",
      " 'verbose': 0,\n",
      " 'warm_start': False}\n"
     ]
    }
   ],
   "source": [
    "from pprint import pprint\n",
    "\n",
    "# 1. Look at parameters used by our current forest\n",
    "print('Parameters currently in use:\\n')\n",
    "pprint(model_tree.get_params())"
   ]
  },
  {
   "cell_type": "code",
   "execution_count": 446,
   "metadata": {},
   "outputs": [
    {
     "name": "stdout",
     "output_type": "stream",
     "text": [
      "{'bootstrap': [True, False],\n",
      " 'max_depth': [10, 20, 30, 40, 50, 60, 70, 80, 90, 100, 110, None],\n",
      " 'max_features': ['auto', 'sqrt'],\n",
      " 'min_samples_leaf': [1, 2, 4, 8],\n",
      " 'min_samples_split': [2, 5, 10, 20],\n",
      " 'n_estimators': [200, 400, 600, 800, 1000, 1200, 1400, 1600, 1800, 2000]}\n"
     ]
    }
   ],
   "source": [
    "# https://towardsdatascience.com/hyperparameter-tuning-the-random-forest-in-python-using-scikit-learn-28d2aa77dd74\n",
    "from sklearn.model_selection import RandomizedSearchCV\n",
    "\n",
    "# 2. Build parameters set and randomly choose them to find the local optimal parameters through RandomizedSearchCV\n",
    "# Number of trees in random forest\n",
    "n_estimators = [int(x) for x in np.linspace(start = 200, stop = 2000, num = 10)]\n",
    "# Number of features to consider at every split\n",
    "max_features = ['auto', 'sqrt']\n",
    "# Maximum number of levels in tree\n",
    "max_depth = [int(x) for x in np.linspace(10, 110, num = 11)]\n",
    "max_depth.append(None)\n",
    "# Minimum number of samples required to split a node\n",
    "min_samples_split = [2, 5, 10, 20]\n",
    "# Minimum number of samples required at each leaf node\n",
    "min_samples_leaf = [1, 2, 4, 8]\n",
    "# Method of selecting samples for training each tree\n",
    "bootstrap = [True, False]\n",
    "# Create the random grid\n",
    "random_grid = {'n_estimators': n_estimators,\n",
    "               'max_features': max_features,\n",
    "               'max_depth': max_depth,\n",
    "               'min_samples_split': min_samples_split,\n",
    "               'min_samples_leaf': min_samples_leaf,\n",
    "               'bootstrap': bootstrap}\n",
    "pprint(random_grid)"
   ]
  },
  {
   "cell_type": "code",
   "execution_count": 447,
   "metadata": {},
   "outputs": [
    {
     "name": "stdout",
     "output_type": "stream",
     "text": [
      "Fitting 5 folds for each of 100 candidates, totalling 500 fits\n"
     ]
    },
    {
     "name": "stderr",
     "output_type": "stream",
     "text": [
      "[Parallel(n_jobs=-1)]: Using backend LokyBackend with 8 concurrent workers.\n",
      "[Parallel(n_jobs=-1)]: Done  25 tasks      | elapsed:   13.1s\n",
      "[Parallel(n_jobs=-1)]: Done 146 tasks      | elapsed:   59.2s\n",
      "[Parallel(n_jobs=-1)]: Done 349 tasks      | elapsed:  2.1min\n",
      "[Parallel(n_jobs=-1)]: Done 500 out of 500 | elapsed:  3.0min finished\n"
     ]
    },
    {
     "name": "stdout",
     "output_type": "stream",
     "text": [
      "{'n_estimators': 800, 'min_samples_split': 5, 'min_samples_leaf': 8, 'max_features': 'auto', 'max_depth': 20, 'bootstrap': True}\n"
     ]
    }
   ],
   "source": [
    "# 3. Use the random grid to search for best hyperparameters\n",
    "# First create the base model to tune\n",
    "rf = RandomForestClassifier()\n",
    "# Random search of parameters, using 3 fold cross validation, \n",
    "# search across 100 different combinations, and use all available cores\n",
    "rf_random = RandomizedSearchCV(estimator = rf, param_distributions = random_grid, n_iter = 100, cv = 5, verbose=2, random_state=42, n_jobs = -1)\n",
    "# Fit the random search model\n",
    "rf_random.fit(X_train, y_train)\n",
    "print(rf_random.best_params_)"
   ]
  },
  {
   "cell_type": "code",
   "execution_count": 448,
   "metadata": {},
   "outputs": [
    {
     "name": "stdout",
     "output_type": "stream",
     "text": [
      "              precision    recall  f1-score   support\n",
      "\n",
      "           0       0.59      0.61      0.60       132\n",
      "           1       0.68      0.67      0.68       168\n",
      "\n",
      "    accuracy                           0.64       300\n",
      "   macro avg       0.64      0.64      0.64       300\n",
      "weighted avg       0.64      0.64      0.64       300\n",
      "\n",
      "[0.04711826 0.13870358 0.02184449 0.08215642 0.00903435 0.01690645\n",
      " 0.06205694 0.1384449  0.04280338 0.16223915 0.27869207]\n",
      "[False  True False False False False False  True False  True  True]\n",
      "['penalty_1yr_drop', 'penalty_mean', 'penalty_1yr_drop_sum', 'total_active_years']\n"
     ]
    }
   ],
   "source": [
    "# 4. Train model with selected parameters and check the performance on our test data set\n",
    "model_tree = RandomForestClassifier(\n",
    "    n_estimators = 800, \n",
    "    min_samples_split = 5, \n",
    "    min_samples_leaf = 8, \n",
    "    max_features = 'auto', \n",
    "    max_depth = 20, \n",
    "    bootstrap = True, \n",
    "    random_state = 1\n",
    ")\n",
    "\n",
    "model_tree.fit(X_train, y_train)\n",
    "y_pred = model_tree.predict(X_test)\n",
    "print(classification_report(y_test, y_pred))\n",
    "\n",
    "print(model_tree.feature_importances_)\n",
    "sel_model_tree = SelectFromModel(estimator=model_tree, prefit=True, threshold='mean') \n",
    "\n",
    "X_train_sfm_tree = sel_model_tree.transform(X_train)\n",
    "selected = sel_model_tree.get_support()\n",
    "print(selected)\n",
    "\n",
    "# After selecting the features\n",
    "selected_features = [features[i] for i in range(len(features)) if selected[i]==True]\n",
    "print(selected_features)"
   ]
  },
  {
   "cell_type": "code",
   "execution_count": 453,
   "metadata": {
    "hide_input": false
   },
   "outputs": [
    {
     "name": "stdout",
     "output_type": "stream",
     "text": [
      "              precision    recall  f1-score   support\n",
      "\n",
      "           0       0.68      0.61      0.64        99\n",
      "           1       0.65      0.72      0.69       101\n",
      "\n",
      "    accuracy                           0.67       200\n",
      "   macro avg       0.67      0.66      0.66       200\n",
      "weighted avg       0.67      0.67      0.66       200\n",
      "\n"
     ]
    }
   ],
   "source": [
    "newX = gbtpf1stcp_1000[selected_features].values\n",
    "y = gbtpf1stcp_1000['is_exit'].values\n",
    "newX_train, newX_test, newy_train, newy_test = train_test_split(newX, y, test_size=0.2)\n",
    "\n",
    "model_tree.fit(newX_train, newy_train)\n",
    "newy_pred = model_tree.predict(newX_test)\n",
    "print(classification_report(newy_test, newy_pred))"
   ]
  },
  {
   "cell_type": "markdown",
   "metadata": {},
   "source": [
    "<h4>GBDT</h4>"
   ]
  },
  {
   "cell_type": "code",
   "execution_count": 458,
   "metadata": {},
   "outputs": [
    {
     "name": "stdout",
     "output_type": "stream",
     "text": [
      "              precision    recall  f1-score   support\n",
      "\n",
      "           0       0.51      0.63      0.56       132\n",
      "           1       0.64      0.52      0.57       168\n",
      "\n",
      "    accuracy                           0.57       300\n",
      "   macro avg       0.57      0.57      0.57       300\n",
      "weighted avg       0.58      0.57      0.57       300\n",
      "\n",
      "              precision    recall  f1-score   support\n",
      "\n",
      "           0       0.62      0.57      0.59        99\n",
      "           1       0.61      0.66      0.64       101\n",
      "\n",
      "    accuracy                           0.61       200\n",
      "   macro avg       0.62      0.61      0.61       200\n",
      "weighted avg       0.62      0.61      0.61       200\n",
      "\n"
     ]
    }
   ],
   "source": [
    "from sklearn.ensemble import GradientBoostingClassifier\n",
    "\n",
    "gbr = GradientBoostingClassifier(n_estimators=800, max_depth=20, min_samples_split=2, learning_rate=0.1)\n",
    "gbr.fit(X_train, y_train.ravel())\n",
    "y_pred = gbr.predict(X_test)\n",
    "print(classification_report(y_test, y_pred))\n",
    "\n",
    "gbr = GradientBoostingClassifier(n_estimators=800, max_depth=20, min_samples_split=2, learning_rate=0.1)\n",
    "gbr.fit(newX_train, newy_train.ravel())\n",
    "newy_pred = gbr.predict(newX_test)\n",
    "print(classification_report(newy_test, newy_pred))"
   ]
  },
  {
   "cell_type": "markdown",
   "metadata": {},
   "source": [
    "<h3>Classification on all possible variables</h3>"
   ]
  },
  {
   "cell_type": "markdown",
   "metadata": {},
   "source": [
    "<p>可能的原因：<br>\n",
    "    1. 退出前一年赢率是否下降, <br>\n",
    "    2. 退出前一年获得的惩罚金是否下降, <br>\n",
    "    3. 职业生涯中赢率下降次数, <br>\n",
    "    4. 职业生涯中惩罚金下降次数, <br>\n",
    "    5. 职业生涯整体赢率下降了多少, <br>\n",
    "    6. 职业生涯整体获得的惩罚金下降了多少, <br>\n",
    "    7. 职业生涯整体赢率平均数, <br>\n",
    "    8. 职业生涯整体获得的惩罚金平均数<br>\n",
    "    --------------------下面是新增变量--------------------<br>\n",
    "    9. 标的平均数<br>\n",
    "    10 ...\n",
    "</p><br>"
   ]
  },
  {
   "cell_type": "code",
   "execution_count": 459,
   "metadata": {},
   "outputs": [],
   "source": [
    "new_features = features = [\n",
    "    'sr_1yr_drop', # how much has the sr dropped since the last year\n",
    "    'penalty_1yr_drop', # how much has the penalty dropped since the last year\n",
    "    'sr_1yr_drop_count', # how many times the sr dropped during the whole period\n",
    "    'penalty_1yr_drop_count', # how many times the penalty dropped during the whole period\n",
    "    'sr_1yr_drop_bool', # whether the sr dropped from last year\n",
    "    'penalty_1yr_drop_bool', # whether the penalty dropped from last year\n",
    "    'success_rate_mean', # mean sr for the whole period\n",
    "    'penalty_mean', # mean penalty for the whole period\n",
    "    'sr_1yr_drop_sum', # total dropped sr for the whole period\n",
    "    'penalty_1yr_drop_sum',  # total dropped penalty for the whole period\n",
    "    'total_active_years', \n",
    "    'objectmoney_mean'\n",
    "]"
   ]
  },
  {
   "cell_type": "code",
   "execution_count": 460,
   "metadata": {},
   "outputs": [],
   "source": [
    "new_gbtpf1stcp_1000 = build_data(n1stcp_1000, ['plaintiff', 'year', \n",
    "                                       'total_active_years', 'is_exit', \n",
    "                                       'sr_1yr_drop', 'penalty_1yr_drop', \n",
    "                                       'sr_1yr_drop_count', 'penalty_1yr_drop_count', \n",
    "                                       'success_rate_mean', 'penalty_mean', \n",
    "                                       'sr_1yr_drop_sum', 'penalty_1yr_drop_sum', \n",
    "                                       'sr_1yr_drop_bool', 'penalty_1yr_drop_bool', 'objectmoney_mean'])"
   ]
  },
  {
   "cell_type": "code",
   "execution_count": 461,
   "metadata": {},
   "outputs": [
    {
     "data": {
      "text/html": [
       "<div>\n",
       "<style scoped>\n",
       "    .dataframe tbody tr th:only-of-type {\n",
       "        vertical-align: middle;\n",
       "    }\n",
       "\n",
       "    .dataframe tbody tr th {\n",
       "        vertical-align: top;\n",
       "    }\n",
       "\n",
       "    .dataframe thead th {\n",
       "        text-align: right;\n",
       "    }\n",
       "</style>\n",
       "<table border=\"1\" class=\"dataframe\">\n",
       "  <thead>\n",
       "    <tr style=\"text-align: right;\">\n",
       "      <th></th>\n",
       "      <th>plaintiff</th>\n",
       "      <th>year</th>\n",
       "      <th>total_active_years</th>\n",
       "      <th>is_exit</th>\n",
       "      <th>sr_1yr_drop</th>\n",
       "      <th>penalty_1yr_drop</th>\n",
       "      <th>sr_1yr_drop_count</th>\n",
       "      <th>penalty_1yr_drop_count</th>\n",
       "      <th>success_rate_mean</th>\n",
       "      <th>penalty_mean</th>\n",
       "      <th>sr_1yr_drop_sum</th>\n",
       "      <th>penalty_1yr_drop_sum</th>\n",
       "      <th>sr_1yr_drop_bool</th>\n",
       "      <th>penalty_1yr_drop_bool</th>\n",
       "      <th>objectmoney_mean</th>\n",
       "    </tr>\n",
       "  </thead>\n",
       "  <tbody>\n",
       "    <tr>\n",
       "      <th>3</th>\n",
       "      <td>丁字林</td>\n",
       "      <td>2018</td>\n",
       "      <td>4</td>\n",
       "      <td>1</td>\n",
       "      <td>1.000000</td>\n",
       "      <td>0.0</td>\n",
       "      <td>1</td>\n",
       "      <td>1</td>\n",
       "      <td>0.500000</td>\n",
       "      <td>18292.000</td>\n",
       "      <td>1.000000</td>\n",
       "      <td>73168.0</td>\n",
       "      <td>False</td>\n",
       "      <td>False</td>\n",
       "      <td>4279.000000</td>\n",
       "    </tr>\n",
       "    <tr>\n",
       "      <th>7</th>\n",
       "      <td>万峰</td>\n",
       "      <td>2019</td>\n",
       "      <td>4</td>\n",
       "      <td>0</td>\n",
       "      <td>0.500000</td>\n",
       "      <td>10020.0</td>\n",
       "      <td>2</td>\n",
       "      <td>2</td>\n",
       "      <td>0.825000</td>\n",
       "      <td>83905.000</td>\n",
       "      <td>0.500000</td>\n",
       "      <td>324600.0</td>\n",
       "      <td>False</td>\n",
       "      <td>True</td>\n",
       "      <td>19043.950000</td>\n",
       "    </tr>\n",
       "    <tr>\n",
       "      <th>12</th>\n",
       "      <td>丛李松</td>\n",
       "      <td>2018</td>\n",
       "      <td>5</td>\n",
       "      <td>1</td>\n",
       "      <td>0.153846</td>\n",
       "      <td>161063.0</td>\n",
       "      <td>2</td>\n",
       "      <td>2</td>\n",
       "      <td>0.957466</td>\n",
       "      <td>61198.720</td>\n",
       "      <td>0.212670</td>\n",
       "      <td>192231.6</td>\n",
       "      <td>False</td>\n",
       "      <td>True</td>\n",
       "      <td>5812.040000</td>\n",
       "    </tr>\n",
       "    <tr>\n",
       "      <th>16</th>\n",
       "      <td>严明</td>\n",
       "      <td>2019</td>\n",
       "      <td>4</td>\n",
       "      <td>0</td>\n",
       "      <td>0.000000</td>\n",
       "      <td>44855.0</td>\n",
       "      <td>1</td>\n",
       "      <td>2</td>\n",
       "      <td>0.982143</td>\n",
       "      <td>87528.125</td>\n",
       "      <td>0.071429</td>\n",
       "      <td>189157.5</td>\n",
       "      <td>False</td>\n",
       "      <td>True</td>\n",
       "      <td>6660.887500</td>\n",
       "    </tr>\n",
       "    <tr>\n",
       "      <th>19</th>\n",
       "      <td>严晋</td>\n",
       "      <td>2019</td>\n",
       "      <td>3</td>\n",
       "      <td>0</td>\n",
       "      <td>0.250000</td>\n",
       "      <td>20190.0</td>\n",
       "      <td>1</td>\n",
       "      <td>2</td>\n",
       "      <td>0.916667</td>\n",
       "      <td>38810.000</td>\n",
       "      <td>0.250000</td>\n",
       "      <td>25680.0</td>\n",
       "      <td>True</td>\n",
       "      <td>True</td>\n",
       "      <td>5704.333333</td>\n",
       "    </tr>\n",
       "  </tbody>\n",
       "</table>\n",
       "</div>"
      ],
      "text/plain": [
       "   plaintiff  year  total_active_years  is_exit  sr_1yr_drop  \\\n",
       "3        丁字林  2018                   4        1     1.000000   \n",
       "7         万峰  2019                   4        0     0.500000   \n",
       "12       丛李松  2018                   5        1     0.153846   \n",
       "16        严明  2019                   4        0     0.000000   \n",
       "19        严晋  2019                   3        0     0.250000   \n",
       "\n",
       "    penalty_1yr_drop  sr_1yr_drop_count  penalty_1yr_drop_count  \\\n",
       "3                0.0                  1                       1   \n",
       "7            10020.0                  2                       2   \n",
       "12          161063.0                  2                       2   \n",
       "16           44855.0                  1                       2   \n",
       "19           20190.0                  1                       2   \n",
       "\n",
       "    success_rate_mean  penalty_mean  sr_1yr_drop_sum  penalty_1yr_drop_sum  \\\n",
       "3            0.500000     18292.000         1.000000               73168.0   \n",
       "7            0.825000     83905.000         0.500000              324600.0   \n",
       "12           0.957466     61198.720         0.212670              192231.6   \n",
       "16           0.982143     87528.125         0.071429              189157.5   \n",
       "19           0.916667     38810.000         0.250000               25680.0   \n",
       "\n",
       "    sr_1yr_drop_bool  penalty_1yr_drop_bool  objectmoney_mean  \n",
       "3              False                  False       4279.000000  \n",
       "7              False                   True      19043.950000  \n",
       "12             False                   True       5812.040000  \n",
       "16             False                   True       6660.887500  \n",
       "19              True                   True       5704.333333  "
      ]
     },
     "execution_count": 461,
     "metadata": {},
     "output_type": "execute_result"
    }
   ],
   "source": [
    "new_gbtpf1stcp_1000.head()"
   ]
  },
  {
   "cell_type": "code",
   "execution_count": 462,
   "metadata": {},
   "outputs": [],
   "source": [
    "X = new_gbtpf1stcp_1000[new_features].values\n",
    "y = new_gbtpf1stcp_1000['is_exit'].values\n",
    "X_train, X_test, y_train, y_test = train_test_split(X, y, test_size=0.3)"
   ]
  },
  {
   "cell_type": "code",
   "execution_count": 464,
   "metadata": {},
   "outputs": [
    {
     "name": "stdout",
     "output_type": "stream",
     "text": [
      "              precision    recall  f1-score   support\n",
      "\n",
      "           0       0.68      0.59      0.63       146\n",
      "           1       0.66      0.74      0.70       154\n",
      "\n",
      "    accuracy                           0.67       300\n",
      "   macro avg       0.67      0.66      0.66       300\n",
      "weighted avg       0.67      0.67      0.66       300\n",
      "\n",
      "[0.05153919 0.13834336 0.01679073 0.0496919  0.01047522 0.01610914\n",
      " 0.08133888 0.16730294 0.04521515 0.11610265 0.11591475 0.1911761 ]\n",
      "[False  True False False False False False  True False  True  True  True]\n",
      "['penalty_1yr_drop', 'penalty_mean', 'penalty_1yr_drop_sum', 'total_active_years', 'objectmoney_mean']\n"
     ]
    }
   ],
   "source": [
    "model_tree = RandomForestClassifier(\n",
    "    n_estimators = 800, \n",
    "    min_samples_split = 2, \n",
    "    min_samples_leaf = 1, \n",
    "    max_features = 'sqrt', \n",
    "    max_depth = 100, \n",
    "    bootstrap = True, \n",
    "    random_state = 100\n",
    ") # parameters here are also selected as before\n",
    "\n",
    "model_tree.fit(X_train, y_train)\n",
    "y_pred = model_tree.predict(X_test)\n",
    "print(classification_report(y_test, y_pred))\n",
    "\n",
    "print(model_tree.feature_importances_)\n",
    "sel_model_tree = SelectFromModel(estimator=model_tree, prefit=True, threshold='mean') \n",
    "\n",
    "X_train_sfm_tree = sel_model_tree.transform(X_train)\n",
    "selected = sel_model_tree.get_support()\n",
    "print(selected)\n",
    "\n",
    "# After selecting the features\n",
    "selected_features = [features[i] for i in range(len(new_features)) if selected[i]==True]\n",
    "print(selected_features)"
   ]
  },
  {
   "cell_type": "code",
   "execution_count": 469,
   "metadata": {},
   "outputs": [
    {
     "name": "stdout",
     "output_type": "stream",
     "text": [
      "              precision    recall  f1-score   support\n",
      "\n",
      "           0       0.72      0.64      0.68        92\n",
      "           1       0.72      0.79      0.75       108\n",
      "\n",
      "    accuracy                           0.72       200\n",
      "   macro avg       0.72      0.71      0.72       200\n",
      "weighted avg       0.72      0.72      0.72       200\n",
      "\n"
     ]
    }
   ],
   "source": [
    "newX = new_gbtpf1stcp_1000[selected_features].values\n",
    "y = new_gbtpf1stcp_1000['is_exit'].values\n",
    "newX_train, newX_test, newy_train, newy_test = train_test_split(newX, y, test_size=0.2)\n",
    "\n",
    "model_tree.fit(newX_train, newy_train)\n",
    "newy_pred = model_tree.predict(newX_test)\n",
    "print(classification_report(newy_test, newy_pred))"
   ]
  },
  {
   "cell_type": "code",
   "execution_count": 471,
   "metadata": {},
   "outputs": [
    {
     "name": "stdout",
     "output_type": "stream",
     "text": [
      "[NbConvertApp] Converting notebook activePlaintiffPatterns3.ipynb to html\r\n"
     ]
    }
   ],
   "source": [
    "# output this ipynb to html with no code\n",
    "!jupyter nbconvert activePlaintiffPatterns3.ipynb --to html"
   ]
  },
  {
   "cell_type": "markdown",
   "metadata": {},
   "source": [
    "<h3>It seems that 'penalty_1yr_drop', \n",
    "'penalty_mean', \n",
    "'penalty_1yr_drop_sum', \n",
    "'total_active_years' and 'objectmoney_mean' are meaningful features in deciding whether an active plaintiff will exit or not.</h3>"
   ]
  }
 ],
 "metadata": {
  "kernelspec": {
   "display_name": "Python 3",
   "language": "python",
   "name": "python3"
  },
  "language_info": {
   "codemirror_mode": {
    "name": "ipython",
    "version": 3
   },
   "file_extension": ".py",
   "mimetype": "text/x-python",
   "name": "python",
   "nbconvert_exporter": "python",
   "pygments_lexer": "ipython3",
   "version": "3.8.5"
  }
 },
 "nbformat": 4,
 "nbformat_minor": 4
}
