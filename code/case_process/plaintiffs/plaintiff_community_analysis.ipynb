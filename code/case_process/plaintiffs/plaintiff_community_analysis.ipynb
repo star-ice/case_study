{
 "cells": [
  {
   "cell_type": "markdown",
   "metadata": {},
   "source": [
    "<h1>Prove the validity of community in graph G_3 in active_plaintiff_patterns</h1>\n",
    "<p>设计随机试验：\n",
    "\t现在的graph其plaintiff的连接是基于其是否有合作过同一个律师而决定的，这样连下来的图经过community detection之后得到了几个plaintiff的cluster，我们可以先算一下目前数据里平均一个plaintiff要连接多少个lawyer，然后整理出lawyer的集合，让plaintiff随机(或者看看plaintiff与lawyer有没有明显的地域倾向，连接时可以挑选同一地方的lawyer)和集合中的lawyer做连接，然后重新计算出plaintiff的连接图并做community detection（确保community数量与要验证的plaintiff cluster数量一致），计算cluster的modularity和conductance，重复1000次，得到上述两个指标的均值和方差（此过程模拟了随机情况下plaintiff 和lawyer的连接），比较待验证cluster和随机过程得到的上述两种指标（add:搞清楚graph cart是什么），如果待验证的plaintiff cluster明显指标更好，就可以说明其存在的有效性</p>"
   ]
  },
  {
   "cell_type": "code",
   "execution_count": 80,
   "metadata": {},
   "outputs": [],
   "source": [
    "import pandas as pd\n",
    "import networkx as nx\n",
    "import numpy as np\n",
    "import random\n",
    "import scipy.stats as stats\n",
    "import itertools\n",
    "import community as community_louvain\n",
    "from sklearn.cluster import KMeans\n",
    "import scipy.linalg as linalg\n",
    "import sklearn.preprocessing\n",
    "import scipy.sparse as sparse\n",
    "import networkx.algorithms.community as nx_comm\n",
    "from timeit import default_timer as timer"
   ]
  },
  {
   "cell_type": "code",
   "execution_count": 2,
   "metadata": {},
   "outputs": [],
   "source": [
    "# comparative graph, has 7 communities\n",
    "G_3 = nx.read_gexf(\"/Users/starice/OwnFiles/cityu/RA/case_study/case_study_result/networks/G_3.gexf\")"
   ]
  },
  {
   "cell_type": "code",
   "execution_count": 10,
   "metadata": {},
   "outputs": [],
   "source": [
    "all_cases = pd.read_csv('/Users/starice/OwnFiles/cityu/RA/case_study/data/total_extracted_result/all_cases.csv', encoding=\"utf-8\")\n",
    "# print(all_cases['case_id'].drop_duplicates())\n",
    "all_cases = all_cases[all_cases['defendant'] != all_cases['lawyer']]\n",
    "all_cases = all_cases[all_cases['lawyer']!=\"共同委托人\"]"
   ]
  },
  {
   "cell_type": "markdown",
   "metadata": {},
   "source": [
    "<h3>平均一个活跃plaintiff连接多少个lawyer</h3>\n",
    "<p>plaintiff set: fps_200; lawyer_set: lawyers</p>"
   ]
  },
  {
   "cell_type": "code",
   "execution_count": 4,
   "metadata": {},
   "outputs": [],
   "source": [
    "#获取所有一审案件\n",
    "first_cases = all_cases[all_cases['procedure']==\"一审\"]\n",
    "# print(\"一审案件数量： \", len(first_cases['case_id'].drop_duplicates()))\n",
    "\n",
    "# 获取所有案件原告的节点度并排序\n",
    "degree_1stplaintiffs = first_cases.groupby(\"plaintiff\")['case_id'].unique().reset_index()\n",
    "degree_1stplaintiffs['case_count'] = degree_1stplaintiffs['case_id'].apply(lambda r: len(r))\n",
    "degree_1stplaintiffs.sort_values(by=\"case_count\", inplace=True, ascending=False)\n",
    "fps_200 = degree_1stplaintiffs[:200]\n",
    "# fps_200\n",
    "new_selected_1stcp = first_cases[first_cases['plaintiff'].isin(fps_200['plaintiff'])]"
   ]
  },
  {
   "cell_type": "code",
   "execution_count": 5,
   "metadata": {},
   "outputs": [
    {
     "data": {
      "text/plain": [
       "16070"
      ]
     },
     "execution_count": 5,
     "metadata": {},
     "output_type": "execute_result"
    }
   ],
   "source": [
    "len(new_selected_1stcp['case_id'].drop_duplicates())"
   ]
  },
  {
   "cell_type": "code",
   "execution_count": 6,
   "metadata": {},
   "outputs": [
    {
     "name": "stdout",
     "output_type": "stream",
     "text": [
      "7.375 6.0678222894777845\n"
     ]
    }
   ],
   "source": [
    "temp = new_selected_1stcp.groupby(\"plaintiff\")['lawyer'].nunique().reset_index()\n",
    "print(temp['lawyer'].mean(), temp['lawyer'].std())\n",
    "# 平均每个plaintiff和8个不同的lawyer合作"
   ]
  },
  {
   "cell_type": "code",
   "execution_count": 7,
   "metadata": {},
   "outputs": [],
   "source": [
    "lawyers = list(new_selected_1stcp['lawyer'].drop_duplicates())\n",
    "plaintiffs = fps_200['plaintiff']"
   ]
  },
  {
   "cell_type": "code",
   "execution_count": 8,
   "metadata": {},
   "outputs": [
    {
     "data": {
      "text/plain": [
       "count    200.000000\n",
       "mean       7.375000\n",
       "std        6.067822\n",
       "min        0.000000\n",
       "25%        3.000000\n",
       "50%        6.000000\n",
       "75%       11.000000\n",
       "max       34.000000\n",
       "Name: lawyer, dtype: float64"
      ]
     },
     "execution_count": 8,
     "metadata": {},
     "output_type": "execute_result"
    }
   ],
   "source": [
    "temp['lawyer'].describe()"
   ]
  },
  {
   "cell_type": "markdown",
   "metadata": {},
   "source": [
    "<h3>随机生成plaintiff和lawyer的连接</h3>"
   ]
  },
  {
   "cell_type": "code",
   "execution_count": 70,
   "metadata": {},
   "outputs": [],
   "source": [
    "pdpl = pd.DataFrame(columns=[\"plaintiff\", 'lawyer'])\n",
    "for i in plaintiffs:\n",
    "    tlawyers = random.sample(lawyers, 8)\n",
    "    for j in tlawyers:\n",
    "        pdpl = pdpl.append({\"plaintiff\": i, \"lawyer\": j}, ignore_index=True)"
   ]
  },
  {
   "cell_type": "code",
   "execution_count": 71,
   "metadata": {},
   "outputs": [],
   "source": [
    "law_pdpl = pdpl.groupby('lawyer')['plaintiff'].unique().apply(tuple).reset_index()"
   ]
  },
  {
   "cell_type": "code",
   "execution_count": 72,
   "metadata": {},
   "outputs": [
    {
     "data": {
      "text/html": [
       "<div>\n",
       "<style scoped>\n",
       "    .dataframe tbody tr th:only-of-type {\n",
       "        vertical-align: middle;\n",
       "    }\n",
       "\n",
       "    .dataframe tbody tr th {\n",
       "        vertical-align: top;\n",
       "    }\n",
       "\n",
       "    .dataframe thead th {\n",
       "        text-align: right;\n",
       "    }\n",
       "</style>\n",
       "<table border=\"1\" class=\"dataframe\">\n",
       "  <thead>\n",
       "    <tr style=\"text-align: right;\">\n",
       "      <th></th>\n",
       "      <th>lawyer</th>\n",
       "      <th>plaintiff</th>\n",
       "    </tr>\n",
       "  </thead>\n",
       "  <tbody>\n",
       "    <tr>\n",
       "      <th>0</th>\n",
       "      <td>丁刘</td>\n",
       "      <td>(刘庆生, 贾伟)</td>\n",
       "    </tr>\n",
       "    <tr>\n",
       "      <th>1</th>\n",
       "      <td>丁长富</td>\n",
       "      <td>(何林松,)</td>\n",
       "    </tr>\n",
       "    <tr>\n",
       "      <th>2</th>\n",
       "      <td>万方</td>\n",
       "      <td>(张翼,)</td>\n",
       "    </tr>\n",
       "    <tr>\n",
       "      <th>3</th>\n",
       "      <td>万红平</td>\n",
       "      <td>(李娟,)</td>\n",
       "    </tr>\n",
       "    <tr>\n",
       "      <th>4</th>\n",
       "      <td>万迎军</td>\n",
       "      <td>(杜渺, 郭勇, 况力彬)</td>\n",
       "    </tr>\n",
       "  </tbody>\n",
       "</table>\n",
       "</div>"
      ],
      "text/plain": [
       "  lawyer      plaintiff\n",
       "0     丁刘      (刘庆生, 贾伟)\n",
       "1    丁长富         (何林松,)\n",
       "2     万方          (张翼,)\n",
       "3    万红平          (李娟,)\n",
       "4    万迎军  (杜渺, 郭勇, 况力彬)"
      ]
     },
     "execution_count": 72,
     "metadata": {},
     "output_type": "execute_result"
    }
   ],
   "source": [
    "law_pdpl.head()"
   ]
  },
  {
   "cell_type": "code",
   "execution_count": 73,
   "metadata": {},
   "outputs": [],
   "source": [
    "G = nx.Graph()\n",
    "G.add_nodes_from(plaintiffs)\n",
    "for i in range(1, len(law_pdpl)+1):\n",
    "    a = list(law_pdpl[i-1:i]['plaintiff'].values[0])\n",
    "    if len(a) > 0:\n",
    "        G.add_edges_from(list(itertools.combinations(a, 2)))"
   ]
  },
  {
   "cell_type": "code",
   "execution_count": 74,
   "metadata": {},
   "outputs": [],
   "source": [
    "def randomGenerateGraph(): # 重新加地域信息（市）\n",
    "    pdpl = pd.DataFrame(columns=[\"plaintiff\", 'lawyer'])\n",
    "    for i in plaintiffs:\n",
    "        tlawyers = random.sample(lawyers, 8)\n",
    "        for j in tlawyers:\n",
    "            pdpl = pdpl.append({\"plaintiff\": i, \"lawyer\": j}, ignore_index=True)\n",
    "    law_pdpl = pdpl.groupby('lawyer')['plaintiff'].unique().apply(tuple).reset_index()\n",
    "    G= nx.Graph()\n",
    "    G.add_nodes_from(plaintiffs)\n",
    "    for i in range(1, len(law_pdpl)+1):\n",
    "        a = list(law_pdpl[i-1:i]['plaintiff'].values[0])\n",
    "        if len(a) > 0:\n",
    "            G.add_edges_from(list(itertools.combinations(a, 2)))\n",
    "    return G"
   ]
  },
  {
   "cell_type": "code",
   "execution_count": 75,
   "metadata": {},
   "outputs": [],
   "source": [
    "# 看看有多少节点在G_3中不连通\n",
    "# print('connected_components of graph: ',list(nx.connected_components(G_3))[0], len(list(nx.connected_components(G_3))[0]))#162 nodes\n",
    "# print(G_3.nodes(), len(G_3.nodes()))#200 nodes"
   ]
  },
  {
   "cell_type": "markdown",
   "metadata": {},
   "source": [
    "<h3>Spectral Clustering</h3>"
   ]
  },
  {
   "cell_type": "code",
   "execution_count": 76,
   "metadata": {},
   "outputs": [],
   "source": [
    "# Spectral Clustering\n",
    "# 补充提取律师的律所信息（先不做）\n",
    "'''\n",
    "https://www3.nd.edu/~kogge/courses/cse60742-Fall2018/Public/StudentWork/KernelPaperFinal/SCD-Sikdar-final.pdf\n",
    "'''\n",
    "#----------------------------------------------------------------------\n",
    "\n",
    "def k_way_spectral(G, k):\n",
    "    \n",
    "    #去掉不连通的节点\n",
    "    connected_nodes = list(list(nx.connected_components(G))[0])\n",
    "    connected_graph = G.subgraph(connected_nodes)\n",
    "    \n",
    "    #再算一下随机连接的图里面最大连通的节点数有多少（可以再次证明abnormal）\n",
    "    \n",
    "    assert nx.is_connected(connected_graph), \"the graph must be connnected\"\n",
    "    clusters = []\n",
    "    if connected_graph.order() < k:\n",
    "        clusters = list(connected_graph.nodes())\n",
    "    else:\n",
    "        L = nx.laplacian_matrix(connected_graph)\n",
    "        # compute the first k + 1 eigenvectors\n",
    "        _, eigenvecs = sparse.linalg.eigs(L.asfptype(), k=k+1, which='SM')\n",
    "        eigenvecs = eigenvecs.real\n",
    "        # discard the first trivial eigenvector\n",
    "        eigenvecs = eigenvecs[:, 1:]\n",
    "        # normalize each row by its L2 norm\n",
    "        eigenvecs = sklearn.preprocessing.normalize(eigenvecs)\n",
    "        # run K-means\n",
    "        kmeans = KMeans(n_clusters=k).fit(eigenvecs)\n",
    "        cluster_labels = kmeans.labels_\n",
    "        clusters = [[] for _ in range(max(cluster_labels) + 1)]\n",
    "        for node_id, cluster_id in zip(connected_graph.nodes(), cluster_labels):\n",
    "            clusters[cluster_id].append(node_id)\n",
    "    return clusters, connected_graph"
   ]
  },
  {
   "cell_type": "code",
   "execution_count": 77,
   "metadata": {},
   "outputs": [],
   "source": [
    "# clusters\n",
    "# Compute mean modularity and mean conductance for G_3(also std in addition)\n",
    "\n",
    "def result_output(clusters, G):\n",
    "    set_clusters = []\n",
    "    for i in clusters:\n",
    "        newG = G.subgraph(i)\n",
    "        set_clusters.append(set(i))\n",
    "#     print(set_clusters)\n",
    "    conduct = np.mean([nx.conductance(G, cluster_i) for cluster_i in set_clusters])\n",
    "    modula = nx_comm.modularity(G, set_clusters)\n",
    "#     print(modula, conduct)\n",
    "    return modula, conduct"
   ]
  },
  {
   "cell_type": "code",
   "execution_count": 90,
   "metadata": {},
   "outputs": [
    {
     "data": {
      "text/plain": [
       "(0.5375050039655025, 0.19706497008904592)"
      ]
     },
     "execution_count": 90,
     "metadata": {},
     "output_type": "execute_result"
    }
   ],
   "source": [
    "#求G_3 community的modularity和conductance\n",
    "\n",
    "clusters, connecG = k_way_spectral(G_3, 7)\n",
    "a, b = result_output(clusters, connecG)\n",
    "a, b"
   ]
  },
  {
   "cell_type": "code",
   "execution_count": 81,
   "metadata": {
    "scrolled": true
   },
   "outputs": [
    {
     "name": "stdout",
     "output_type": "stream",
     "text": [
      "------time used = 1974.2248609490016 s\n",
      "0.23068602460601745 0.017006714840932222 0.6264357045498951 0.01654524394600784\n"
     ]
    }
   ],
   "source": [
    "# 生成随机图 -> 按照指定数量求partition -> 求分隔后整体社区的modularity和conductance -> 累计运行1000次和原有G_3做比较\n",
    "\n",
    "start = timer()\n",
    "\n",
    "modulas, conducs = [], [] #存起来\n",
    "for i in range(1000):\n",
    "    G = randomGenerateGraph()\n",
    "    clusters, connecG = k_way_spectral(G, 7)\n",
    "    a, b = result_output(clusters, connecG)\n",
    "    modulas.append(a)\n",
    "    conducs.append(b)\n",
    "    \n",
    "end = timer()\n",
    "print(\"------time used = \" + str(end - start) + \" s\")\n",
    "\n",
    "print(np.mean(modulas), np.std(modulas), np.mean(conducs), np.std(conducs)) # 补充std"
   ]
  },
  {
   "cell_type": "markdown",
   "metadata": {},
   "source": [
    "<h3>按照地理位置（具体到市）重新生成plaintiff和lawyer的链接</h3>"
   ]
  },
  {
   "cell_type": "code",
   "execution_count": 63,
   "metadata": {},
   "outputs": [],
   "source": [
    "new_selected_1stcp\n",
    "temp_ns1stcp = new_selected_1stcp[new_selected_1stcp['lawyer'].notna()]\n",
    "city_lawyer = temp_ns1stcp.groupby(['city'])['lawyer'].apply(set).to_dict()\n",
    "city_plaintiff = temp_ns1stcp.groupby(['plaintiff'])['city'].apply(set).to_dict()"
   ]
  },
  {
   "cell_type": "code",
   "execution_count": 64,
   "metadata": {},
   "outputs": [
    {
     "data": {
      "text/plain": [
       "[9, 1, 2, 6, 3, 5, 8, 7]"
      ]
     },
     "execution_count": 64,
     "metadata": {},
     "output_type": "execute_result"
    }
   ],
   "source": [
    "np.random.choice([1, 2, 3, 4, 5, 6, 7, 8, 9], 8, False).tolist()"
   ]
  },
  {
   "cell_type": "code",
   "execution_count": 65,
   "metadata": {},
   "outputs": [],
   "source": [
    "def randGenGraphwithinLocation(): # 重新加地域信息（市）\n",
    "    pdpl = pd.DataFrame(columns=[\"plaintiff\", 'lawyer'])\n",
    "    tlawyer = []\n",
    "    for p in list(city_plaintiff.keys()):\n",
    "        for c in city_plaintiff[p]:\n",
    "            if c in city_lawyer.keys():\n",
    "                tlawyer += list(city_lawyer[c])\n",
    "        if len(tlawyer) > 0:\n",
    "            lawyers = np.random.choice(tlawyer, 8, True).tolist() if len(tlawyer) < 8 else np.random.choice(tlawyer, 8, False).tolist()\n",
    "            for j in lawyers:\n",
    "                pdpl = pdpl.append({\"plaintiff\": p, \"lawyer\": j}, ignore_index=True)\n",
    "    law_pdpl = pdpl.groupby('lawyer')['plaintiff'].unique().apply(tuple).reset_index()\n",
    "    G = nx.Graph()\n",
    "    G.add_nodes_from(plaintiffs)\n",
    "    for i in range(1, len(law_pdpl)+1):\n",
    "        a = list(law_pdpl[i-1:i]['plaintiff'].values[0])\n",
    "        if len(a) > 0:\n",
    "            G.add_edges_from(list(itertools.combinations(a, 2)))\n",
    "    return G"
   ]
  },
  {
   "cell_type": "code",
   "execution_count": 82,
   "metadata": {},
   "outputs": [
    {
     "name": "stdout",
     "output_type": "stream",
     "text": [
      "------time used = 2163.4393698250024 s\n",
      "0.1674507166579698 0.0163721276292351 0.6899982640587417 0.015281769101389692\n"
     ]
    }
   ],
   "source": [
    "# 生成随机图 -> 按照指定数量求partition -> 求分隔后整体社区的modularity和conductance -> 累计运行1000次和原有G_3做比较\n",
    "\n",
    "start = timer()\n",
    "\n",
    "modulas, conducs = [], [] #存起来\n",
    "for i in range(1000):\n",
    "    G = randGenGraphwithinLocation()\n",
    "    clusters, connecG = k_way_spectral(G, 7)\n",
    "    a, b = result_output(clusters, connecG)\n",
    "    modulas.append(a)\n",
    "    conducs.append(b)\n",
    "\n",
    "end = timer()\n",
    "print(\"------time used = \" + str(end - start) + \" s\")\n",
    "print(np.mean(modulas), np.std(modulas), np.mean(conducs), np.std(conducs)) # 补充std"
   ]
  },
  {
   "cell_type": "markdown",
   "metadata": {},
   "source": [
    "<h2>Addition: Analyse the G_3 Community</h2>"
   ]
  },
  {
   "cell_type": "code",
   "execution_count": 94,
   "metadata": {},
   "outputs": [],
   "source": [
    "partition_3 = community_louvain.best_partition(G_3)\n",
    "partitions_3 = []\n",
    "for i in range(50): #看一下前十个community\n",
    "    partitions_3.append({k for k, v in partition_3.items() if v==i})"
   ]
  },
  {
   "cell_type": "code",
   "execution_count": 95,
   "metadata": {},
   "outputs": [
    {
     "data": {
      "text/plain": [
       "1412"
      ]
     },
     "execution_count": 95,
     "metadata": {},
     "output_type": "execute_result"
    }
   ],
   "source": [
    "len(G_3.edges())"
   ]
  },
  {
   "cell_type": "markdown",
   "metadata": {},
   "source": [
    "<h4>统计cluster里律师的相关案件次数排序， 选择每个cluster内较高的律师，重新选择由高频律师主导的数据并且画图，比较前后数据集构成的community内的边差多少</h4>"
   ]
  },
  {
   "cell_type": "code",
   "execution_count": 97,
   "metadata": {},
   "outputs": [],
   "source": [
    "partition_list = []\n",
    "marginal_list = []\n",
    "for i in partitions_3:\n",
    "    if len(i) > 1: partition_list.append(list(i))\n",
    "    if len(i) == 1: marginal_list.append(list(i)[0])"
   ]
  },
  {
   "cell_type": "code",
   "execution_count": 98,
   "metadata": {
    "collapsed": true
   },
   "outputs": [
    {
     "data": {
      "text/plain": [
       "[['薛洋',\n",
       "  '张琦',\n",
       "  '赵磊',\n",
       "  '吴保利',\n",
       "  '王旭',\n",
       "  '白世桥',\n",
       "  '李双琴',\n",
       "  '薛文英',\n",
       "  '王飞',\n",
       "  '梁铭洲',\n",
       "  '许智禄',\n",
       "  '郑细海',\n",
       "  '王少勇',\n",
       "  '吕芝培',\n",
       "  '徐桂锦',\n",
       "  '战伟东',\n",
       "  '刘阳',\n",
       "  '刘占奎',\n",
       "  '李政',\n",
       "  '刘洋',\n",
       "  '胡祥年',\n",
       "  '丛李松',\n",
       "  '孙梦达',\n",
       "  '马超',\n",
       "  '李洪岩',\n",
       "  '徐向新',\n",
       "  '杨照',\n",
       "  '郑建芳',\n",
       "  '矫仁辉',\n",
       "  '周悟权',\n",
       "  '刘俊梅',\n",
       "  '李亮',\n",
       "  '沈凯',\n",
       "  '张波',\n",
       "  '刘锐哲',\n",
       "  '申元生'],\n",
       " ['孙桂兰',\n",
       "  '周开礼',\n",
       "  '邓德波',\n",
       "  '常晓恒',\n",
       "  '罗伟',\n",
       "  '林海东',\n",
       "  '王堂飞',\n",
       "  '郁德专',\n",
       "  '朱志鹏',\n",
       "  '张佩',\n",
       "  '贾龙',\n",
       "  '胡玉宝',\n",
       "  '晏勇',\n",
       "  '贾伟',\n",
       "  '彭雪莲',\n",
       "  '罗生华',\n",
       "  '叶润军',\n",
       "  '沈亮',\n",
       "  '蔡兴杨',\n",
       "  '徐忠',\n",
       "  '秦东',\n",
       "  '李玉婵',\n",
       "  '余定勇',\n",
       "  '李军',\n",
       "  '李娟',\n",
       "  '余啟红',\n",
       "  '何林松',\n",
       "  '姚金东',\n",
       "  '贾涛',\n",
       "  '尹前林',\n",
       "  '况力彬',\n",
       "  '李战江',\n",
       "  '崔毅',\n",
       "  '胡鎏亮',\n",
       "  '张伟',\n",
       "  '强大应',\n",
       "  '刘旺',\n",
       "  '王伟华',\n",
       "  '张望成',\n",
       "  '彭海波',\n",
       "  '张园',\n",
       "  '徐水江',\n",
       "  '李季洪',\n",
       "  '覃玉东',\n",
       "  '刘庆生',\n",
       "  '程祥',\n",
       "  '陈亚平',\n",
       "  '李波',\n",
       "  '张翼',\n",
       "  '胡健',\n",
       "  '杜文江',\n",
       "  '胡勇',\n",
       "  '王书培',\n",
       "  '殷庆'],\n",
       " ['于福利',\n",
       "  '陶然',\n",
       "  '王威',\n",
       "  '刘树文',\n",
       "  '张宏海',\n",
       "  '杨秀欣',\n",
       "  '田秋生',\n",
       "  '王志财',\n",
       "  '李桐丞',\n",
       "  '李志伟',\n",
       "  '王瑜',\n",
       "  '李家亨',\n",
       "  '赵铁亮',\n",
       "  '魏世录'],\n",
       " ['张业君',\n",
       "  '向云福',\n",
       "  '陶梓欣',\n",
       "  '李剑林',\n",
       "  '魏胜武',\n",
       "  '陈君',\n",
       "  '王新建',\n",
       "  '高清燕',\n",
       "  '刘宏伟',\n",
       "  '吕学鹏',\n",
       "  '田晓晓',\n",
       "  '冯德林',\n",
       "  '葛太玉',\n",
       "  '江金龙',\n",
       "  '钱州阳',\n",
       "  '张明亮',\n",
       "  '王福群',\n",
       "  '郭夏天',\n",
       "  '王伟',\n",
       "  '郭栋',\n",
       "  '陈明江',\n",
       "  '孟凡野',\n",
       "  '周立民',\n",
       "  '王玥明',\n",
       "  '简晓祥',\n",
       "  '邹士伟',\n",
       "  '郭福顺',\n",
       "  '王福岭',\n",
       "  '田亚超',\n",
       "  '张宝辉',\n",
       "  '范海',\n",
       "  '杨林茂',\n",
       "  '胡一定',\n",
       "  '王志军',\n",
       "  '简晓华',\n",
       "  '李成学'],\n",
       " ['李海林', '阳秋旺', '谢志胜', '李俊华', '许承凯', '谢志桂'],\n",
       " ['刘会', '韩进虎'],\n",
       " ['张燕',\n",
       "  '熊佳丽',\n",
       "  '申亚坤',\n",
       "  '郑志军',\n",
       "  '程宝全',\n",
       "  '于凤星',\n",
       "  '李富蓉',\n",
       "  '宇文义',\n",
       "  '蒋飞亮',\n",
       "  '俞光新',\n",
       "  '杨超',\n",
       "  '孙丁丁',\n",
       "  '王会勇',\n",
       "  '宇政义',\n",
       "  '张正荣',\n",
       "  '阎家明']]"
      ]
     },
     "execution_count": 98,
     "metadata": {},
     "output_type": "execute_result"
    }
   ],
   "source": [
    "partition_list#louvain"
   ]
  },
  {
   "cell_type": "code",
   "execution_count": 99,
   "metadata": {
    "collapsed": true
   },
   "outputs": [
    {
     "data": {
      "text/plain": [
       "[['白世桥',\n",
       "  '沈凯',\n",
       "  '申元生',\n",
       "  '周悟权',\n",
       "  '张波',\n",
       "  '李政',\n",
       "  '丛李松',\n",
       "  '郑建芳',\n",
       "  '战伟东',\n",
       "  '郑细海',\n",
       "  '刘洋',\n",
       "  '徐桂锦',\n",
       "  '刘占奎',\n",
       "  '杨照',\n",
       "  '赵磊',\n",
       "  '吕芝培',\n",
       "  '梁铭洲',\n",
       "  '李亮',\n",
       "  '李双琴',\n",
       "  '胡祥年',\n",
       "  '王旭',\n",
       "  '许智禄',\n",
       "  '张琦',\n",
       "  '刘阳',\n",
       "  '马超',\n",
       "  '王少勇',\n",
       "  '李洪岩',\n",
       "  '孙梦达',\n",
       "  '徐向新',\n",
       "  '刘锐哲',\n",
       "  '吴保利',\n",
       "  '矫仁辉'],\n",
       " ['张正荣',\n",
       "  '秦东',\n",
       "  '况力彬',\n",
       "  '晏勇',\n",
       "  '蒋飞亮',\n",
       "  '俞光新',\n",
       "  '强大应',\n",
       "  '周开礼',\n",
       "  '谢志桂',\n",
       "  '叶润军',\n",
       "  '胡鎏亮',\n",
       "  '李军',\n",
       "  '余定勇',\n",
       "  '覃玉东',\n",
       "  '胡玉宝',\n",
       "  '贾龙',\n",
       "  '朱志鹏',\n",
       "  '刘庆生',\n",
       "  '王堂飞',\n",
       "  '王伟华',\n",
       "  '李玉婵',\n",
       "  '李海林',\n",
       "  '姚金东',\n",
       "  '李战江',\n",
       "  '李俊华',\n",
       "  '阳秋旺',\n",
       "  '尹前林',\n",
       "  '张伟',\n",
       "  '徐忠',\n",
       "  '胡健',\n",
       "  '崔毅',\n",
       "  '邓德波',\n",
       "  '王飞',\n",
       "  '谢志胜',\n",
       "  '许承凯',\n",
       "  '徐水江',\n",
       "  '郁德专',\n",
       "  '张翼',\n",
       "  '常晓恒',\n",
       "  '贾伟',\n",
       "  '陈亚平',\n",
       "  '张望成',\n",
       "  '贾涛',\n",
       "  '张佩',\n",
       "  '李娟',\n",
       "  '林海东',\n",
       "  '何林松',\n",
       "  '杜文江',\n",
       "  '胡勇',\n",
       "  '殷庆',\n",
       "  '彭海波',\n",
       "  '李波',\n",
       "  '程祥',\n",
       "  '罗伟',\n",
       "  '余啟红',\n",
       "  '李季洪',\n",
       "  '蔡兴杨',\n",
       "  '彭雪莲',\n",
       "  '孙桂兰',\n",
       "  '罗生华',\n",
       "  '王书培',\n",
       "  '张园',\n",
       "  '沈亮',\n",
       "  '刘旺'],\n",
       " ['杨秀欣',\n",
       "  '王玥明',\n",
       "  '陶然',\n",
       "  '魏胜武',\n",
       "  '孟凡野',\n",
       "  '魏世录',\n",
       "  '张宏海',\n",
       "  '田秋生',\n",
       "  '于福利',\n",
       "  '李家亨',\n",
       "  '李志伟',\n",
       "  '郭福顺',\n",
       "  '王志财',\n",
       "  '简晓华',\n",
       "  '冯德林',\n",
       "  '李桐丞',\n",
       "  '田晓晓',\n",
       "  '简晓祥',\n",
       "  '赵铁亮',\n",
       "  '高清燕',\n",
       "  '王瑜',\n",
       "  '田亚超',\n",
       "  '刘树文',\n",
       "  '周立民',\n",
       "  '王威',\n",
       "  '张业君',\n",
       "  '范海',\n",
       "  '王伟',\n",
       "  '王志军',\n",
       "  '薛文英',\n",
       "  '薛洋',\n",
       "  '刘俊梅'],\n",
       " ['江金龙',\n",
       "  '葛太玉',\n",
       "  '张宝辉',\n",
       "  '吕学鹏',\n",
       "  '李剑林',\n",
       "  '刘宏伟',\n",
       "  '邹士伟',\n",
       "  '胡一定',\n",
       "  '王福群',\n",
       "  '张明亮',\n",
       "  '李成学',\n",
       "  '陶梓欣',\n",
       "  '陈君',\n",
       "  '钱州阳'],\n",
       " ['阎家明',\n",
       "  '孙丁丁',\n",
       "  '郑志军',\n",
       "  '杨超',\n",
       "  '申亚坤',\n",
       "  '熊佳丽',\n",
       "  '于凤星',\n",
       "  '王会勇',\n",
       "  '宇政义',\n",
       "  '张燕',\n",
       "  '李富蓉',\n",
       "  '程宝全',\n",
       "  '宇文义'],\n",
       " ['郭栋', '王新建', '郭夏天'],\n",
       " ['陈明江', '王福岭', '向云福', '杨林茂']]"
      ]
     },
     "execution_count": 99,
     "metadata": {},
     "output_type": "execute_result"
    }
   ],
   "source": [
    "clusters#spectral clustering"
   ]
  },
  {
   "cell_type": "markdown",
   "metadata": {},
   "source": [
    "<h4>Compare two community groups result from louvain and spectral clustering</h4>"
   ]
  },
  {
   "cell_type": "code",
   "execution_count": 104,
   "metadata": {},
   "outputs": [],
   "source": [
    "df = pd.DataFrame(columns=[\"group\", \"provinces\", \"success_rate\", \"object_money\", \"penalty\"])\n",
    "for i in partition_list:\n",
    "#     print(i)\n",
    "    temp_ns1stcp = first_cases[first_cases['plaintiff'].isin(i)]\n",
    "#     print(\"province of this group is: \", temp_ns1stcp['province'].unique())\n",
    "    temp_ns1stcp_cc = len(temp_ns1stcp['case_id'].unique())\n",
    "    temp_ns1stcp_sc = len(temp_ns1stcp[temp_ns1stcp['is_success']==\"TRUE\"]['case_id'].unique())\n",
    "#     print(\"success_rate of this group is: \", temp_ns1stcp_sc/temp_ns1stcp_cc, \"\\n\")\n",
    "    df = df.append({\"group\":i, \"provinces\":temp_ns1stcp['province'].unique(), \n",
    "                    \"success_rate\": temp_ns1stcp_sc/temp_ns1stcp_cc, \n",
    "                    \"object_money\": temp_ns1stcp['objectmoney'].mean(), \n",
    "                    \"penalty\": temp_ns1stcp[temp_ns1stcp['is_success']==\"TRUE\"]['penalty'].mean()}, \n",
    "                   ignore_index=True)"
   ]
  },
  {
   "cell_type": "code",
   "execution_count": 105,
   "metadata": {},
   "outputs": [],
   "source": [
    "# add marginal nodes into df as a group\n",
    "# print(marginal_list)\n",
    "temp_ns1stcp = first_cases[first_cases['plaintiff'].isin(marginal_list)]\n",
    "# print(\"province of this group is: \", temp_ns1stcp['province'].unique())\n",
    "temp_ns1stcp_cc = len(temp_ns1stcp['case_id'].unique())\n",
    "temp_ns1stcp_sc = len(temp_ns1stcp[temp_ns1stcp['is_success']==\"TRUE\"]['case_id'].unique())\n",
    "# print(\"success_rate of this group is: \", temp_ns1stcp_sc/temp_ns1stcp_cc, \"\\n\")\n",
    "df = df.append({\"group\":marginal_list, \n",
    "                \"provinces\": temp_ns1stcp['province'].unique(), \n",
    "                \"success_rate\": temp_ns1stcp_sc/temp_ns1stcp_cc, \n",
    "                \"object_money\": temp_ns1stcp['objectmoney'].mean(), \n",
    "                \"penalty\": temp_ns1stcp[temp_ns1stcp['is_success']==\"TRUE\"]['penalty'].mean()}, \n",
    "               ignore_index=True)"
   ]
  },
  {
   "cell_type": "code",
   "execution_count": 106,
   "metadata": {
    "collapsed": true
   },
   "outputs": [
    {
     "data": {
      "text/html": [
       "<div>\n",
       "<style scoped>\n",
       "    .dataframe tbody tr th:only-of-type {\n",
       "        vertical-align: middle;\n",
       "    }\n",
       "\n",
       "    .dataframe tbody tr th {\n",
       "        vertical-align: top;\n",
       "    }\n",
       "\n",
       "    .dataframe thead th {\n",
       "        text-align: right;\n",
       "    }\n",
       "</style>\n",
       "<table border=\"1\" class=\"dataframe\">\n",
       "  <thead>\n",
       "    <tr style=\"text-align: right;\">\n",
       "      <th></th>\n",
       "      <th>group</th>\n",
       "      <th>provinces</th>\n",
       "      <th>success_rate</th>\n",
       "      <th>object_money</th>\n",
       "      <th>penalty</th>\n",
       "    </tr>\n",
       "  </thead>\n",
       "  <tbody>\n",
       "    <tr>\n",
       "      <th>0</th>\n",
       "      <td>[薛洋, 张琦, 赵磊, 吴保利, 王旭, 白世桥, 李双琴, 薛文英, 王飞, 梁铭洲, ...</td>\n",
       "      <td>[浙江省, 北京市, 广东省, 上海市, 河南省, 黑龙江省, 天津市, 山东省, 重庆市,...</td>\n",
       "      <td>0.946607</td>\n",
       "      <td>789.412832</td>\n",
       "      <td>6389.558996</td>\n",
       "    </tr>\n",
       "    <tr>\n",
       "      <th>1</th>\n",
       "      <td>[孙桂兰, 周开礼, 邓德波, 常晓恒, 罗伟, 林海东, 王堂飞, 郁德专, 朱志鹏, 张...</td>\n",
       "      <td>[重庆市, 广西壮族自治区, 安徽省, 湖北省, 江苏省, 四川省, 陕西省, 浙江省, 吉...</td>\n",
       "      <td>0.881130</td>\n",
       "      <td>243.712757</td>\n",
       "      <td>3061.729798</td>\n",
       "    </tr>\n",
       "    <tr>\n",
       "      <th>2</th>\n",
       "      <td>[于福利, 陶然, 王威, 刘树文, 张宏海, 杨秀欣, 田秋生, 王志财, 李桐丞, 李志...</td>\n",
       "      <td>[辽宁省, 江苏省, 天津市]</td>\n",
       "      <td>0.924584</td>\n",
       "      <td>48.738495</td>\n",
       "      <td>1058.758340</td>\n",
       "    </tr>\n",
       "    <tr>\n",
       "      <th>3</th>\n",
       "      <td>[张业君, 向云福, 陶梓欣, 李剑林, 魏胜武, 陈君, 王新建, 高清燕, 刘宏伟, 吕...</td>\n",
       "      <td>[广东省, 天津市, 辽宁省, 河北省, 四川省, 湖北省, 广西壮族自治区, 河南省, 北...</td>\n",
       "      <td>0.929078</td>\n",
       "      <td>514.801934</td>\n",
       "      <td>4872.354807</td>\n",
       "    </tr>\n",
       "    <tr>\n",
       "      <th>4</th>\n",
       "      <td>[李海林, 阳秋旺, 谢志胜, 李俊华, 许承凯, 谢志桂]</td>\n",
       "      <td>[广西壮族自治区, nan]</td>\n",
       "      <td>0.846154</td>\n",
       "      <td>274.150113</td>\n",
       "      <td>3443.229063</td>\n",
       "    </tr>\n",
       "    <tr>\n",
       "      <th>5</th>\n",
       "      <td>[刘会, 韩进虎]</td>\n",
       "      <td>[广东省]</td>\n",
       "      <td>0.921875</td>\n",
       "      <td>2234.871963</td>\n",
       "      <td>12070.800000</td>\n",
       "    </tr>\n",
       "    <tr>\n",
       "      <th>6</th>\n",
       "      <td>[张燕, 熊佳丽, 申亚坤, 郑志军, 程宝全, 于凤星, 李富蓉, 宇文义, 蒋飞亮, 俞...</td>\n",
       "      <td>[上海市, 北京市, 安徽省, 江苏省, 浙江省, 山东省, 河北省, 广东省]</td>\n",
       "      <td>0.898944</td>\n",
       "      <td>1946.455129</td>\n",
       "      <td>19554.524683</td>\n",
       "    </tr>\n",
       "    <tr>\n",
       "      <th>7</th>\n",
       "      <td>[孙安民, 田蒙蒙, 陈天高, 谷战, 杜渺, 郭勇, 杨丽, 李魁伟, 赵佳斌, 代国海,...</td>\n",
       "      <td>[陕西省, 广东省, nan, 四川省, 云南省, 江苏省, 湖南省, 湖北省, 宁夏回族自...</td>\n",
       "      <td>0.666935</td>\n",
       "      <td>152.029765</td>\n",
       "      <td>1734.974739</td>\n",
       "    </tr>\n",
       "  </tbody>\n",
       "</table>\n",
       "</div>"
      ],
      "text/plain": [
       "                                               group  \\\n",
       "0  [薛洋, 张琦, 赵磊, 吴保利, 王旭, 白世桥, 李双琴, 薛文英, 王飞, 梁铭洲, ...   \n",
       "1  [孙桂兰, 周开礼, 邓德波, 常晓恒, 罗伟, 林海东, 王堂飞, 郁德专, 朱志鹏, 张...   \n",
       "2  [于福利, 陶然, 王威, 刘树文, 张宏海, 杨秀欣, 田秋生, 王志财, 李桐丞, 李志...   \n",
       "3  [张业君, 向云福, 陶梓欣, 李剑林, 魏胜武, 陈君, 王新建, 高清燕, 刘宏伟, 吕...   \n",
       "4                     [李海林, 阳秋旺, 谢志胜, 李俊华, 许承凯, 谢志桂]   \n",
       "5                                          [刘会, 韩进虎]   \n",
       "6  [张燕, 熊佳丽, 申亚坤, 郑志军, 程宝全, 于凤星, 李富蓉, 宇文义, 蒋飞亮, 俞...   \n",
       "7  [孙安民, 田蒙蒙, 陈天高, 谷战, 杜渺, 郭勇, 杨丽, 李魁伟, 赵佳斌, 代国海,...   \n",
       "\n",
       "                                           provinces  success_rate  \\\n",
       "0  [浙江省, 北京市, 广东省, 上海市, 河南省, 黑龙江省, 天津市, 山东省, 重庆市,...      0.946607   \n",
       "1  [重庆市, 广西壮族自治区, 安徽省, 湖北省, 江苏省, 四川省, 陕西省, 浙江省, 吉...      0.881130   \n",
       "2                                    [辽宁省, 江苏省, 天津市]      0.924584   \n",
       "3  [广东省, 天津市, 辽宁省, 河北省, 四川省, 湖北省, 广西壮族自治区, 河南省, 北...      0.929078   \n",
       "4                                     [广西壮族自治区, nan]      0.846154   \n",
       "5                                              [广东省]      0.921875   \n",
       "6           [上海市, 北京市, 安徽省, 江苏省, 浙江省, 山东省, 河北省, 广东省]      0.898944   \n",
       "7  [陕西省, 广东省, nan, 四川省, 云南省, 江苏省, 湖南省, 湖北省, 宁夏回族自...      0.666935   \n",
       "\n",
       "   object_money       penalty  \n",
       "0    789.412832   6389.558996  \n",
       "1    243.712757   3061.729798  \n",
       "2     48.738495   1058.758340  \n",
       "3    514.801934   4872.354807  \n",
       "4    274.150113   3443.229063  \n",
       "5   2234.871963  12070.800000  \n",
       "6   1946.455129  19554.524683  \n",
       "7    152.029765   1734.974739  "
      ]
     },
     "metadata": {},
     "output_type": "display_data"
    }
   ],
   "source": [
    "display(df)"
   ]
  },
  {
   "cell_type": "code",
   "execution_count": 107,
   "metadata": {
    "scrolled": true
   },
   "outputs": [
    {
     "data": {
      "text/plain": [
       "0    36\n",
       "1    54\n",
       "2    14\n",
       "3    36\n",
       "4     6\n",
       "5     2\n",
       "6    16\n",
       "7    36\n",
       "Name: group, dtype: int64"
      ]
     },
     "execution_count": 107,
     "metadata": {},
     "output_type": "execute_result"
    }
   ],
   "source": [
    "df['group'].apply(lambda r: len(r))"
   ]
  },
  {
   "cell_type": "code",
   "execution_count": 108,
   "metadata": {},
   "outputs": [],
   "source": [
    "df_spc = pd.DataFrame(columns=[\"group\", \"provinces\", \"success_rate\", \"object_money\", \"penalty\"])\n",
    "for i in clusters:\n",
    "#     print(i)\n",
    "    temp_ns1stcp = first_cases[first_cases['plaintiff'].isin(i)]\n",
    "#     print(\"province of this group is: \", temp_ns1stcp['province'].unique())\n",
    "    temp_ns1stcp_cc = len(temp_ns1stcp['case_id'].unique())\n",
    "    temp_ns1stcp_sc = len(temp_ns1stcp[temp_ns1stcp['is_success']==\"TRUE\"]['case_id'].unique())\n",
    "#     print(\"success_rate of this group is: \", temp_ns1stcp_sc/temp_ns1stcp_cc, \"\\n\")\n",
    "    df_spc = df_spc.append({\"group\":i, \"provinces\":temp_ns1stcp['province'].unique(), \n",
    "                    \"success_rate\": temp_ns1stcp_sc/temp_ns1stcp_cc, \n",
    "                    \"object_money\": temp_ns1stcp['objectmoney'].mean(), \n",
    "                    \"penalty\": temp_ns1stcp[temp_ns1stcp['is_success']==\"TRUE\"]['penalty'].mean()}, \n",
    "                   ignore_index=True)"
   ]
  },
  {
   "cell_type": "code",
   "execution_count": 109,
   "metadata": {
    "collapsed": true
   },
   "outputs": [
    {
     "data": {
      "text/html": [
       "<div>\n",
       "<style scoped>\n",
       "    .dataframe tbody tr th:only-of-type {\n",
       "        vertical-align: middle;\n",
       "    }\n",
       "\n",
       "    .dataframe tbody tr th {\n",
       "        vertical-align: top;\n",
       "    }\n",
       "\n",
       "    .dataframe thead th {\n",
       "        text-align: right;\n",
       "    }\n",
       "</style>\n",
       "<table border=\"1\" class=\"dataframe\">\n",
       "  <thead>\n",
       "    <tr style=\"text-align: right;\">\n",
       "      <th></th>\n",
       "      <th>group</th>\n",
       "      <th>provinces</th>\n",
       "      <th>success_rate</th>\n",
       "      <th>object_money</th>\n",
       "      <th>penalty</th>\n",
       "    </tr>\n",
       "  </thead>\n",
       "  <tbody>\n",
       "    <tr>\n",
       "      <th>0</th>\n",
       "      <td>[白世桥, 沈凯, 申元生, 周悟权, 张波, 李政, 丛李松, 郑建芳, 战伟东, 郑细海...</td>\n",
       "      <td>[浙江省, 北京市, 广东省, 上海市, 河南省, 黑龙江省, 天津市, 山东省, 重庆市,...</td>\n",
       "      <td>0.951800</td>\n",
       "      <td>878.979564</td>\n",
       "      <td>7005.227557</td>\n",
       "    </tr>\n",
       "    <tr>\n",
       "      <th>1</th>\n",
       "      <td>[张正荣, 秦东, 况力彬, 晏勇, 蒋飞亮, 俞光新, 强大应, 周开礼, 谢志桂, 叶润...</td>\n",
       "      <td>[上海市, 重庆市, 安徽省, 广西壮族自治区, 湖北省, 江苏省, 浙江省, 四川省, 陕...</td>\n",
       "      <td>0.880352</td>\n",
       "      <td>253.431253</td>\n",
       "      <td>3121.548143</td>\n",
       "    </tr>\n",
       "    <tr>\n",
       "      <th>2</th>\n",
       "      <td>[杨秀欣, 王玥明, 陶然, 魏胜武, 孟凡野, 魏世录, 张宏海, 田秋生, 于福利, 李...</td>\n",
       "      <td>[辽宁省, 天津市, 江苏省, 河北省, 北京市, 山东省, 上海市]</td>\n",
       "      <td>0.933721</td>\n",
       "      <td>179.037101</td>\n",
       "      <td>2450.829368</td>\n",
       "    </tr>\n",
       "    <tr>\n",
       "      <th>3</th>\n",
       "      <td>[江金龙, 葛太玉, 张宝辉, 吕学鹏, 李剑林, 刘宏伟, 邹士伟, 胡一定, 王福群, ...</td>\n",
       "      <td>[广东省, 四川省, 湖北省, 广西壮族自治区, 北京市, 湖南省, 浙江省]</td>\n",
       "      <td>0.904895</td>\n",
       "      <td>729.098021</td>\n",
       "      <td>6262.522610</td>\n",
       "    </tr>\n",
       "    <tr>\n",
       "      <th>4</th>\n",
       "      <td>[阎家明, 孙丁丁, 郑志军, 杨超, 申亚坤, 熊佳丽, 于凤星, 王会勇, 宇政义, 张...</td>\n",
       "      <td>[上海市, 北京市, 江苏省, 浙江省, 山东省, 河北省, 广东省]</td>\n",
       "      <td>0.899267</td>\n",
       "      <td>2154.884084</td>\n",
       "      <td>21751.144203</td>\n",
       "    </tr>\n",
       "    <tr>\n",
       "      <th>5</th>\n",
       "      <td>[郭栋, 王新建, 郭夏天]</td>\n",
       "      <td>[广东省, 河南省]</td>\n",
       "      <td>0.827068</td>\n",
       "      <td>15.277059</td>\n",
       "      <td>312.676056</td>\n",
       "    </tr>\n",
       "    <tr>\n",
       "      <th>6</th>\n",
       "      <td>[陈明江, 王福岭, 向云福, 杨林茂]</td>\n",
       "      <td>[广东省]</td>\n",
       "      <td>0.972678</td>\n",
       "      <td>3180.404225</td>\n",
       "      <td>22248.809127</td>\n",
       "    </tr>\n",
       "  </tbody>\n",
       "</table>\n",
       "</div>"
      ],
      "text/plain": [
       "                                               group  \\\n",
       "0  [白世桥, 沈凯, 申元生, 周悟权, 张波, 李政, 丛李松, 郑建芳, 战伟东, 郑细海...   \n",
       "1  [张正荣, 秦东, 况力彬, 晏勇, 蒋飞亮, 俞光新, 强大应, 周开礼, 谢志桂, 叶润...   \n",
       "2  [杨秀欣, 王玥明, 陶然, 魏胜武, 孟凡野, 魏世录, 张宏海, 田秋生, 于福利, 李...   \n",
       "3  [江金龙, 葛太玉, 张宝辉, 吕学鹏, 李剑林, 刘宏伟, 邹士伟, 胡一定, 王福群, ...   \n",
       "4  [阎家明, 孙丁丁, 郑志军, 杨超, 申亚坤, 熊佳丽, 于凤星, 王会勇, 宇政义, 张...   \n",
       "5                                     [郭栋, 王新建, 郭夏天]   \n",
       "6                               [陈明江, 王福岭, 向云福, 杨林茂]   \n",
       "\n",
       "                                           provinces  success_rate  \\\n",
       "0  [浙江省, 北京市, 广东省, 上海市, 河南省, 黑龙江省, 天津市, 山东省, 重庆市,...      0.951800   \n",
       "1  [上海市, 重庆市, 安徽省, 广西壮族自治区, 湖北省, 江苏省, 浙江省, 四川省, 陕...      0.880352   \n",
       "2                [辽宁省, 天津市, 江苏省, 河北省, 北京市, 山东省, 上海市]      0.933721   \n",
       "3            [广东省, 四川省, 湖北省, 广西壮族自治区, 北京市, 湖南省, 浙江省]      0.904895   \n",
       "4                [上海市, 北京市, 江苏省, 浙江省, 山东省, 河北省, 广东省]      0.899267   \n",
       "5                                         [广东省, 河南省]      0.827068   \n",
       "6                                              [广东省]      0.972678   \n",
       "\n",
       "   object_money       penalty  \n",
       "0    878.979564   7005.227557  \n",
       "1    253.431253   3121.548143  \n",
       "2    179.037101   2450.829368  \n",
       "3    729.098021   6262.522610  \n",
       "4   2154.884084  21751.144203  \n",
       "5     15.277059    312.676056  \n",
       "6   3180.404225  22248.809127  "
      ]
     },
     "execution_count": 109,
     "metadata": {},
     "output_type": "execute_result"
    }
   ],
   "source": [
    "df_spc"
   ]
  },
  {
   "cell_type": "code",
   "execution_count": 110,
   "metadata": {},
   "outputs": [
    {
     "data": {
      "text/plain": [
       "0    32\n",
       "1    64\n",
       "2    32\n",
       "3    14\n",
       "4    13\n",
       "5     3\n",
       "6     4\n",
       "Name: group, dtype: int64"
      ]
     },
     "execution_count": 110,
     "metadata": {},
     "output_type": "execute_result"
    }
   ],
   "source": [
    "df_spc['group'].apply(lambda r: len(r))"
   ]
  },
  {
   "cell_type": "markdown",
   "metadata": {},
   "source": [
    "<h4>Concat two types of community groups into one dataframe for further comparison</h4>"
   ]
  },
  {
   "cell_type": "code",
   "execution_count": 124,
   "metadata": {},
   "outputs": [],
   "source": [
    "comgroups = pd.concat([df.add_prefix('lou_'), df_spc.add_prefix('spc_')], axis=1)"
   ]
  },
  {
   "cell_type": "code",
   "execution_count": 153,
   "metadata": {},
   "outputs": [
    {
     "data": {
      "text/plain": [
       "set()"
      ]
     },
     "execution_count": 153,
     "metadata": {},
     "output_type": "execute_result"
    }
   ],
   "source": [
    "set(comgroups.loc[4, 'lou_group']).difference(set(comgroups.loc[1, 'spc_group']))\n",
    "# After compare two groups, the first 3 groups in both louvain and spectral clustering \n",
    "# are similar, while the other 3 groups are different"
   ]
  },
  {
   "cell_type": "markdown",
   "metadata": {},
   "source": [
    "<h4>将律师信息添加进df和df_spc中</h4>"
   ]
  },
  {
   "cell_type": "code",
   "execution_count": 117,
   "metadata": {},
   "outputs": [],
   "source": [
    "lawdf = pd.DataFrame(columns=[\"group\", \"lawyer\", \"case_count\"])\n",
    "for i in range(7):\n",
    "    tempGroup = new_selected_1stcp[new_selected_1stcp['plaintiff'].isin(df['group'][i])]\n",
    "    tempLawyers = list(tempGroup['lawyer'].drop_duplicates())\n",
    "#     temp = new_selected_1stcp[new_selected_1stcp['lawyer'].isin(tempLawyers)]\n",
    "    temp = tempGroup.groupby(\"lawyer\")['case_id'].\\\n",
    "    nunique().reset_index().sort_values(by=\"case_id\", ascending=False) # calculate case count for laywers within each community\n",
    "    temp.rename(columns={\"case_id\": \"case_count\"}, inplace=True)\n",
    "    temp = temp.assign(group=i)\n",
    "    lawdf = lawdf.append(temp, ignore_index=True)\n",
    "    \n",
    "lawdf_spc = pd.DataFrame(columns=[\"group\", \"lawyer\", \"case_count\"])\n",
    "for i in range(7):\n",
    "    tempGroup = new_selected_1stcp[new_selected_1stcp['plaintiff'].isin(df_spc['group'][i])]\n",
    "    tempLawyers = list(tempGroup['lawyer'].drop_duplicates())\n",
    "#     temp = new_selected_1stcp[new_selected_1stcp['lawyer'].isin(tempLawyers)]\n",
    "    temp = tempGroup.groupby(\"lawyer\")['case_id'].\\\n",
    "    nunique().reset_index().sort_values(by=\"case_id\", ascending=False) # calculate case count for laywers within each community\n",
    "    temp.rename(columns={\"case_id\": \"case_count\"}, inplace=True)\n",
    "    temp = temp.assign(group=i)\n",
    "    lawdf_spc = lawdf_spc.append(temp, ignore_index=True)"
   ]
  },
  {
   "cell_type": "code",
   "execution_count": 196,
   "metadata": {},
   "outputs": [
    {
     "data": {
      "text/html": [
       "<div>\n",
       "<style scoped>\n",
       "    .dataframe tbody tr th:only-of-type {\n",
       "        vertical-align: middle;\n",
       "    }\n",
       "\n",
       "    .dataframe tbody tr th {\n",
       "        vertical-align: top;\n",
       "    }\n",
       "\n",
       "    .dataframe thead th {\n",
       "        text-align: right;\n",
       "    }\n",
       "</style>\n",
       "<table border=\"1\" class=\"dataframe\">\n",
       "  <thead>\n",
       "    <tr style=\"text-align: right;\">\n",
       "      <th></th>\n",
       "      <th>group</th>\n",
       "      <th>lawyer</th>\n",
       "      <th>case_count</th>\n",
       "    </tr>\n",
       "  </thead>\n",
       "  <tbody>\n",
       "    <tr>\n",
       "      <th>0</th>\n",
       "      <td>0</td>\n",
       "      <td>肖丽君</td>\n",
       "      <td>238</td>\n",
       "    </tr>\n",
       "    <tr>\n",
       "      <th>1</th>\n",
       "      <td>0</td>\n",
       "      <td>牛琨</td>\n",
       "      <td>180</td>\n",
       "    </tr>\n",
       "    <tr>\n",
       "      <th>2</th>\n",
       "      <td>0</td>\n",
       "      <td>万迎军</td>\n",
       "      <td>24</td>\n",
       "    </tr>\n",
       "    <tr>\n",
       "      <th>3</th>\n",
       "      <td>0</td>\n",
       "      <td>张朝阳</td>\n",
       "      <td>14</td>\n",
       "    </tr>\n",
       "    <tr>\n",
       "      <th>4</th>\n",
       "      <td>0</td>\n",
       "      <td>吴迪</td>\n",
       "      <td>14</td>\n",
       "    </tr>\n",
       "    <tr>\n",
       "      <th>...</th>\n",
       "      <td>...</td>\n",
       "      <td>...</td>\n",
       "      <td>...</td>\n",
       "    </tr>\n",
       "    <tr>\n",
       "      <th>149</th>\n",
       "      <td>0</td>\n",
       "      <td>张永权</td>\n",
       "      <td>1</td>\n",
       "    </tr>\n",
       "    <tr>\n",
       "      <th>150</th>\n",
       "      <td>0</td>\n",
       "      <td>张楠</td>\n",
       "      <td>1</td>\n",
       "    </tr>\n",
       "    <tr>\n",
       "      <th>151</th>\n",
       "      <td>0</td>\n",
       "      <td>张文斌</td>\n",
       "      <td>1</td>\n",
       "    </tr>\n",
       "    <tr>\n",
       "      <th>152</th>\n",
       "      <td>0</td>\n",
       "      <td>张国瑞</td>\n",
       "      <td>1</td>\n",
       "    </tr>\n",
       "    <tr>\n",
       "      <th>153</th>\n",
       "      <td>0</td>\n",
       "      <td>李盼兵</td>\n",
       "      <td>1</td>\n",
       "    </tr>\n",
       "  </tbody>\n",
       "</table>\n",
       "<p>154 rows × 3 columns</p>\n",
       "</div>"
      ],
      "text/plain": [
       "    group lawyer case_count\n",
       "0       0    肖丽君        238\n",
       "1       0     牛琨        180\n",
       "2       0    万迎军         24\n",
       "3       0    张朝阳         14\n",
       "4       0     吴迪         14\n",
       "..    ...    ...        ...\n",
       "149     0    张永权          1\n",
       "150     0     张楠          1\n",
       "151     0    张文斌          1\n",
       "152     0    张国瑞          1\n",
       "153     0    李盼兵          1\n",
       "\n",
       "[154 rows x 3 columns]"
      ]
     },
     "execution_count": 196,
     "metadata": {},
     "output_type": "execute_result"
    }
   ],
   "source": [
    "lawdf_spc[lawdf_spc['group']==0]"
   ]
  },
  {
   "cell_type": "markdown",
   "metadata": {},
   "source": [
    "<h4>找一下G_3中community的子图</h4>"
   ]
  },
  {
   "cell_type": "code",
   "execution_count": 20,
   "metadata": {},
   "outputs": [],
   "source": [
    "subgraphs = []\n",
    "for i in range(7):\n",
    "    subgraphs.append(G_3.subgraph(list(df['group'][i])))"
   ]
  },
  {
   "cell_type": "markdown",
   "metadata": {},
   "source": [
    "<h4>找一下每一个group里面的高频律师</h4>"
   ]
  },
  {
   "cell_type": "code",
   "execution_count": 157,
   "metadata": {},
   "outputs": [],
   "source": [
    "highFreqLaws = lawdf.groupby(\"group\").head(5).reset_index(drop=True) #只取第一个lawyer的话图的连接太少\n",
    "highFreqLawsSpc = lawdf_spc.groupby(\"group\").head(5).reset_index(drop=True)"
   ]
  },
  {
   "cell_type": "code",
   "execution_count": 164,
   "metadata": {
    "scrolled": true
   },
   "outputs": [
    {
     "data": {
      "text/html": [
       "<div>\n",
       "<style scoped>\n",
       "    .dataframe tbody tr th:only-of-type {\n",
       "        vertical-align: middle;\n",
       "    }\n",
       "\n",
       "    .dataframe tbody tr th {\n",
       "        vertical-align: top;\n",
       "    }\n",
       "\n",
       "    .dataframe thead th {\n",
       "        text-align: right;\n",
       "    }\n",
       "</style>\n",
       "<table border=\"1\" class=\"dataframe\">\n",
       "  <thead>\n",
       "    <tr style=\"text-align: right;\">\n",
       "      <th></th>\n",
       "      <th>lou_group</th>\n",
       "      <th>lou_lawyer</th>\n",
       "      <th>lou_case_count</th>\n",
       "      <th>spc_group</th>\n",
       "      <th>spc_lawyer</th>\n",
       "      <th>spc_case_count</th>\n",
       "    </tr>\n",
       "  </thead>\n",
       "  <tbody>\n",
       "    <tr>\n",
       "      <th>0</th>\n",
       "      <td>0</td>\n",
       "      <td>肖丽君</td>\n",
       "      <td>239</td>\n",
       "      <td>0</td>\n",
       "      <td>肖丽君</td>\n",
       "      <td>238</td>\n",
       "    </tr>\n",
       "    <tr>\n",
       "      <th>1</th>\n",
       "      <td>0</td>\n",
       "      <td>牛琨</td>\n",
       "      <td>181</td>\n",
       "      <td>0</td>\n",
       "      <td>牛琨</td>\n",
       "      <td>180</td>\n",
       "    </tr>\n",
       "    <tr>\n",
       "      <th>2</th>\n",
       "      <td>0</td>\n",
       "      <td>徐洋</td>\n",
       "      <td>27</td>\n",
       "      <td>0</td>\n",
       "      <td>万迎军</td>\n",
       "      <td>24</td>\n",
       "    </tr>\n",
       "    <tr>\n",
       "      <th>3</th>\n",
       "      <td>0</td>\n",
       "      <td>万迎军</td>\n",
       "      <td>24</td>\n",
       "      <td>0</td>\n",
       "      <td>张朝阳</td>\n",
       "      <td>14</td>\n",
       "    </tr>\n",
       "    <tr>\n",
       "      <th>4</th>\n",
       "      <td>0</td>\n",
       "      <td>吴迪</td>\n",
       "      <td>14</td>\n",
       "      <td>0</td>\n",
       "      <td>吴迪</td>\n",
       "      <td>14</td>\n",
       "    </tr>\n",
       "    <tr>\n",
       "      <th>5</th>\n",
       "      <td>1</td>\n",
       "      <td>吴波</td>\n",
       "      <td>442</td>\n",
       "      <td>1</td>\n",
       "      <td>吴波</td>\n",
       "      <td>444</td>\n",
       "    </tr>\n",
       "    <tr>\n",
       "      <th>6</th>\n",
       "      <td>1</td>\n",
       "      <td>赵乾伟</td>\n",
       "      <td>342</td>\n",
       "      <td>1</td>\n",
       "      <td>赵乾伟</td>\n",
       "      <td>342</td>\n",
       "    </tr>\n",
       "    <tr>\n",
       "      <th>7</th>\n",
       "      <td>1</td>\n",
       "      <td>吴金梅</td>\n",
       "      <td>289</td>\n",
       "      <td>1</td>\n",
       "      <td>吴金梅</td>\n",
       "      <td>289</td>\n",
       "    </tr>\n",
       "    <tr>\n",
       "      <th>8</th>\n",
       "      <td>1</td>\n",
       "      <td>彭丹</td>\n",
       "      <td>221</td>\n",
       "      <td>1</td>\n",
       "      <td>彭丹</td>\n",
       "      <td>221</td>\n",
       "    </tr>\n",
       "    <tr>\n",
       "      <th>9</th>\n",
       "      <td>1</td>\n",
       "      <td>段理</td>\n",
       "      <td>126</td>\n",
       "      <td>1</td>\n",
       "      <td>段理</td>\n",
       "      <td>126</td>\n",
       "    </tr>\n",
       "    <tr>\n",
       "      <th>10</th>\n",
       "      <td>2</td>\n",
       "      <td>王志扬</td>\n",
       "      <td>87</td>\n",
       "      <td>2</td>\n",
       "      <td>王志扬</td>\n",
       "      <td>87</td>\n",
       "    </tr>\n",
       "    <tr>\n",
       "      <th>11</th>\n",
       "      <td>2</td>\n",
       "      <td>顾雪微</td>\n",
       "      <td>61</td>\n",
       "      <td>2</td>\n",
       "      <td>顾雪微</td>\n",
       "      <td>61</td>\n",
       "    </tr>\n",
       "    <tr>\n",
       "      <th>12</th>\n",
       "      <td>2</td>\n",
       "      <td>陈卉</td>\n",
       "      <td>46</td>\n",
       "      <td>2</td>\n",
       "      <td>陈卉</td>\n",
       "      <td>46</td>\n",
       "    </tr>\n",
       "    <tr>\n",
       "      <th>13</th>\n",
       "      <td>2</td>\n",
       "      <td>孟丹妮</td>\n",
       "      <td>42</td>\n",
       "      <td>2</td>\n",
       "      <td>孟丹妮</td>\n",
       "      <td>42</td>\n",
       "    </tr>\n",
       "    <tr>\n",
       "      <th>14</th>\n",
       "      <td>2</td>\n",
       "      <td>齐芳梅</td>\n",
       "      <td>40</td>\n",
       "      <td>2</td>\n",
       "      <td>齐芳梅</td>\n",
       "      <td>40</td>\n",
       "    </tr>\n",
       "    <tr>\n",
       "      <th>15</th>\n",
       "      <td>3</td>\n",
       "      <td>莫观培</td>\n",
       "      <td>51</td>\n",
       "      <td>3</td>\n",
       "      <td>莫观培</td>\n",
       "      <td>51</td>\n",
       "    </tr>\n",
       "    <tr>\n",
       "      <th>16</th>\n",
       "      <td>3</td>\n",
       "      <td>梁梭</td>\n",
       "      <td>41</td>\n",
       "      <td>3</td>\n",
       "      <td>梁梭</td>\n",
       "      <td>41</td>\n",
       "    </tr>\n",
       "    <tr>\n",
       "      <th>17</th>\n",
       "      <td>3</td>\n",
       "      <td>杨玉盟</td>\n",
       "      <td>40</td>\n",
       "      <td>3</td>\n",
       "      <td>杨玉盟</td>\n",
       "      <td>38</td>\n",
       "    </tr>\n",
       "    <tr>\n",
       "      <th>18</th>\n",
       "      <td>3</td>\n",
       "      <td>孙依丰</td>\n",
       "      <td>34</td>\n",
       "      <td>3</td>\n",
       "      <td>孙依丰</td>\n",
       "      <td>34</td>\n",
       "    </tr>\n",
       "    <tr>\n",
       "      <th>19</th>\n",
       "      <td>3</td>\n",
       "      <td>钟永标</td>\n",
       "      <td>27</td>\n",
       "      <td>3</td>\n",
       "      <td>钟永标</td>\n",
       "      <td>26</td>\n",
       "    </tr>\n",
       "    <tr>\n",
       "      <th>20</th>\n",
       "      <td>4</td>\n",
       "      <td>李春晖</td>\n",
       "      <td>49</td>\n",
       "      <td>4</td>\n",
       "      <td>王虹</td>\n",
       "      <td>39</td>\n",
       "    </tr>\n",
       "    <tr>\n",
       "      <th>21</th>\n",
       "      <td>4</td>\n",
       "      <td>张瑾</td>\n",
       "      <td>14</td>\n",
       "      <td>4</td>\n",
       "      <td>杨超</td>\n",
       "      <td>36</td>\n",
       "    </tr>\n",
       "    <tr>\n",
       "      <th>22</th>\n",
       "      <td>4</td>\n",
       "      <td>唐振兴</td>\n",
       "      <td>14</td>\n",
       "      <td>4</td>\n",
       "      <td>张燕</td>\n",
       "      <td>32</td>\n",
       "    </tr>\n",
       "    <tr>\n",
       "      <th>23</th>\n",
       "      <td>4</td>\n",
       "      <td>陈波秀</td>\n",
       "      <td>9</td>\n",
       "      <td>4</td>\n",
       "      <td>滕卫兴</td>\n",
       "      <td>28</td>\n",
       "    </tr>\n",
       "    <tr>\n",
       "      <th>24</th>\n",
       "      <td>4</td>\n",
       "      <td>韦晓阳</td>\n",
       "      <td>8</td>\n",
       "      <td>4</td>\n",
       "      <td>王瀛</td>\n",
       "      <td>14</td>\n",
       "    </tr>\n",
       "    <tr>\n",
       "      <th>25</th>\n",
       "      <td>5</td>\n",
       "      <td>孔静</td>\n",
       "      <td>6</td>\n",
       "      <td>5</td>\n",
       "      <td>曾娜</td>\n",
       "      <td>22</td>\n",
       "    </tr>\n",
       "    <tr>\n",
       "      <th>26</th>\n",
       "      <td>5</td>\n",
       "      <td>李细君</td>\n",
       "      <td>6</td>\n",
       "      <td>5</td>\n",
       "      <td>蔡泽宇</td>\n",
       "      <td>11</td>\n",
       "    </tr>\n",
       "    <tr>\n",
       "      <th>27</th>\n",
       "      <td>5</td>\n",
       "      <td>伍洪琴</td>\n",
       "      <td>3</td>\n",
       "      <td>5</td>\n",
       "      <td>袁媛</td>\n",
       "      <td>5</td>\n",
       "    </tr>\n",
       "    <tr>\n",
       "      <th>28</th>\n",
       "      <td>5</td>\n",
       "      <td>杨超燕</td>\n",
       "      <td>3</td>\n",
       "      <td>5</td>\n",
       "      <td>叶丽明</td>\n",
       "      <td>2</td>\n",
       "    </tr>\n",
       "    <tr>\n",
       "      <th>29</th>\n",
       "      <td>5</td>\n",
       "      <td>赵少东</td>\n",
       "      <td>1</td>\n",
       "      <td>5</td>\n",
       "      <td>吕远霞</td>\n",
       "      <td>2</td>\n",
       "    </tr>\n",
       "    <tr>\n",
       "      <th>30</th>\n",
       "      <td>6</td>\n",
       "      <td>王虹</td>\n",
       "      <td>39</td>\n",
       "      <td>6</td>\n",
       "      <td>利继梅</td>\n",
       "      <td>6</td>\n",
       "    </tr>\n",
       "    <tr>\n",
       "      <th>31</th>\n",
       "      <td>6</td>\n",
       "      <td>杨超</td>\n",
       "      <td>36</td>\n",
       "      <td>6</td>\n",
       "      <td>崔峰</td>\n",
       "      <td>5</td>\n",
       "    </tr>\n",
       "    <tr>\n",
       "      <th>32</th>\n",
       "      <td>6</td>\n",
       "      <td>张燕</td>\n",
       "      <td>32</td>\n",
       "      <td>6</td>\n",
       "      <td>谢泽烽</td>\n",
       "      <td>3</td>\n",
       "    </tr>\n",
       "    <tr>\n",
       "      <th>33</th>\n",
       "      <td>6</td>\n",
       "      <td>滕卫兴</td>\n",
       "      <td>28</td>\n",
       "      <td>6</td>\n",
       "      <td>黄道义</td>\n",
       "      <td>2</td>\n",
       "    </tr>\n",
       "    <tr>\n",
       "      <th>34</th>\n",
       "      <td>6</td>\n",
       "      <td>王瀛</td>\n",
       "      <td>14</td>\n",
       "      <td>6</td>\n",
       "      <td>杨玉盟</td>\n",
       "      <td>2</td>\n",
       "    </tr>\n",
       "  </tbody>\n",
       "</table>\n",
       "</div>"
      ],
      "text/plain": [
       "   lou_group lou_lawyer lou_case_count spc_group spc_lawyer spc_case_count\n",
       "0          0        肖丽君            239         0        肖丽君            238\n",
       "1          0         牛琨            181         0         牛琨            180\n",
       "2          0         徐洋             27         0        万迎军             24\n",
       "3          0        万迎军             24         0        张朝阳             14\n",
       "4          0         吴迪             14         0         吴迪             14\n",
       "5          1         吴波            442         1         吴波            444\n",
       "6          1        赵乾伟            342         1        赵乾伟            342\n",
       "7          1        吴金梅            289         1        吴金梅            289\n",
       "8          1         彭丹            221         1         彭丹            221\n",
       "9          1         段理            126         1         段理            126\n",
       "10         2        王志扬             87         2        王志扬             87\n",
       "11         2        顾雪微             61         2        顾雪微             61\n",
       "12         2         陈卉             46         2         陈卉             46\n",
       "13         2        孟丹妮             42         2        孟丹妮             42\n",
       "14         2        齐芳梅             40         2        齐芳梅             40\n",
       "15         3        莫观培             51         3        莫观培             51\n",
       "16         3         梁梭             41         3         梁梭             41\n",
       "17         3        杨玉盟             40         3        杨玉盟             38\n",
       "18         3        孙依丰             34         3        孙依丰             34\n",
       "19         3        钟永标             27         3        钟永标             26\n",
       "20         4        李春晖             49         4         王虹             39\n",
       "21         4         张瑾             14         4         杨超             36\n",
       "22         4        唐振兴             14         4         张燕             32\n",
       "23         4        陈波秀              9         4        滕卫兴             28\n",
       "24         4        韦晓阳              8         4         王瀛             14\n",
       "25         5         孔静              6         5         曾娜             22\n",
       "26         5        李细君              6         5        蔡泽宇             11\n",
       "27         5        伍洪琴              3         5         袁媛              5\n",
       "28         5        杨超燕              3         5        叶丽明              2\n",
       "29         5        赵少东              1         5        吕远霞              2\n",
       "30         6         王虹             39         6        利继梅              6\n",
       "31         6         杨超             36         6         崔峰              5\n",
       "32         6         张燕             32         6        谢泽烽              3\n",
       "33         6        滕卫兴             28         6        黄道义              2\n",
       "34         6         王瀛             14         6        杨玉盟              2"
      ]
     },
     "execution_count": 164,
     "metadata": {},
     "output_type": "execute_result"
    }
   ],
   "source": [
    "pd.concat([highFreqLaws.add_prefix(\"lou_\"), highFreqLawsSpc.add_prefix(\"spc_\")], axis=1) # lawyers in the first 4 groups are same"
   ]
  },
  {
   "cell_type": "markdown",
   "metadata": {},
   "source": [
    "<h4>重新build一下以高频律师为基础的network</h4>"
   ]
  },
  {
   "cell_type": "code",
   "execution_count": 165,
   "metadata": {},
   "outputs": [],
   "source": [
    "nnew_selected_1stcp = new_selected_1stcp[new_selected_1stcp['lawyer'].isin(list(highFreqLaws['lawyer']))]"
   ]
  },
  {
   "cell_type": "code",
   "execution_count": 166,
   "metadata": {},
   "outputs": [],
   "source": [
    "newG = nx.Graph()\n",
    "newG.add_nodes_from(plaintiffs)\n",
    "law_nselected_1stcp = nnew_selected_1stcp.groupby('lawyer')['plaintiff'].unique().apply(tuple).reset_index()\n",
    "for i in range(1, len(law_nselected_1stcp)+1):\n",
    "    a = list(law_nselected_1stcp[i-1:i]['plaintiff'].values[0])\n",
    "    if len(a) > 1:\n",
    "        newG.add_edges_from(list(itertools.combinations(a, 2)))"
   ]
  },
  {
   "cell_type": "code",
   "execution_count": 25,
   "metadata": {},
   "outputs": [
    {
     "name": "stdout",
     "output_type": "stream",
     "text": [
      "{'姚金东', '孙桂兰', '周开礼', '何林松', '罗生华', '李战江', '陈亚平', '朱志鹏', '贾伟', '王书培', '程祥', '罗伟', '贾涛', '王堂飞', '常晓恒', '张佩', '彭雪莲', '徐水江', '秦东', '李娟', '刘旺', '林海东', '胡勇', '强大应', '王伟华', '邓德波', '余啟红', '蔡兴杨', '张翼', '晏勇', '尹前林', '张伟', '贾龙', '刘庆生', '张望成', '胡玉宝', '况力彬', '杜文江', '郁德专', '叶润军'}\n",
      "{'许智禄', '张琦', '郑细海', '吴保利', '白世桥', '徐桂锦', '马超', '杨照', '丛李松', '王少勇', '赵磊', '申元生', '周悟权', '矫仁辉', '刘占奎', '刘锐哲', '刘洋', '沈凯', '胡祥年', '李双琴', '王旭', '王飞', '李亮', '孙梦达', '李洪岩', '战伟东', '刘阳'}\n",
      "{'张明亮', '李剑林', '邹士伟', '王福群', '李成学', '杨林茂', '刘宏伟', '葛太玉', '江金龙', '陈君'}\n",
      "{'覃玉东', '张园', '李波', '李玉婵', '李军', '余定勇', '沈亮'}\n",
      "{'孙丁丁', '郑志军', '张燕', '杨超', '于凤星'}\n",
      "{'谢志胜', '李海林', '阳秋旺', '李俊华', '谢志桂', '许承凯'}\n",
      "{'于福利', '李家亨', '杨秀欣', '薛洋', '赵铁亮', '王瑜', '王威', '田秋生', '李桐丞', '陶然', '张宏海', '刘俊梅', '李志伟', '薛文英', '刘树文', '魏世录', '王志财'}\n"
     ]
    }
   ],
   "source": [
    "partition_ng = community_louvain.best_partition(newG)\n",
    "partitions_ng = []\n",
    "new_groups = []\n",
    "for i in range(50): #看一下前十个community\n",
    "    partitions_ng.append({k for k, v in partition_ng.items() if v==i})\n",
    "for i in partitions_ng:\n",
    "    if len(i) > 1:\n",
    "        new_groups.append(i)\n",
    "        print(i)"
   ]
  },
  {
   "cell_type": "code",
   "execution_count": 26,
   "metadata": {},
   "outputs": [],
   "source": [
    "new_subgraphs = []\n",
    "for i in range(len(new_groups)):\n",
    "    new_subgraphs.append(newG.subgraph(new_groups[i]))"
   ]
  },
  {
   "cell_type": "markdown",
   "metadata": {},
   "source": [
    "<h4>比较前后两个community内部边的差</h4>"
   ]
  },
  {
   "cell_type": "code",
   "execution_count": 27,
   "metadata": {},
   "outputs": [
    {
     "name": "stdout",
     "output_type": "stream",
     "text": [
      "1285 1044\n"
     ]
    }
   ],
   "source": [
    "# 每个group前五个律师可以主导形成community\n",
    "print(sum([len(i.edges()) for i in subgraphs]), sum([len(i.edges()) for i in new_subgraphs]))"
   ]
  },
  {
   "cell_type": "markdown",
   "metadata": {},
   "source": [
    "<h4>去掉某一个group的高频律师重新build一下network</h4>"
   ]
  },
  {
   "cell_type": "code",
   "execution_count": 28,
   "metadata": {},
   "outputs": [
    {
     "name": "stdout",
     "output_type": "stream",
     "text": [
      "['肖丽君', '牛琨', '徐洋', '万迎军', '吴迪']\n",
      "59 346\n"
     ]
    }
   ],
   "source": [
    "#去掉group0的高频律师\n",
    "print(list(highFreqLaws['lawyer'][:5]))\n",
    "nnew_selected_1stcp = new_selected_1stcp[~(new_selected_1stcp['lawyer'].isin(list(highFreqLaws['lawyer'][:5])))]\n",
    "\n",
    "newG = nx.Graph()\n",
    "newG.add_nodes_from(plaintiffs)\n",
    "law_nselected_1stcp = nnew_selected_1stcp.groupby('lawyer')['plaintiff'].unique().apply(tuple).reset_index()\n",
    "for i in range(1, len(law_nselected_1stcp)+1):\n",
    "    a = list(law_nselected_1stcp[i-1:i]['plaintiff'].values[0])\n",
    "    if len(a) > 1:\n",
    "        newG.add_edges_from(list(itertools.combinations(a, 2)))\n",
    "group0_sub = newG.subgraph(df['group'][0])\n",
    "print(len(group0_sub.edges()), len(G_3.subgraph(df['group'][0]).edges()))"
   ]
  },
  {
   "cell_type": "code",
   "execution_count": 29,
   "metadata": {},
   "outputs": [
    {
     "name": "stdout",
     "output_type": "stream",
     "text": [
      "22 26\n"
     ]
    }
   ],
   "source": [
    "#group1\n",
    "highFreqLaws['lawyer'][5:10]\n",
    "nnew_selected_1stcp = new_selected_1stcp[~(new_selected_1stcp['lawyer'].isin(list(highFreqLaws['lawyer'][5:10])))]\n",
    "newG = nx.Graph()\n",
    "newG.add_nodes_from(plaintiffs)\n",
    "law_nselected_1stcp = nnew_selected_1stcp.groupby('lawyer')['plaintiff'].unique().apply(tuple).reset_index()\n",
    "for i in range(1, len(law_nselected_1stcp)+1):\n",
    "    a = list(law_nselected_1stcp[i-1:i]['plaintiff'].values[0])\n",
    "    if len(a) > 1:\n",
    "        newG.add_edges_from(list(itertools.combinations(a, 2)))\n",
    "group1_sub = newG.subgraph(df['group'][1])\n",
    "print(len(group1_sub.edges()), len(G_3.subgraph(df['group'][1]).edges()))"
   ]
  },
  {
   "cell_type": "code",
   "execution_count": 194,
   "metadata": {},
   "outputs": [
    {
     "data": {
      "text/html": [
       "<div>\n",
       "<style scoped>\n",
       "    .dataframe tbody tr th:only-of-type {\n",
       "        vertical-align: middle;\n",
       "    }\n",
       "\n",
       "    .dataframe tbody tr th {\n",
       "        vertical-align: top;\n",
       "    }\n",
       "\n",
       "    .dataframe thead th {\n",
       "        text-align: right;\n",
       "    }\n",
       "</style>\n",
       "<table border=\"1\" class=\"dataframe\">\n",
       "  <thead>\n",
       "    <tr style=\"text-align: right;\">\n",
       "      <th></th>\n",
       "      <th>dominant_lawyers</th>\n",
       "      <th>new_com_edge</th>\n",
       "      <th>ori_com_edge</th>\n",
       "      <th>ori_group_member</th>\n",
       "      <th>new_group_member</th>\n",
       "      <th>dominant_proportion</th>\n",
       "      <th>ori_conductance</th>\n",
       "      <th>new_conductance</th>\n",
       "    </tr>\n",
       "  </thead>\n",
       "  <tbody>\n",
       "    <tr>\n",
       "      <th>0</th>\n",
       "      <td>[肖丽君, 牛琨, 万迎军, 张朝阳, 吴迪]</td>\n",
       "      <td>59</td>\n",
       "      <td>312</td>\n",
       "      <td>32</td>\n",
       "      <td>27</td>\n",
       "      <td>0.810897</td>\n",
       "      <td>0.122363</td>\n",
       "      <td>0.0</td>\n",
       "    </tr>\n",
       "    <tr>\n",
       "      <th>1</th>\n",
       "      <td>[吴波, 赵乾伟, 吴金梅, 彭丹, 段理]</td>\n",
       "      <td>278</td>\n",
       "      <td>741</td>\n",
       "      <td>64</td>\n",
       "      <td>57</td>\n",
       "      <td>0.624831</td>\n",
       "      <td>0.040310</td>\n",
       "      <td>0.0</td>\n",
       "    </tr>\n",
       "    <tr>\n",
       "      <th>2</th>\n",
       "      <td>[王志扬, 顾雪微, 陈卉, 孟丹妮, 齐芳梅]</td>\n",
       "      <td>140</td>\n",
       "      <td>158</td>\n",
       "      <td>32</td>\n",
       "      <td>31</td>\n",
       "      <td>0.113924</td>\n",
       "      <td>0.122222</td>\n",
       "      <td>0.0</td>\n",
       "    </tr>\n",
       "    <tr>\n",
       "      <th>3</th>\n",
       "      <td>[莫观培, 梁梭, 杨玉盟, 孙依丰, 钟永标]</td>\n",
       "      <td>33</td>\n",
       "      <td>53</td>\n",
       "      <td>14</td>\n",
       "      <td>14</td>\n",
       "      <td>0.377358</td>\n",
       "      <td>0.242857</td>\n",
       "      <td>0.0</td>\n",
       "    </tr>\n",
       "    <tr>\n",
       "      <th>4</th>\n",
       "      <td>[王虹, 杨超, 张燕, 滕卫兴, 王瀛]</td>\n",
       "      <td>18</td>\n",
       "      <td>22</td>\n",
       "      <td>13</td>\n",
       "      <td>12</td>\n",
       "      <td>0.181818</td>\n",
       "      <td>0.254237</td>\n",
       "      <td>0.0</td>\n",
       "    </tr>\n",
       "    <tr>\n",
       "      <th>5</th>\n",
       "      <td>[曾娜, 蔡泽宇, 袁媛, 叶丽明, 吕远霞]</td>\n",
       "      <td>0</td>\n",
       "      <td>3</td>\n",
       "      <td>3</td>\n",
       "      <td>0</td>\n",
       "      <td>1.000000</td>\n",
       "      <td>0.142857</td>\n",
       "      <td>NaN</td>\n",
       "    </tr>\n",
       "    <tr>\n",
       "      <th>6</th>\n",
       "      <td>[利继梅, 崔峰, 谢泽烽, 黄道义, 杨玉盟]</td>\n",
       "      <td>2</td>\n",
       "      <td>3</td>\n",
       "      <td>4</td>\n",
       "      <td>3</td>\n",
       "      <td>0.333333</td>\n",
       "      <td>0.454545</td>\n",
       "      <td>0.0</td>\n",
       "    </tr>\n",
       "  </tbody>\n",
       "</table>\n",
       "</div>"
      ],
      "text/plain": [
       "           dominant_lawyers new_com_edge ori_com_edge ori_group_member  \\\n",
       "0   [肖丽君, 牛琨, 万迎军, 张朝阳, 吴迪]           59          312               32   \n",
       "1    [吴波, 赵乾伟, 吴金梅, 彭丹, 段理]          278          741               64   \n",
       "2  [王志扬, 顾雪微, 陈卉, 孟丹妮, 齐芳梅]          140          158               32   \n",
       "3  [莫观培, 梁梭, 杨玉盟, 孙依丰, 钟永标]           33           53               14   \n",
       "4     [王虹, 杨超, 张燕, 滕卫兴, 王瀛]           18           22               13   \n",
       "5   [曾娜, 蔡泽宇, 袁媛, 叶丽明, 吕远霞]            0            3                3   \n",
       "6  [利继梅, 崔峰, 谢泽烽, 黄道义, 杨玉盟]            2            3                4   \n",
       "\n",
       "  new_group_member  dominant_proportion  ori_conductance  new_conductance  \n",
       "0               27             0.810897         0.122363              0.0  \n",
       "1               57             0.624831         0.040310              0.0  \n",
       "2               31             0.113924         0.122222              0.0  \n",
       "3               14             0.377358         0.242857              0.0  \n",
       "4               12             0.181818         0.254237              0.0  \n",
       "5                0             1.000000         0.142857              NaN  \n",
       "6                3             0.333333         0.454545              0.0  "
      ]
     },
     "execution_count": 194,
     "metadata": {},
     "output_type": "execute_result"
    }
   ],
   "source": [
    "resultDf = pd.DataFrame(columns=[\n",
    "    \"dominant_lawyers\", \n",
    "    \"new_com_edge\", \n",
    "    \"ori_com_edge\", \n",
    "    \"ori_group_member\", \n",
    "    \"new_group_member\", \n",
    "    \"dominant_proportion\", \n",
    "    \"ori_conductance\", \n",
    "    \"new_conductance\"])\n",
    "\n",
    "new_clusters = []\n",
    "newG = nx.Graph()\n",
    "newG.add_nodes_from(plaintiffs)\n",
    "\n",
    "for i in range(7):\n",
    "#     highFreqLaws['lawyer'][i*5:i*5+5]\n",
    "    new_cluster = []\n",
    "\n",
    "    # select group data\n",
    "    nnew_selected_1stcp = new_selected_1stcp[new_selected_1stcp['plaintiff'].isin(df_spc['group'][i])]\n",
    "    # remove dominant lawyer from that data\n",
    "    nnew_selected_1stcp = nnew_selected_1stcp[~(nnew_selected_1stcp['lawyer'].isin(list(highFreqLawsSpc['lawyer'][i*5:i*5+5])))]\n",
    "    \n",
    "    law_nselected_1stcp = nnew_selected_1stcp.groupby('lawyer')['plaintiff'].unique().apply(tuple).reset_index()\n",
    "    for j in range(1, len(law_nselected_1stcp)+1):\n",
    "        a = list(law_nselected_1stcp[j-1:j]['plaintiff'].values[0])\n",
    "        if len(a) > 1:\n",
    "            new_cluster += a\n",
    "            newG.add_edges_from(list(itertools.combinations(a, 2)))\n",
    "            \n",
    "    new_clusters.append(list(set(new_cluster)))\n",
    "    group_sub = newG.subgraph(new_clusters[i])\n",
    "    \n",
    "    resultDf = resultDf.append({\n",
    "        \"dominant_lawyers\": list(highFreqLawsSpc['lawyer'][i*5:i*5+5]), \n",
    "        \"new_com_edge\": len(group_sub.edges()), \n",
    "        \"ori_com_edge\": len(G_3.subgraph(df_spc['group'][i]).edges()), \n",
    "        \"ori_group_member\": len(df_spc['group'][i]), \n",
    "        \"new_group_member\": len(new_clusters[i]), \n",
    "        \"dominant_proportion\": 1 - (len(group_sub.edges()) / len(G_3.subgraph(df_spc['group'][i]).edges())), \n",
    "    }, ignore_index=True)\n",
    "    \n",
    "resultDf['ori_conductance'] = [nx.conductance(G_3, cluster_i) for cluster_i in df_spc['group']]\n",
    "resultDf['new_conductance'] = [nx.conductance(newG, cluster_i) if len(cluster_i) > 0 else np.nan for cluster_i in new_clusters]\n",
    "resultDf\n",
    "# why new conductance all zero???"
   ]
  },
  {
   "cell_type": "code",
   "execution_count": 189,
   "metadata": {},
   "outputs": [
    {
     "data": {
      "text/plain": [
       "0.0"
      ]
     },
     "execution_count": 189,
     "metadata": {},
     "output_type": "execute_result"
    }
   ],
   "source": [
    "nx.conductance(newG, new_clusters[1])"
   ]
  },
  {
   "cell_type": "code",
   "execution_count": 190,
   "metadata": {},
   "outputs": [],
   "source": [
    "nx.write_gexf(newG, \"/Users/starice/OwnFiles/cityu/RA/case_study/case_study_result/networks/lawyerG.gexf\")"
   ]
  },
  {
   "cell_type": "code",
   "execution_count": null,
   "metadata": {},
   "outputs": [],
   "source": [
    "# 设置dominant阈值，找到不同group的dominant lawyers，find intersection of them去观察有没有律师流窜（活跃律师）"
   ]
  }
 ],
 "metadata": {
  "kernelspec": {
   "display_name": "Python 3",
   "language": "python",
   "name": "python3"
  },
  "language_info": {
   "codemirror_mode": {
    "name": "ipython",
    "version": 3
   },
   "file_extension": ".py",
   "mimetype": "text/x-python",
   "name": "python",
   "nbconvert_exporter": "python",
   "pygments_lexer": "ipython3",
   "version": "3.8.5"
  }
 },
 "nbformat": 4,
 "nbformat_minor": 4
}
