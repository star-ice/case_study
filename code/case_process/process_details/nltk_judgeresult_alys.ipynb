{
 "cells": [
  {
   "cell_type": "markdown",
   "metadata": {},
   "source": [
    "<h3>This notebook is to analyse the nltk applied to judgement result text</h3>"
   ]
  },
  {
   "cell_type": "markdown",
   "metadata": {},
   "source": [
    "<h3>Use JIEBA tokenizer to split the text first<font color=\"red\">(This has been replaced by spacy in sent_struc_alys.ipynb)</font></h3>"
   ]
  },
  {
   "cell_type": "code",
   "execution_count": 2,
   "metadata": {},
   "outputs": [
    {
     "name": "stderr",
     "output_type": "stream",
     "text": [
      "[nltk_data] Downloading package sinica_treebank to\n",
      "[nltk_data]     /Users/starice/nltk_data...\n",
      "[nltk_data]   Package sinica_treebank is already up-to-date!\n"
     ]
    }
   ],
   "source": [
    "#coding utf-8\n",
    "import nltk\n",
    "import jieba\n",
    "import sys\n",
    "import re\n",
    "# nltk.download()\n",
    "nltk.download('sinica_treebank')\n",
    "from nltk.parse import stanford\n",
    "from nltk.tree import Tree"
   ]
  },
  {
   "cell_type": "code",
   "execution_count": 3,
   "metadata": {},
   "outputs": [],
   "source": [
    "TEXT = []\n",
    "with open(\"/Users/starice/Desktop/judgeresult_第二类_2016_8_text.txt\", \"r\", encoding=\"UTF-8\") as f:\n",
    "    for line in f:\n",
    "        TEXT.append(line)"
   ]
  },
  {
   "cell_type": "code",
   "execution_count": 42,
   "metadata": {},
   "outputs": [],
   "source": [
    "cost_type = ['货款','价款','受理费','赔偿金','公证费','诉讼费','购物款','上诉费','公告费',\\\n",
    "             '交通费','误工费','打印费','鉴定费','邮寄费','赔偿款','医疗费','购酒款','购药款',\\\n",
    "             '住宿费','产品质量监督检验费','其他费用', '餐饮费', '购货款']\n",
    "for c in cost_type:\n",
    "    jieba.add_word(c, freq=1000, tag=\"COST_TYPE\")\n",
    "#细微分词调节\n",
    "jieba.suggest_freq(\"本判决\", True)\n",
    "jieba.add_word(\"发生法律效力\", freq=10000)\n",
    "jieba.add_word(\"本判决生效之日起\", freq=10000)\n",
    "jieba.add_word(\"本判决生效后\", freq=10000)\n",
    "jieba.add_word(\"悦家公司阳光店\", freq=1000)\n",
    "jieba.add_word(\"向\", freq=1000000)\n",
    "jieba.add_word(\"赔偿\", freq=10000)\n",
    "jieba.add_word(\"退还\", freq=10000)\n",
    "jieba.add_word(\"负担\", freq=10000)\n",
    "jieba.add_word(\"返还\", freq=10000)\n",
    "jieba.add_word(\"支付\", freq=10000)\n",
    "jieba.add_word(\"赔付\", freq=10000)\n",
    "jieba.add_word(\"承担\", freq=10000)\n",
    "jieba.add_word(\"收取\", freq=10000)\n",
    "jieba.add_word(\"迳付\", freq=10000)"
   ]
  },
  {
   "cell_type": "code",
   "execution_count": 43,
   "metadata": {},
   "outputs": [],
   "source": [
    "#将原告被告信息添加至词库再做分词\n",
    "PARTY_TITLE_TEXT = []\n",
    "with open(\"/Users/starice/Desktop/partyinfo_result_第二类_2016_8_text.txt\", \"r\", encoding=\"UTF-8\") as f:\n",
    "    for line in f:\n",
    "        PARTY_TITLE_TEXT.append(line)\n",
    "for i in PARTY_TITLE_TEXT:\n",
    "    if \"{\" in i:\n",
    "        temp_party_dict = eval(i)\n",
    "        if \"name\" in temp_party_dict:\n",
    "#             print(temp_party_dict)\n",
    "            jieba.add_word(temp_party_dict['name'], freq=1000, tag=\"PARTY_NAME\")"
   ]
  },
  {
   "cell_type": "code",
   "execution_count": 44,
   "metadata": {},
   "outputs": [],
   "source": [
    "#可以使用正则表达式匹配好金额然后作为词典加进去jieba现有词库中(可以实现大部分分词，还是有特例，例如1,000元)\n",
    "money_re = r\"(?P<amount>([零一二三四五六七八九十百千万亿角元]*|[\\d+\\.,]*)[角|元])\""
   ]
  },
  {
   "cell_type": "code",
   "execution_count": 45,
   "metadata": {},
   "outputs": [],
   "source": [
    "#使用精确模式给案件结果文本分词\n",
    "sents = {}\n",
    "for t in TEXT[:]:\n",
    "    t = t.replace(\"\\n\", \"\")\n",
    "    t = t[:-1] #去掉最后一个符号\n",
    "    t = re.sub(r'[一二三四五六七八九十]、', '', t)\n",
    "    if re.search(money_re, t) is not None:\n",
    "        money_match = re.finditer(money_re, t)\n",
    "        for mm in money_match:\n",
    "            if mm is not None:\n",
    "                mm_text = mm.groupdict()['amount']\n",
    "                if len(mm_text) > 1:\n",
    "                    # jieba.add_word(mm['amount'], freq=100000, tag=\"MONEY\")\n",
    "                    jieba.suggest_freq(mm['amount'], True)\n",
    "        seg_list = jieba.cut(t, cut_all=False)\n",
    "    #     print(list(seg_list))\n",
    "    #     print(\" \".join(seg_list))\n",
    "        sents[t] = list(seg_list)\n"
   ]
  },
  {
   "cell_type": "code",
   "execution_count": 46,
   "metadata": {},
   "outputs": [],
   "source": [
    "#创建token_dict文件为spacy所用\n",
    "with open(\"/Users/starice/Desktop/token_dict_第二类_2016_8.txt\", \"w\", encoding=\"UTF-8\") as f:\n",
    "    f.write(\"{\")\n",
    "    for k, v in sents.items():\n",
    "        f.write(\"'\" + str(k) + \"'\" + \":\" + str(v) + \",\")\n",
    "    f.write(\"}\")"
   ]
  },
  {
   "cell_type": "markdown",
   "metadata": {},
   "source": [
    "<h3>这部分需要继续查阅资料进行学习做完</h3>"
   ]
  },
  {
   "cell_type": "code",
   "execution_count": 40,
   "metadata": {},
   "outputs": [],
   "source": [
    "#使用nltk中的中文语法树\n",
    "# Preset\n",
    "nlp = StanfordCoreNLP('/Users/starice/Desktop/stanford-corenlp-4.2.0', lang='zh', memory='8g')\n"
   ]
  },
  {
   "cell_type": "code",
   "execution_count": 41,
   "metadata": {
    "scrolled": false
   },
   "outputs": [
    {
     "name": "stdout",
     "output_type": "stream",
     "text": [
      "詞性標記： [('一', 'CD'), ('、', 'PU'), ('被告', 'NN'), ('天虹', 'NR'), ('商场', 'NN'), ('股份', 'NN'), ('有限', 'JJ'), ('公司', 'NN'), ('应', 'VV'), ('于', 'P'), ('本', 'DT'), ('判决', 'NN'), ('生效', 'VV'), ('之', 'DEC'), ('日', 'NN'), ('起', 'VV'), ('十', 'CD'), ('日', 'M'), ('内向', 'VA'), ('原告', 'NN'), ('李成', 'NR'), ('学', 'VV'), ('退还', 'VV'), ('涉案', 'JJ'), ('产品', 'NN'), ('的', 'DEG'), ('价款', 'NN'), ('每', 'DT'), ('案', 'NN'), ('为', 'VC'), ('29.5', 'CD'), ('元', 'M'), (',', 'PU'), ('原告', 'NN'), ('李成', 'NR'), ('学', 'VV'), ('应于', 'VV'), ('本', 'DT'), ('判决', 'NN'), ('生效', 'VV'), ('之', 'DEC'), ('日', 'NN'), ('起', 'VV'), ('十', 'CD'), ('日', 'M'), ('内向', 'VA'), ('被告', 'NN'), ('天虹', 'NR'), ('商场', 'NN'), ('股份', 'NN'), ('有限', 'JJ'), ('公司', 'NN'), ('退还', 'VV'), ('所', 'MSP'), ('购买', 'VV'), ('的', 'DEC'), ('涉案', 'JJ'), ('产品', 'NN'), ('4', 'CD'), ('袋', 'M'), (';', 'PU')]\n",
      "斷詞： ['一', '、', '被告', '天虹', '商场', '股份', '有限', '公司', '应', '于', '本', '判决', '生效', '之', '日', '起', '十', '日', '内向', '原告', '李成', '学', '退还', '涉案', '产品', '的', '价款', '每', '案', '为', '29.5', '元', ',', '原告', '李成', '学', '应于', '本', '判决', '生效', '之', '日', '起', '十', '日', '内向', '被告', '天虹', '商场', '股份', '有限', '公司', '退还', '所', '购买', '的', '涉案', '产品', '4', '袋', ';']\n",
      "命名實體識別： [('一', 'NUMBER'), ('、', 'O'), ('被告', 'O'), ('天虹', 'ORGANIZATION'), ('商场', 'ORGANIZATION'), ('股份', 'ORGANIZATION'), ('有限', 'ORGANIZATION'), ('公司', 'ORGANIZATION'), ('应', 'O'), ('于', 'O'), ('本', 'O'), ('判决', 'O'), ('生效', 'O'), ('之', 'O'), ('日', 'O'), ('起', 'O'), ('十', 'NUMBER'), ('日', 'MISC'), ('内向', 'O'), ('原告', 'O'), ('李成', 'PERSON'), ('学', 'O'), ('退还', 'O'), ('涉案', 'O'), ('产品', 'O'), ('的', 'O'), ('价款', 'O'), ('每', 'O'), ('案', 'O'), ('为', 'O'), ('29.5', 'MONEY'), ('元', 'MONEY'), (',', 'O'), ('原告', 'O'), ('李成', 'PERSON'), ('学', 'O'), ('应于', 'O'), ('本', 'O'), ('判决', 'O'), ('生效', 'O'), ('之', 'O'), ('日', 'O'), ('起', 'O'), ('十', 'NUMBER'), ('日', 'MISC'), ('内向', 'O'), ('被告', 'O'), ('天虹', 'ORGANIZATION'), ('商场', 'ORGANIZATION'), ('股份', 'ORGANIZATION'), ('有限', 'ORGANIZATION'), ('公司', 'ORGANIZATION'), ('退还', 'O'), ('所', 'O'), ('购买', 'O'), ('的', 'O'), ('涉案', 'O'), ('产品', 'O'), ('4', 'NUMBER'), ('袋', 'O'), (';', 'O')]\n",
      "句法分析：\n",
      "[('ROOT', 0, 16), ('dep', 8, 1), ('punct', 8, 2), ('compound:nn', 8, 3), ('compound:nn', 8, 4), ('compound:nn', 8, 5), ('compound:nn', 8, 6), ('amod', 8, 7), ('nsubj', 16, 8), ('aux:modal', 16, 9), ('case', 15, 10), ('det', 12, 11), ('nsubj', 13, 12), ('acl', 15, 13), ('mark', 13, 14), ('nmod:prep', 16, 15), ('nmod:range', 16, 17), ('mark:clf', 17, 18), ('amod', 20, 19), ('appos', 21, 20), ('nsubj', 22, 21), ('acl', 29, 22), ('acl', 27, 23), ('amod', 25, 24), ('dobj', 23, 25), ('mark', 23, 26), ('dobj', 22, 27), ('det', 29, 28), ('dobj', 16, 29), ('dep', 29, 30), ('dep', 30, 31), ('mark:clf', 31, 32), ('punct', 36, 33), ('appos', 35, 34), ('nsubj', 36, 35), ('dep', 31, 36), ('acl', 58, 37), ('det', 39, 38), ('nsubj', 40, 39), ('acl', 42, 40), ('mark', 40, 41), ('dobj', 37, 42), ('conj', 37, 43), ('nmod:range', 43, 44), ('mark:clf', 44, 45), ('amod', 47, 46), ('compound:nn', 52, 47), ('compound:nn', 52, 48), ('compound:nn', 52, 49), ('compound:nn', 52, 50), ('amod', 52, 51), ('nsubj', 53, 52), ('conj', 37, 53), ('aux:prtmod', 55, 54), ('conj', 53, 55), ('mark', 37, 56), ('amod', 58, 57), ('dobj', 36, 58), ('nmod:range', 36, 59), ('mark:clf', 59, 60), ('punct', 36, 61)]\n"
     ]
    },
    {
     "ename": "AttributeError",
     "evalue": "'StanfordCoreNLP' object has no attribute 'consitituency_parse'",
     "output_type": "error",
     "traceback": [
      "\u001b[0;31m--------------------------------------------------\u001b[0m",
      "\u001b[0;31mAttributeError\u001b[0m   Traceback (most recent call last)",
      "\u001b[0;32m<ipython-input-41-d90c8acaa674>\u001b[0m in \u001b[0;36m<module>\u001b[0;34m\u001b[0m\n\u001b[1;32m     18\u001b[0m     \u001b[0mtree\u001b[0m\u001b[0;34m.\u001b[0m\u001b[0mdraw\u001b[0m\u001b[0;34m(\u001b[0m\u001b[0;34m)\u001b[0m\u001b[0;34m\u001b[0m\u001b[0;34m\u001b[0m\u001b[0m\n\u001b[1;32m     19\u001b[0m \u001b[0;34m\u001b[0m\u001b[0m\n\u001b[0;32m---> 20\u001b[0;31m     \u001b[0mprint\u001b[0m\u001b[0;34m(\u001b[0m\u001b[0mnlp\u001b[0m\u001b[0;34m.\u001b[0m\u001b[0mconsitituency_parse\u001b[0m\u001b[0;34m(\u001b[0m\u001b[0msentence\u001b[0m\u001b[0;34m)\u001b[0m\u001b[0;34m)\u001b[0m\u001b[0;34m\u001b[0m\u001b[0;34m\u001b[0m\u001b[0m\n\u001b[0m\u001b[1;32m     21\u001b[0m \u001b[0;34m\u001b[0m\u001b[0m\n\u001b[1;32m     22\u001b[0m \u001b[0;31m# 關閉 Stanford Parser\u001b[0m\u001b[0;34m\u001b[0m\u001b[0;34m\u001b[0m\u001b[0;34m\u001b[0m\u001b[0m\n",
      "\u001b[0;31mAttributeError\u001b[0m: 'StanfordCoreNLP' object has no attribute 'consitituency_parse'"
     ]
    }
   ],
   "source": [
    "# 要解析的句子\n",
    "# sentence = '一 、 被告 天虹 商场 股份 有限公司 应 于 本判决 生效 之日起 十日 内向 原告 李成 学 退还 涉案 产品 的 价款 每案 为 29.5元 , 原告 李成 学应于 本判决 生效 之日起 十日 内向 被告 天虹 商场 股份 有限公司 退还 所 购买 的 涉案 产品 4 袋 ;'\n",
    "\n",
    "for t in TEXT[1:2]:\n",
    "    # 詞性標記\n",
    "    print('詞性標記：', nlp.pos_tag(sentence))\n",
    "\n",
    "    # 斷詞\n",
    "    print('斷詞：', nlp.word_tokenize(sentence))\n",
    "\n",
    "    # 命名實體識別\n",
    "    print('命名實體識別：', nlp.ner(sentence))\n",
    "\n",
    "    # 解析器\n",
    "    print('句法分析：')\n",
    "    print(nlp.dependency_parse(sentence))\n",
    "    tree=Tree.fromstring(nlp.parse(sentence))\n",
    "    tree.draw()\n",
    "    \n",
    "#     print(nlp.consitituency_parse(sentence))#not exist\n",
    "\n",
    "# 關閉 Stanford Parser\n",
    "nlp.close()"
   ]
  },
  {
   "cell_type": "markdown",
   "metadata": {},
   "source": [
    "<h3>Use Chinese nlp package ltp to handle text</h3>"
   ]
  },
  {
   "cell_type": "code",
   "execution_count": 118,
   "metadata": {},
   "outputs": [],
   "source": [
    "from ltp import LTP\n",
    "ltp = LTP()"
   ]
  },
  {
   "cell_type": "code",
   "execution_count": 141,
   "metadata": {},
   "outputs": [
    {
     "name": "stdout",
     "output_type": "stream",
     "text": [
      "一/、/被告/天虹商场股份有限公司/应/于/本判决/生效/之日起/十/日内/向/原告/李成学/退还/涉案/产品/的/价款/每案/为/29.5元/,/原告/李成学/应/于/本判决/生效/之日起/十/日内/向/被告/天虹商场股份有限公司/退还/所/购买/的/涉案/产品/4/袋/;\n"
     ]
    }
   ],
   "source": [
    "print(sents[0])"
   ]
  },
  {
   "cell_type": "code",
   "execution_count": 142,
   "metadata": {},
   "outputs": [
    {
     "name": "stdout",
     "output_type": "stream",
     "text": [
      "一\n",
      "、\n",
      "被告\n",
      "天虹商场股份有限公司\n",
      "应\n",
      "于\n",
      "本判决\n",
      "生效\n",
      "之日起\n",
      "十\n",
      "日内\n",
      "向\n",
      "原告\n",
      "李成学\n",
      "退还\n",
      "涉案\n",
      "产品\n",
      "的\n",
      "价款\n",
      "每案\n",
      "为\n",
      "29.5元\n",
      ",\n",
      "原告\n",
      "李成学\n",
      "应\n",
      "于\n",
      "本判决\n",
      "生效\n",
      "之日起\n",
      "十\n",
      "日内\n",
      "向\n",
      "被告\n",
      "天虹商场股份有限公司\n",
      "退还\n",
      "所\n",
      "购买\n",
      "的\n",
      "涉案\n",
      "产品\n",
      "4\n",
      "袋\n",
      ";\n"
     ]
    }
   ],
   "source": [
    "# segment, hidden = ltp.seg([sents[0].split('/')], is_preseged=True)\n",
    "seg, hidden = ltp.seg([sents[0].split('/')], is_preseged=True)\n",
    "for i in seg[0]:\n",
    "    print(i)\n",
    "# print(hidden)\n",
    "# ner = ltp.ner(hidden)\n",
    "# print(ner)"
   ]
  },
  {
   "cell_type": "code",
   "execution_count": 143,
   "metadata": {},
   "outputs": [
    {
     "name": "stdout",
     "output_type": "stream",
     "text": [
      "[[('Nh', 13, 13), ('Nh', 24, 24)]]\n",
      "Nh : 李成学\n"
     ]
    }
   ],
   "source": [
    "ner = ltp.ner(hidden)\n",
    "print(ner)\n",
    "tag, start, end = ner[0][0]\n",
    "print(tag,\":\", \"\".join(seg[0][start:end + 1]))"
   ]
  },
  {
   "cell_type": "code",
   "execution_count": 144,
   "metadata": {},
   "outputs": [
    {
     "name": "stdout",
     "output_type": "stream",
     "text": [
      "0 一 []\n",
      "1 、 []\n",
      "2 被告 []\n",
      "3 天虹商场股份有限公司 []\n",
      "4 应 []\n",
      "5 于 []\n",
      "6 本判决 []\n",
      "7 生效 []\n",
      "8 之日起 []\n",
      "9 十 []\n",
      "10 日内 []\n",
      "11 向 []\n",
      "12 原告 []\n",
      "13 李成学 []\n",
      "14 退还 [('A1', 15, 16), ('A1', 18, 18)]\n",
      "15 涉案 []\n",
      "16 产品 []\n",
      "17 的 []\n",
      "18 价款 []\n",
      "19 每案 []\n",
      "20 为 [('ARGM-DIS', 0, 0), ('A1', 21, 21)]\n",
      "21 29.5元 []\n",
      "22 , []\n",
      "23 原告 []\n",
      "24 李成学 []\n",
      "25 应 []\n",
      "26 于 []\n",
      "27 本判决 []\n",
      "28 生效 []\n",
      "29 之日起 []\n",
      "30 十 []\n",
      "31 日内 []\n",
      "32 向 []\n",
      "33 被告 []\n",
      "34 天虹商场股份有限公司 []\n",
      "35 退还 [('A0', 23, 24)]\n",
      "36 所 []\n",
      "37 购买 [('A1', 40, 40)]\n",
      "38 的 []\n",
      "39 涉案 []\n",
      "40 产品 []\n",
      "41 4 []\n",
      "42 袋 []\n",
      "43 ; []\n"
     ]
    }
   ],
   "source": [
    "srl = ltp.srl(hidden)\n",
    "for i in range(len(srl[0])):\n",
    "    print(i, seg[0][i], srl[0][i])"
   ]
  },
  {
   "cell_type": "code",
   "execution_count": 145,
   "metadata": {},
   "outputs": [
    {
     "name": "stdout",
     "output_type": "stream",
     "text": [
      "一 退还 ADV\n",
      "、 为 WP\n",
      "被告 天虹商场股份有限公司 ATT\n",
      "天虹商场股份有限公司 天虹商场股份有限公司 ATT\n",
      "应 退还 ADV\n",
      "于 退还 ADV\n",
      "本判决 生效 SBV\n",
      "生效 生效 ADV\n",
      "之日起 生效 RAD\n",
      "十 日内 ATT\n",
      "日内 于 POB\n",
      "向 退还 ADV\n",
      "原告 李成学 ATT\n",
      "李成学 向 POB\n",
      "退还 价款 ATT\n",
      "涉案 产品 ATT\n",
      "产品 退还 VOB\n",
      "的 退还 RAD\n",
      "价款 为 SBV\n",
      "每案 为 ADV\n",
      "为 root HED\n",
      "29.5元 为 VOB\n",
      ", 为 WP\n",
      "原告 李成学 ATT\n",
      "李成学 退还 SBV\n",
      "应 退还 ADV\n",
      "于 退还 ADV\n",
      "本判决 生效 SBV\n",
      "生效 于 POB\n",
      "之日起 生效 RAD\n",
      "十 日内 ATT\n",
      "日内 于 POB\n",
      "向 退还 ADV\n",
      "被告 生效 SBV\n",
      "天虹商场股份有限公司 天虹商场股份有限公司 ATT\n",
      "退还 为 COO\n",
      "所 购买 LAD\n",
      "购买 产品 ATT\n",
      "的 购买 RAD\n",
      "涉案 产品 ATT\n",
      "产品 袋 ATT\n",
      "4 袋 ATT\n",
      "袋 退还 VOB\n",
      "; 为 WP\n"
     ]
    }
   ],
   "source": [
    "#依存句法分析\n",
    "dep = ltp.dep(hidden)\n",
    "new_seg = ['root'] + seg[0]\n",
    "for i in range(len(dep[0])):\n",
    "    temp = dep[0]\n",
    "    print(new_seg[temp[i][0]], new_seg[temp[i][1]], temp[i][2])"
   ]
  },
  {
   "cell_type": "code",
   "execution_count": 146,
   "metadata": {},
   "outputs": [
    {
     "name": "stdout",
     "output_type": "stream",
     "text": [
      "0 一 m\n",
      "1 、 wp\n",
      "2 被告 n\n",
      "3 天虹商场股份有限公司 nz\n",
      "4 应 v\n",
      "5 于 p\n",
      "6 本判决 r\n",
      "7 生效 v\n",
      "8 之日起 u\n",
      "9 十 m\n",
      "10 日内 q\n",
      "11 向 p\n",
      "12 原告 n\n",
      "13 李成学 nh\n",
      "14 退还 v\n",
      "15 涉案 v\n",
      "16 产品 n\n",
      "17 的 u\n",
      "18 价款 n\n",
      "19 每案 r\n",
      "20 为 v\n",
      "21 29.5元 m\n",
      "22 , wp\n",
      "23 原告 n\n",
      "24 李成学 nh\n",
      "25 应 v\n",
      "26 于 p\n",
      "27 本判决 r\n",
      "28 生效 v\n",
      "29 之日起 u\n",
      "30 十 m\n",
      "31 日内 q\n",
      "32 向 p\n",
      "33 被告 n\n",
      "34 天虹商场股份有限公司 nz\n",
      "35 退还 v\n",
      "36 所 u\n",
      "37 购买 v\n",
      "38 的 u\n",
      "39 涉案 v\n",
      "40 产品 n\n",
      "41 4 m\n",
      "42 袋 q\n",
      "43 ; wp\n"
     ]
    }
   ],
   "source": [
    "pos = ltp.pos(hidden)\n",
    "for i in range(len(pos[0])):\n",
    "    print(i, seg[0][i], pos[0][i])"
   ]
  },
  {
   "cell_type": "markdown",
   "metadata": {},
   "source": [
    "<h3>经过对比后发现spacy的效果更好，故使用spacy的依存语法树去提取信息</h3>"
   ]
  }
 ],
 "metadata": {
  "kernelspec": {
   "display_name": "Python 3",
   "language": "python",
   "name": "python3"
  },
  "language_info": {
   "codemirror_mode": {
    "name": "ipython",
    "version": 3
   },
   "file_extension": ".py",
   "mimetype": "text/x-python",
   "name": "python",
   "nbconvert_exporter": "python",
   "pygments_lexer": "ipython3",
   "version": "3.8.5"
  }
 },
 "nbformat": 4,
 "nbformat_minor": 2
}
