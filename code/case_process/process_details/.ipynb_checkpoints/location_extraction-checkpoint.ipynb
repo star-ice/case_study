{
 "cells": [
  {
   "cell_type": "code",
   "execution_count": 3,
   "metadata": {},
   "outputs": [],
   "source": [
    "import addressparser\n",
    "import pandas as pd\n",
    "import cpca"
   ]
  },
  {
   "cell_type": "markdown",
   "metadata": {},
   "source": [
    "<h2>Define the location extraction function so that other ipynb files can cite.</h2>"
   ]
  },
  {
   "cell_type": "code",
   "execution_count": 14,
   "metadata": {},
   "outputs": [],
   "source": [
    "def location_extraction(df_data):\n",
    "    location_df = addressparser.transform(list(df_data['court_name']))\n",
    "    df_data['province'] = location_df['省']\n",
    "    df_data['city'] = location_df['市']\n",
    "    df_data['district'] = location_df['区']\n",
    "    return df_data"
   ]
  }
 ],
 "metadata": {
  "kernelspec": {
   "display_name": "Python 3",
   "language": "python",
   "name": "python3"
  },
  "language_info": {
   "codemirror_mode": {
    "name": "ipython",
    "version": 3
   },
   "file_extension": ".py",
   "mimetype": "text/x-python",
   "name": "python",
   "nbconvert_exporter": "python",
   "pygments_lexer": "ipython3",
   "version": "3.8.5"
  }
 },
 "nbformat": 4,
 "nbformat_minor": 4
}
