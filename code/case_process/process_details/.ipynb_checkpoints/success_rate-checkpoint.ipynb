{
 "cells": [
  {
   "cell_type": "code",
   "execution_count": 269,
   "metadata": {},
   "outputs": [],
   "source": [
    "import pandas as pd\n",
    "import numpy as np"
   ]
  },
  {
   "cell_type": "markdown",
   "metadata": {},
   "source": [
    "<h4>Split the cost type into 4 categories</h4>"
   ]
  },
  {
   "cell_type": "code",
   "execution_count": 270,
   "metadata": {},
   "outputs": [],
   "source": [
    "cost_type1 = ['受理费', '诉讼费', '上诉费', '减半', '共计'] #用作判断一审赢率\n",
    "cost_type2 = ['货款', '价款', '购物款', '购酒款', '购药款', '购货款'] #不同商品的价格\n",
    "cost_type3 = ['赔偿金', '赔偿款', '合计', '统一赔偿费用'] #通常是商品价格的十倍左右\n",
    "cost_type4 = ['公证费', '公告费', '运费', '交通费', '误工费', '打印费', '鉴定费', '邮寄费', '医疗费', \\\n",
    "             '住宿费', '产品质量监督检验费', '其他费用', '餐饮费', '管辖权异议费'] #案件附加费用\n",
    "cost_types = ['cost_type1', 'cost_type2', 'cost_type3', 'cost_type4']"
   ]
  },
  {
   "cell_type": "code",
   "execution_count": 271,
   "metadata": {},
   "outputs": [],
   "source": [
    "def merge_dict(x,y):\n",
    "    for k,v in x.items():\n",
    "                if k in y.keys():\n",
    "                    y[k] += v\n",
    "                else:\n",
    "                    y[k] = v\n",
    "    return y"
   ]
  },
  {
   "cell_type": "code",
   "execution_count": 281,
   "metadata": {},
   "outputs": [],
   "source": [
    "def read_judgement_result(judgement_result):\n",
    "    if len(judgement_result) == 0:\n",
    "        return {}\n",
    "    if type(judgement_result[0])==str:\n",
    "        result_dict = {}\n",
    "        if judgement_result[0] in cost_type1:\n",
    "            result_dict['cost_type1'] = [(judgement_result)]\n",
    "        if judgement_result[0] in cost_type2:\n",
    "            result_dict['cost_type2'] = [(judgement_result)]\n",
    "        if judgement_result[0] in cost_type3:\n",
    "            result_dict['cost_type3'] = [(judgement_result)]\n",
    "        if judgement_result[0] in cost_type4:\n",
    "            result_dict['cost_type4'] = [(judgement_result)]\n",
    "        return result_dict\n",
    "    result_dict = {}\n",
    "    for i in judgement_result:\n",
    "        result_dict = merge_dict(result_dict, read_judgement_result(i))\n",
    "    return result_dict"
   ]
  },
  {
   "cell_type": "code",
   "execution_count": 273,
   "metadata": {},
   "outputs": [],
   "source": [
    "def split_costtype_one_row(row_in_pd):\n",
    "    judgere_dict = read_judgement_result(eval(row_in_pd['judgement_result']))\n",
    "    for cost_type in cost_types:\n",
    "        row_in_pd[cost_type] = judgere_dict[cost_type] if cost_type in judgere_dict.keys() else {}\n",
    "    return row_in_pd"
   ]
  },
  {
   "cell_type": "code",
   "execution_count": 274,
   "metadata": {},
   "outputs": [],
   "source": [
    "def split_cost_type(pd_data):\n",
    "    return pd_data.apply(lambda row: split_costtype_one_row(row), axis=1)\n",
    "        "
   ]
  },
  {
   "cell_type": "markdown",
   "metadata": {},
   "source": [
    "<h4>Extract success rate for the first instance case</h4>"
   ]
  },
  {
   "cell_type": "code",
   "execution_count": 275,
   "metadata": {},
   "outputs": [],
   "source": [
    "def containsAny(seq, aset):\n",
    "    return True if any(seq in i for i in aset) else False"
   ]
  },
  {
   "cell_type": "code",
   "execution_count": 276,
   "metadata": {},
   "outputs": [],
   "source": [
    "def read_loader_for_costtype1(row_in_pd):\n",
    "    cost_type1 = row_in_pd['cost_type1']\n",
    "    costtype1_final_loader = []\n",
    "    if row_in_pd['procedure'] != \"一审\":\n",
    "        if row_in_pd['judgere_keyword']==\"维持\": row_in_pd['is_success'] = True\n",
    "        if row_in_pd['judgere_keyword']==\"撤销\": row_in_pd['is_success'] = False\n",
    "    elif type(cost_type1) == list and row_in_pd['procedure']==\"一审\":\n",
    "        loaders = []\n",
    "        for i in cost_type1: loaders+=i[2]\n",
    "        party_info_list = row_in_pd['party_info']\n",
    "        if len(party_info_list) > 0:\n",
    "            titles = [i['title'] for i in party_info_list if \"title\" in i.keys()]\n",
    "            names = [i['name'] for i in party_info_list if \"name\" in i.keys()]\n",
    "            for l in loaders:\n",
    "                if len(l) > 0:\n",
    "                    try:\n",
    "                        l_index = names.index(l)\n",
    "                    except: costtype1_final_loader.append(l)\n",
    "                    else: costtype1_final_loader.append(titles[l_index])\n",
    "        costtype1_final_loader = list(set(costtype1_final_loader))\n",
    "        if containsAny(\"原告\", costtype1_final_loader): row_in_pd['is_success'] = False\n",
    "        elif containsAny(\"被告\", costtype1_final_loader): row_in_pd['is_success'] = True\n",
    "        else: row_in_pd['is_success'] = \"unknown\"\n",
    "    else: row_in_pd['is_success'] = \"unknown\"\n",
    "    row_in_pd['loader_costtype1'] = costtype1_final_loader\n",
    "    return row_in_pd"
   ]
  },
  {
   "cell_type": "code",
   "execution_count": 277,
   "metadata": {},
   "outputs": [],
   "source": [
    "def extract_success_rate_ins1(pd_data):\n",
    "    return pd_data.apply(lambda row: read_loader_for_costtype1(row), axis=1)\n",
    "    "
   ]
  }
 ],
 "metadata": {
  "kernelspec": {
   "display_name": "Python 3",
   "language": "python",
   "name": "python3"
  },
  "language_info": {
   "codemirror_mode": {
    "name": "ipython",
    "version": 3
   },
   "file_extension": ".py",
   "mimetype": "text/x-python",
   "name": "python",
   "nbconvert_exporter": "python",
   "pygments_lexer": "ipython3",
   "version": "3.8.5"
  }
 },
 "nbformat": 4,
 "nbformat_minor": 4
}
