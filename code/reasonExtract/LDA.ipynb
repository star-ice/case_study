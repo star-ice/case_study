{
 "cells": [
  {
   "cell_type": "code",
   "execution_count": 8,
   "metadata": {},
   "outputs": [],
   "source": [
    "import pandas as pd\n",
    "import numpy as np\n",
    "from toolkit import CustomSpacy"
   ]
  },
  {
   "cell_type": "markdown",
   "metadata": {},
   "source": [
    "<h2>先用词相似度扩充一下关键字</h2>"
   ]
  },
  {
   "cell_type": "code",
   "execution_count": 125,
   "metadata": {},
   "outputs": [],
   "source": [
    "contents = pd.read_csv(\"/Users/starice/Desktop/noun_phrases/type1_2016_1-2-3-4-5-6-7-8-9-10-11-12_nps.csv\")"
   ]
  },
  {
   "cell_type": "code",
   "execution_count": 126,
   "metadata": {
    "scrolled": true
   },
   "outputs": [
    {
     "data": {
      "text/html": [
       "<div>\n",
       "<style scoped>\n",
       "    .dataframe tbody tr th:only-of-type {\n",
       "        vertical-align: middle;\n",
       "    }\n",
       "\n",
       "    .dataframe tbody tr th {\n",
       "        vertical-align: top;\n",
       "    }\n",
       "\n",
       "    .dataframe thead th {\n",
       "        text-align: right;\n",
       "    }\n",
       "</style>\n",
       "<table border=\"1\" class=\"dataframe\">\n",
       "  <thead>\n",
       "    <tr style=\"text-align: right;\">\n",
       "      <th></th>\n",
       "      <th>Unnamed: 0</th>\n",
       "      <th>id</th>\n",
       "      <th>reason_topic</th>\n",
       "      <th>content</th>\n",
       "      <th>content_vector</th>\n",
       "      <th>topic_phrases</th>\n",
       "      <th>topic_phrases_vector</th>\n",
       "      <th>phrase_vectors</th>\n",
       "    </tr>\n",
       "  </thead>\n",
       "  <tbody>\n",
       "    <tr>\n",
       "      <th>0</th>\n",
       "      <td>0</td>\n",
       "      <td>57b031fec2265c7bd4ebc77a</td>\n",
       "      <td>unknown</td>\n",
       "      <td>经审理查明,2015年7月16日、9月19日,原告在1号店网站的自营店购买NUKA努卡高蛋白...</td>\n",
       "      <td>b'\\x91k\\xa7?\\x05\\x15\\x87?sp\\x99?G\\xe9\\x04?r\\xf...</td>\n",
       "      <td>['审理', '高蛋白', '营养粉含乳固体饮料', '购物发票', '产品外包装', '本...</td>\n",
       "      <td>NaN</td>\n",
       "      <td>[b'm\\xc5\\x12@\\xcffU&gt;\\r\\xe0-\\xc0\\xd8\\xf0\\x1c\\xc...</td>\n",
       "    </tr>\n",
       "    <tr>\n",
       "      <th>1</th>\n",
       "      <td>1</td>\n",
       "      <td>57b25887c2265c4d04b3838a</td>\n",
       "      <td>unknown</td>\n",
       "      <td>本院根据上述认证查明:2015年4月11日,范利军在欧尚超市公司购买捕鱼时光即食三文鱼芥末味...</td>\n",
       "      <td>b'\\xc07o?\\xa5\\xa9I?\\xc8[3?\\xc2\\x12m&gt;\\xd4\\xc92?...</td>\n",
       "      <td>['本院根据上述认证', '捕鱼时光', '文鱼芥末味', '时光', '文鱼麻辣味', '...</td>\n",
       "      <td>NaN</td>\n",
       "      <td>[b'\\xc4d\\xd2?\\xac]\\x05\\xc0\\xe6\\x91\\x99\\xbf\\xd7...</td>\n",
       "    </tr>\n",
       "    <tr>\n",
       "      <th>2</th>\n",
       "      <td>2</td>\n",
       "      <td>57b141dac2265c4d04a4ba20</td>\n",
       "      <td>unknown</td>\n",
       "      <td>本院认证意见:原告翁艳蕾提供的证据1-6,对其真实性、合法性、关联性本院予以确认,并依据其书...</td>\n",
       "      <td>b'\\xda\\xef\\x8d?\\x86\\x14\\xf5&gt;\\xa6\\x00&amp;??O\\xe4&gt;A...</td>\n",
       "      <td>['翁艳蕾', '证据', '真实性', '合法性', '确认', '内容', '本案相关事...</td>\n",
       "      <td>NaN</td>\n",
       "      <td>[b'\\x00\\x00\\x00\\x00\\x00\\x00\\x00\\x00\\x00\\x00\\x0...</td>\n",
       "    </tr>\n",
       "    <tr>\n",
       "      <th>3</th>\n",
       "      <td>3</td>\n",
       "      <td>57b23cadc2265c4d04b1e997</td>\n",
       "      <td>unknown</td>\n",
       "      <td>经庭审质证、辩证,被告对原告举证1无异议。对原告举证2的真实性无异议,原告分两次购买产品,第...</td>\n",
       "      <td>b'\\x18\\xd1~?\\xea]\\x0f?J-\\xdb&gt;\\xee/\\xde&gt;#\\x11\\r...</td>\n",
       "      <td>['审质证', '辩证', '异议', '产品', '购买', '中文标签', '标签', ...</td>\n",
       "      <td>NaN</td>\n",
       "      <td>[b'\\x00\\x00\\x00\\x00\\x00\\x00\\x00\\x00\\x00\\x00\\x0...</td>\n",
       "    </tr>\n",
       "    <tr>\n",
       "      <th>4</th>\n",
       "      <td>4</td>\n",
       "      <td>5b5b9a43e13823b64b367e32</td>\n",
       "      <td>unknown</td>\n",
       "      <td>本院经经审理认定事实如下:对于当事人各方没有争议的事实,本院予以确认。当事人双方对原告的起诉...</td>\n",
       "      <td>b'T\\xd7~?\\xd5u\\xae&gt;\\x0f\\xfa\\xd7&gt;K;\\xb7&gt;N\\xf7\\x...</td>\n",
       "      <td>['本院经经审理', '事实', '争议', '本院', '确认', '当事人', '诉讼时...</td>\n",
       "      <td>NaN</td>\n",
       "      <td>[b'\\x9b]\\xf4?\\x8fHq\\xbfA\\xf4-\\xc0\\xf0\\x85\\xe9&gt;...</td>\n",
       "    </tr>\n",
       "  </tbody>\n",
       "</table>\n",
       "</div>"
      ],
      "text/plain": [
       "   Unnamed: 0                        id reason_topic  \\\n",
       "0           0  57b031fec2265c7bd4ebc77a      unknown   \n",
       "1           1  57b25887c2265c4d04b3838a      unknown   \n",
       "2           2  57b141dac2265c4d04a4ba20      unknown   \n",
       "3           3  57b23cadc2265c4d04b1e997      unknown   \n",
       "4           4  5b5b9a43e13823b64b367e32      unknown   \n",
       "\n",
       "                                             content  \\\n",
       "0  经审理查明,2015年7月16日、9月19日,原告在1号店网站的自营店购买NUKA努卡高蛋白...   \n",
       "1  本院根据上述认证查明:2015年4月11日,范利军在欧尚超市公司购买捕鱼时光即食三文鱼芥末味...   \n",
       "2  本院认证意见:原告翁艳蕾提供的证据1-6,对其真实性、合法性、关联性本院予以确认,并依据其书...   \n",
       "3  经庭审质证、辩证,被告对原告举证1无异议。对原告举证2的真实性无异议,原告分两次购买产品,第...   \n",
       "4  本院经经审理认定事实如下:对于当事人各方没有争议的事实,本院予以确认。当事人双方对原告的起诉...   \n",
       "\n",
       "                                      content_vector  \\\n",
       "0  b'\\x91k\\xa7?\\x05\\x15\\x87?sp\\x99?G\\xe9\\x04?r\\xf...   \n",
       "1  b'\\xc07o?\\xa5\\xa9I?\\xc8[3?\\xc2\\x12m>\\xd4\\xc92?...   \n",
       "2  b'\\xda\\xef\\x8d?\\x86\\x14\\xf5>\\xa6\\x00&??O\\xe4>A...   \n",
       "3  b'\\x18\\xd1~?\\xea]\\x0f?J-\\xdb>\\xee/\\xde>#\\x11\\r...   \n",
       "4  b'T\\xd7~?\\xd5u\\xae>\\x0f\\xfa\\xd7>K;\\xb7>N\\xf7\\x...   \n",
       "\n",
       "                                       topic_phrases  topic_phrases_vector  \\\n",
       "0  ['审理', '高蛋白', '营养粉含乳固体饮料', '购物发票', '产品外包装', '本...                   NaN   \n",
       "1  ['本院根据上述认证', '捕鱼时光', '文鱼芥末味', '时光', '文鱼麻辣味', '...                   NaN   \n",
       "2  ['翁艳蕾', '证据', '真实性', '合法性', '确认', '内容', '本案相关事...                   NaN   \n",
       "3  ['审质证', '辩证', '异议', '产品', '购买', '中文标签', '标签', ...                   NaN   \n",
       "4  ['本院经经审理', '事实', '争议', '本院', '确认', '当事人', '诉讼时...                   NaN   \n",
       "\n",
       "                                      phrase_vectors  \n",
       "0  [b'm\\xc5\\x12@\\xcffU>\\r\\xe0-\\xc0\\xd8\\xf0\\x1c\\xc...  \n",
       "1  [b'\\xc4d\\xd2?\\xac]\\x05\\xc0\\xe6\\x91\\x99\\xbf\\xd7...  \n",
       "2  [b'\\x00\\x00\\x00\\x00\\x00\\x00\\x00\\x00\\x00\\x00\\x0...  \n",
       "3  [b'\\x00\\x00\\x00\\x00\\x00\\x00\\x00\\x00\\x00\\x00\\x0...  \n",
       "4  [b'\\x9b]\\xf4?\\x8fHq\\xbfA\\xf4-\\xc0\\xf0\\x85\\xe9>...  "
      ]
     },
     "execution_count": 126,
     "metadata": {},
     "output_type": "execute_result"
    }
   ],
   "source": [
    "contents.head()"
   ]
  },
  {
   "cell_type": "code",
   "execution_count": 127,
   "metadata": {},
   "outputs": [],
   "source": [
    "cs = CustomSpacy()\n",
    "cs.global_entity_ruler()\n",
    "cs.attribute_ruler()\n",
    "cs.add_money_recognizer()\n",
    "cs.add_merge_entities()\n",
    "nlp = cs.nlp"
   ]
  },
  {
   "cell_type": "code",
   "execution_count": 128,
   "metadata": {},
   "outputs": [],
   "source": [
    "keywords = ['标签', '配料表', '外包装', '虚假', '夸大', '标签格式',\n",
    "                '名称规范', '产品标准代号', '标识', '假冒产品', '保质期',\n",
    "                '生产日期', '过期', '原始配料', '原料', '原材料', '非药食同源物质',\n",
    "                '添加剂', '非食用物质', '食品原料', '商标专用权', '商标违法',\n",
    "                '商标侵权', '出入境检验', '检疫证明', '生产许可证编号', '生产许可编号',\n",
    "                '生产许可证', '餐饮', '餐饮食品安全卫生标准', '是否为消费者', '进口食品',\n",
    "                '尚无国家标准', '未做安全性评估', '产品质检不合格', '质量有问题', '性状']"
   ]
  },
  {
   "cell_type": "markdown",
   "metadata": {},
   "source": [
    "<h4>将2016年第一类所有的文本都读入spacy中构建corpus</h4>"
   ]
  },
  {
   "cell_type": "code",
   "execution_count": 145,
   "metadata": {},
   "outputs": [],
   "source": [
    "docs = contents['content'].tolist()\n",
    "for doc in nlp.pipe(docs):\n",
    "    pass"
   ]
  },
  {
   "cell_type": "code",
   "execution_count": 146,
   "metadata": {},
   "outputs": [
    {
     "name": "stdout",
     "output_type": "stream",
     "text": [
      "['过期', '过期橄榄油', '过期汤圆', '过期商品', '过期食品', '过期啤酒', '过期食用油销售', '过期标志', '过期产品', '本案过期商品']\n"
     ]
    }
   ],
   "source": [
    "ms = nlp.vocab.vectors.most_similar(np.asarray([nlp.vocab.vectors[nlp.vocab.strings[\"过期\"]]]), n=10)\n",
    "print([nlp.vocab.strings[w] for w in ms[0][0]])"
   ]
  },
  {
   "cell_type": "markdown",
   "metadata": {},
   "source": [
    "<h2>使用LDA找到更多的关键字</h2>"
   ]
  },
  {
   "cell_type": "code",
   "execution_count": 147,
   "metadata": {},
   "outputs": [],
   "source": [
    "# Gensim\n",
    "import gensim\n",
    "import gensim.corpora as corpora\n",
    "from gensim.utils import simple_preprocess\n",
    "from gensim.models import CoherenceModel\n",
    "import scipy.sparse\n",
    "from pprint import pprint\n",
    "\n",
    "# Enable logging for gensim - optional\n",
    "import logging\n",
    "logging.basicConfig(format='%(asctime)s : %(levelname)s : %(message)s', level=logging.ERROR)\n",
    "\n",
    "import warnings\n",
    "warnings.filterwarnings(\"ignore\",category=DeprecationWarning)\n",
    "\n",
    "# Plotting tools\n",
    "import pyLDAvis\n",
    "import pyLDAvis.gensim_models as gensim_models  # don't skip this\n",
    "import matplotlib.pyplot as plt\n",
    "%matplotlib inline"
   ]
  },
  {
   "cell_type": "markdown",
   "metadata": {},
   "source": [
    "<h4>Create the Dictinary and Corpus needed for Topic Modeling</h4>"
   ]
  },
  {
   "cell_type": "code",
   "execution_count": 148,
   "metadata": {},
   "outputs": [],
   "source": [
    "contents['topic_phrases'] = contents['topic_phrases'].apply(lambda r: eval(r))\n",
    "phrases = contents['topic_phrases'].tolist()"
   ]
  },
  {
   "cell_type": "code",
   "execution_count": 149,
   "metadata": {},
   "outputs": [],
   "source": [
    "# Create Dictionary\n",
    "id2word = corpora.Dictionary(phrases)\n",
    "\n",
    "# Create Corpus\n",
    "texts = phrases\n",
    "\n",
    "# Term Document Frequency\n",
    "corpus = [id2word.doc2bow(text) for text in texts]\n",
    "\n",
    "# View\n",
    "# print(corpus[:1])"
   ]
  },
  {
   "cell_type": "code",
   "execution_count": 150,
   "metadata": {
    "scrolled": true
   },
   "outputs": [
    {
     "data": {
      "text/plain": [
       "[[('中华人民共和国食品安全法', 1),\n",
       "  ('产品', 1),\n",
       "  ('全国工业产品生产许可证', 1),\n",
       "  ('判决', 1),\n",
       "  ('异议', 1),\n",
       "  ('情况', 1),\n",
       "  ('支持', 1),\n",
       "  ('本院', 1),\n",
       "  ('涉案产品', 1),\n",
       "  ('证据', 1),\n",
       "  ('购物发票', 1),\n",
       "  ('食品', 1),\n",
       "  ('买卖合同关系', 1),\n",
       "  ('国家标准', 1),\n",
       "  ('外包装', 1),\n",
       "  ('庭审', 1),\n",
       "  ('植物油', 1),\n",
       "  ('法律', 1),\n",
       "  ('法律规定', 1),\n",
       "  ('白砂糖', 1),\n",
       "  ('行政法规', 1),\n",
       "  ('责任', 1),\n",
       "  ('配料', 1),\n",
       "  ('食品安全标准', 1),\n",
       "  ('食品添加剂', 1),\n",
       "  ('义务', 1),\n",
       "  ('生产日期', 1),\n",
       "  ('真实性', 1),\n",
       "  ('陈述', 1),\n",
       "  ('中华人民共和国产品质量法', 1),\n",
       "  ('检查验收制度', 1),\n",
       "  ('品名', 1),\n",
       "  ('强制性规定', 1),\n",
       "  ('描述', 1),\n",
       "  ('编号', 1),\n",
       "  ('口感', 1),\n",
       "  ('不符合', 1),\n",
       "  ('报告', 1),\n",
       "  ('食品安全企业标准', 1),\n",
       "  ('故应', 1),\n",
       "  ('制造商', 1),\n",
       "  ('焦点', 1),\n",
       "  ('糖果', 1),\n",
       "  ('色剂', 1),\n",
       "  ('饮品', 1),\n",
       "  ('企业', 1),\n",
       "  ('产品执行标准号', 1),\n",
       "  ('国家食品安全标准', 1),\n",
       "  ('食品生产许可证号', 1),\n",
       "  ('产品类别', 1),\n",
       "  ('产品类型', 1),\n",
       "  ('产品系属', 1),\n",
       "  ('产品质量检验所检测报告', 1),\n",
       "  ('加工备案申请书', 1),\n",
       "  ('加工备案申请书上', 1),\n",
       "  ('合理性', 1),\n",
       "  ('复印签名', 1),\n",
       "  ('外包装宣传语', 1),\n",
       "  ('大米制品', 1),\n",
       "  ('宣传语', 1),\n",
       "  ('小麦', 1),\n",
       "  ('小麦粉', 1),\n",
       "  ('情况表', 1),\n",
       "  ('植物炭', 1),\n",
       "  ('植物炭黑', 1),\n",
       "  ('植物炭黑属', 1),\n",
       "  ('测试报告底部', 1),\n",
       "  ('浓郁酥脆', 1),\n",
       "  ('涉案产品实物', 1),\n",
       "  ('涉案产品系合格产品', 1),\n",
       "  ('炒货食品', 1),\n",
       "  ('生产企业系合法企业', 1),\n",
       "  ('竹炭花生', 1),\n",
       "  ('签名', 1),\n",
       "  ('粉圆', 1),\n",
       "  ('糕点', 1),\n",
       "  ('糯米粉', 1),\n",
       "  ('网上', 1),\n",
       "  ('花生', 1),\n",
       "  ('花生仁', 1),\n",
       "  ('表格', 1),\n",
       "  ('袋竹', 1),\n",
       "  ('袋装产品', 1),\n",
       "  ('认定问题', 1),\n",
       "  ('证据三性', 1),\n",
       "  ('诉请理由', 1),\n",
       "  ('贸易有限公司', 1),\n",
       "  ('超范围', 1),\n",
       "  ('食品添加剂使用标准GB', 1),\n",
       "  ('食品添加剂植物炭', 1),\n",
       "  ('食品添加剂植物炭黑', 1),\n",
       "  ('饼干', 1),\n",
       "  ('高温', 1),\n",
       "  ('龙海市庆丰食品有限公司企业标准', 1),\n",
       "  ('龙海市庆丰食品有限公司全国工业产品生产许可证', 1),\n",
       "  ('龙海市庆丰食品有限公司税务登记证', 1)]]"
      ]
     },
     "execution_count": 150,
     "metadata": {},
     "output_type": "execute_result"
    }
   ],
   "source": [
    "# Human readable format of corpus (term-frequency)\n",
    "[[(id2word[id], freq) for id, freq in cp] for cp in corpus[100:101]]"
   ]
  },
  {
   "cell_type": "code",
   "execution_count": 152,
   "metadata": {
    "scrolled": true
   },
   "outputs": [],
   "source": [
    "# phrases[1:2]"
   ]
  },
  {
   "cell_type": "markdown",
   "metadata": {},
   "source": [
    "<h4>构建LDA模型</h4>"
   ]
  },
  {
   "cell_type": "code",
   "execution_count": 123,
   "metadata": {},
   "outputs": [],
   "source": [
    "# Build LDA model\n",
    "lda_model = gensim.models.ldamodel.LdaModel(corpus=corpus,\n",
    "                                           id2word=id2word,\n",
    "                                           num_topics=11, \n",
    "                                           random_state=100,\n",
    "                                           update_every=1,\n",
    "                                           chunksize=100,\n",
    "                                           passes=200,\n",
    "                                           alpha='auto',\n",
    "                                           per_word_topics=True)"
   ]
  },
  {
   "cell_type": "code",
   "execution_count": 124,
   "metadata": {
    "scrolled": true
   },
   "outputs": [
    {
     "name": "stdout",
     "output_type": "stream",
     "text": [
      "[(0,\n",
      "  '0.010*\"质证意见\" + 0.009*\"不利后果\" + 0.009*\"服务\" + 0.008*\"食品标签通则\" + '\n",
      "  '0.008*\"中华人民共和国侵权责任法\" + 0.008*\"受害人\" + 0.007*\"案件事实\" + 0.007*\"一审法院\" + '\n",
      "  '0.006*\"地方标准\" + 0.005*\"文字\"'),\n",
      " (1,\n",
      "  '0.044*\"急性\" + 0.041*\"慢性危害\" + 0.038*\"营养要求\" + 0.035*\"食品无毒\" + 0.010*\"瑕疵\" + '\n",
      "  '0.010*\"罚款\" + 0.010*\"理据\" + 0.010*\"不安全食品\" + 0.008*\"概念\" + 0.006*\"案涉商品\"'),\n",
      " (2,\n",
      "  '0.026*\"本院\" + 0.025*\"判决\" + 0.024*\"食品\" + 0.023*\"中华人民共和国食品安全法\" + 0.022*\"支持\" + '\n",
      "  '0.019*\"不符合食品安全标准\" + 0.018*\"销售\" + 0.017*\"证据\" + 0.017*\"消费者\" + 0.016*\"损失\"'),\n",
      " (3,\n",
      "  '0.010*\"国家\" + 0.009*\"QS\" + 0.008*\"许可证\" + 0.007*\"生产经营\" + 0.007*\"分支机构\" + '\n",
      "  '0.006*\"联系方式\" + 0.006*\"供货者\" + 0.006*\"信息\" + 0.006*\"中文标签\" + 0.006*\"证明文件\"'),\n",
      " (4,\n",
      "  '0.023*\"原则\" + 0.010*\"食品配料\" + 0.007*\"蔗糖\" + 0.007*\"生产过程\" + 0.006*\"食品营养成分基本术语\" '\n",
      "  '+ 0.006*\"固体饮料类\" + 0.006*\"号行政处罚决定书\" + 0.005*\"涉案产品营养成分表\" + 0.005*\"燕麦\" + '\n",
      "  '0.005*\"氢化\"'),\n",
      " (5,\n",
      "  '0.016*\"药品\" + 0.013*\"涉案产品\" + 0.012*\"食品添加剂\" + 0.012*\"物质\" + 0.012*\"生产\" + '\n",
      "  '0.011*\"配料\" + 0.010*\"通知\" + 0.010*\"普通食品\" + 0.010*\"卫生证书\" + 0.009*\"物品\"'),\n",
      " (6,\n",
      "  '0.041*\"能量\" + 0.041*\"蛋白质\" + 0.040*\"脂肪\" + 0.027*\"食品营养标签\" + 0.023*\"碳水化合物\" + '\n",
      "  '0.016*\"食品营养标签通则\" + 0.015*\"营养信息\" + 0.014*\"虚假信息\" + 0.014*\"营养标签\" + '\n",
      "  '0.012*\"膳食纤维\"'),\n",
      " (7,\n",
      "  '0.004*\"苦荞茶\" + 0.003*\"精神\" + 0.003*\"花费\" + 0.002*\"控制\" + 0.002*\"系列产品\" + '\n",
      "  '0.002*\"食品药品纠纷案件适用法律问题\" + 0.001*\"父亲\" + 0.001*\"初步举证责任\" + 0.001*\"阿胶\" + '\n",
      "  '0.001*\"精神损害抚慰金\"'),\n",
      " (8,\n",
      "  '0.012*\"卫生\" + 0.009*\"证据链\" + 0.009*\"数额\" + 0.008*\"充分证据\" + 0.008*\"时间\" + '\n",
      "  '0.008*\"服务\" + 0.008*\"中华人民共和国合同法\" + 0.008*\"经营者\" + 0.007*\"权利\" + 0.007*\"损害\"'),\n",
      " (9,\n",
      "  '0.000*\"指令\" + 0.000*\"晚餐\" + 0.000*\"建系个体工商户\" + 0.000*\"批次样品\" + 0.000*\"报案\" + '\n",
      "  '0.000*\"带皮河豚鱼\" + 0.000*\"摊位\" + 0.000*\"毒系\" + 0.000*\"毒性\" + 0.000*\"市场监督管理局执法人员\"'),\n",
      " (10,\n",
      "  '0.024*\"治疗\" + 0.016*\"准许\" + 0.012*\"答辩意见\" + 0.011*\"类别\" + 0.009*\"笔录\" + '\n",
      "  '0.007*\"机打发票\" + 0.007*\"黑木耳\" + 0.007*\"灵芝孢子粉\" + 0.007*\"检验检疫\" + 0.006*\"观点\"')]\n"
     ]
    }
   ],
   "source": [
    "# Print the Keyword in the 10 topics\n",
    "pprint(lda_model.print_topics(11))\n",
    "# doc_lda = lda_model[corpus]"
   ]
  },
  {
   "cell_type": "markdown",
   "metadata": {},
   "source": [
    "<h3>lda在colab上运行</h3>"
   ]
  }
 ],
 "metadata": {
  "kernelspec": {
   "display_name": "Python 3",
   "language": "python",
   "name": "python3"
  },
  "language_info": {
   "codemirror_mode": {
    "name": "ipython",
    "version": 3
   },
   "file_extension": ".py",
   "mimetype": "text/x-python",
   "name": "python",
   "nbconvert_exporter": "python",
   "pygments_lexer": "ipython3",
   "version": "3.8.5"
  }
 },
 "nbformat": 4,
 "nbformat_minor": 4
}
